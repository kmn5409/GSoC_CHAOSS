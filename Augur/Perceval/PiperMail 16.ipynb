{
 "cells": [
  {
   "cell_type": "code",
   "execution_count": 1,
   "metadata": {
    "collapsed": true
   },
   "outputs": [],
   "source": [
    "import augur\n",
    "from augur.piper_reader import PiperMail\n",
    "from sqlalchemy.ext.declarative import declarative_base\n",
    "import json\n",
    "import pandas as pd\n",
    "from perceval.backends.core.pipermail import Pipermail,PipermailList\n",
    "from perceval.backends.core.mbox import MBox\n",
    "import perceval\n",
    "import os, os.path\n",
    "import sqlalchemy as s\n",
    "from sqlalchemy.orm import scoped_session, sessionmaker\n",
    "import datetime\n",
    "import numpy as np\n",
    "from dateutil.parser import parse"
   ]
  },
  {
   "cell_type": "markdown",
   "metadata": {},
   "source": [
    "## Load:\n",
    "First loads the users data from 'augur.config.json' so will take the Database information (e.g. name of database, port of database). Then connects to the database using augur.App.ghtorrentplus() and also loads the piper_reader and loads the path to the list of mailing lists 'runtine/mailing_lists.csv'"
   ]
  },
  {
   "cell_type": "code",
   "execution_count": 2,
   "metadata": {
    "collapsed": true
   },
   "outputs": [],
   "source": [
    "if(\"notebooks\" not in os.getcwd()):\n",
    "    os.chdir(\"notebooks\")\n",
    "augurApp = augur.Application('../augur.config.json')\n",
    "connect,list1,path = augurApp.github_issues()\n",
    "token = list1[5]\n",
    "DB_STR = 'mysql+pymysql://{}:{}@{}:{}/{}?charset=utf8'.format(\n",
    "            list1[0], list1[1], list1[2],\\\n",
    "            list1[3], list1[4]\n",
    "        )\n",
    "db = s.create_engine(DB_STR)\n",
    "Piper, path= augurApp.piper()"
   ]
  },
  {
   "cell_type": "markdown",
   "metadata": {},
   "source": [
    "## Connect:\n",
    "\n",
    "Queries what tables are in the database and determines if 'mail_lists' is there if it is 'mail_lists' is set as 'True' if it isn't 'mail_lists' is set at 'False'. Then we determine what mailing lists are in 'mailing_list_jobs' and we determine how many rows are in it. If 'mailing_list_jobs' is not in the Database it is created and the column 'augurlistID' is set as the primary key. We then add a connection to 'mailing_list_jobs' so that we can change the column 'last_message_date' if new messages were downloaded for a mailing list."
   ]
  },
  {
   "cell_type": "code",
   "execution_count": 3,
   "metadata": {},
   "outputs": [
    {
     "name": "stdout",
     "output_type": "stream",
     "text": [
      "['github_issues', 'github_issues_2', 'github_issues_repo_jobs', 'github_issues_sentiment_scores', 'github_issues_sentiment_scores_senticr', 'github_pull_request_repo_jobs', 'github_pull_requests', 'github_pull_requests_2', 'github_pull_requests_sentiment_scores', 'github_pull_requests_sentiment_scores_2', 'github_pull_requests_sentiment_scores_senticr', 'issue_response_time', 'issue_response_time2', 'issue_response_time_3', 'mail_lists', 'mail_lists_sentiment_scores', 'mail_lists_sentiment_scores_senticr', 'mailing_list_jobs']\n",
      "         project\n",
      "0  gluster-users\n",
      "1     aalldp-dev\n"
     ]
    }
   ],
   "source": [
    "table_names = s.inspect(db).get_table_names()\n",
    "print(table_names)\n",
    "val = False\n",
    "mail_lists = True\n",
    "numb = 0\n",
    "if(\"mail_lists\" not in table_names):\n",
    "    mail_lists = False\n",
    "if(\"mailing_list_jobs\" in table_names):\n",
    "    lists_createdSQL = s.sql.text(\"\"\"SELECT project FROM mailing_list_jobs\"\"\")\n",
    "    df1 = pd.read_sql(lists_createdSQL, db)\n",
    "    print(df1)\n",
    "    val = True\n",
    "    val = db.engine.execute(\"\"\"SELECT augurlistID FROM \n",
    "                                   mailing_list_jobs\n",
    "                                   ORDER BY augurlistID DESC LIMIT 1\"\"\")\n",
    "    for i in val:\n",
    "        numb = i['augurlistID']\n",
    "    \n",
    "else:\n",
    "    columns2 = \"augurlistID\",\"backend_name\",\"mailing_list_url\",\"project\",\"last_message_date\"\n",
    "    df_mail_list = pd.DataFrame(columns=columns2)\n",
    "    df_mail_list.to_sql(name=\"mailing_list_jobs\",con=db,if_exists='replace',index=False,\n",
    "                        dtype={'augurlistID': s.types.Integer(),\n",
    "                               'backend_name': s.types.VARCHAR(length=300),\n",
    "                               'mailing_list_url': s.types.VARCHAR(length=300),\n",
    "                               'project': s.types.VARCHAR(length=300),\n",
    "                               'last_message_date': s.types.DateTime()\n",
    "                        })\n",
    "    lists_createdSQL = s.sql.text(\"\"\"SELECT project FROM mailing_list_jobs\"\"\")\n",
    "    df1 = pd.read_sql(lists_createdSQL, db)\n",
    "    db.execute(\"ALTER TABLE mailing_list_jobs ADD PRIMARY KEY (augurlistID)\")\n",
    "    print(\"Created Table\")\n",
    "Base = declarative_base(db)\n",
    "class table(Base):\n",
    "    __tablename__ = 'mailing_list_jobs'\n",
    "    __table_args__={'autoload':True}\n",
    "    \n",
    "Session = sessionmaker(bind=db)\n",
    "session = Session()\n",
    "res = session.query(table).all()"
   ]
  },
  {
   "cell_type": "markdown",
   "metadata": {},
   "source": [
    "## Sifting through messages:\n",
    "\n",
    "The function 'write_message' is used to fetch the messages from the downloaded MBox's. The messages downloaded can either be from the last message was downloaded when the jupyter notebook was downloaded previously or if it's the first time all the messages are downloaded. The function 'write_message' then determines which message contains the full message thread by looking to see if the 'ID' for the message is stored in 'References'. Only if the next message downloaded does not reference the previous message will the message be added to dictionary and if a certain amount of messages are stored it is added to the table 'mail_lists' using piper_reader."
   ]
  },
  {
   "cell_type": "code",
   "execution_count": 4,
   "metadata": {
    "collapsed": true
   },
   "outputs": [],
   "source": [
    "def write_message(table,repo,type_archive,mail_check,pos,db,res,session,archives,numb,mail_lists,time=None):\n",
    "    thread = None\n",
    "    store = None\n",
    "    k = 0\n",
    "    di = {}\n",
    "    if(time is None):\n",
    "        time = Piper.convert_date(\"Thu, 1 Dec 2010 20:37:11 +0000\")\n",
    "    for message in repo.fetch(from_date=time):\n",
    "        if(type_archive == 'not_new'):\n",
    "            mess_check = Piper.convert_date(message['data']['Date'])\n",
    "        if(type_archive == 'not_new' and mess_check <= time ):\n",
    "            continue            \n",
    "        elif(type_archive == 'not_new' and mess_check > time):\n",
    "            mail_check[pos] = 'update'\n",
    "            \n",
    "        ID = message['data']['Message-ID']\n",
    "        try:\n",
    "            message['data']['References']                           \n",
    "            if((not thread == None) and (thread['data']['Message-ID'] not in message['data']['References'])):\n",
    "                di[k] = thread\n",
    "                store = None\n",
    "                k+=1\n",
    "                \n",
    "            elif( (not store == None) and (store['data']['Message-ID'] not in message['data']['References'])):\n",
    "                di[k] = store\n",
    "                store = None\n",
    "                k+=1\n",
    "            thread = message\n",
    "        except:\n",
    "            if(not thread == None):\n",
    "                di[k] = thread\n",
    "                thread = None\n",
    "                k+=1\n",
    "            elif(not store == None):\n",
    "                di[k] = store\n",
    "                store = None\n",
    "                k+=1\n",
    "            store = message\n",
    "        if(len(di) == 5000):\n",
    "            print(\"Before\")\n",
    "            numb,mail_lists,mail_check = Piper.make(table,db,mail_check,archives,mail_lists,res,session,di,numb)\n",
    "            print(\"Hey\")\n",
    "            di = {}\n",
    "            k = 0\n",
    "    if(len(di) < 5000 and len(di) > 0):\n",
    "        print(\"right after\")\n",
    "        print(len(di))\n",
    "        numb,mail_lists,mail_check = Piper.make(table,db,mail_check,archives,mail_lists,res,session,di,numb)\n",
    "        di = {}\n",
    "        k = 0\n",
    "    else:\n",
    "        di = {}\n",
    "        k = 0\n",
    "    if( (thread == None) and (store == None)):\n",
    "        good = 1\n",
    "    elif( (thread == None) and (not store == None) ):\n",
    "        di[k] = store\n",
    "    elif( (store == None) and (not thread == None)):\n",
    "        di[k] = thread\n",
    "    elif(store['data']['Message-ID'] in thread['data']['References']):\n",
    "        di[k] = thread\n",
    "    else:\n",
    "        di[k] = store\n",
    "    if(bool(di)):\n",
    "        print(\"outside\")\n",
    "        numb,mail_lists,mail_check = Piper.make(table,db,mail_check,archives,mail_lists,res,session,di,numb)\n",
    "    return numb,mail_lists\n",
    "    "
   ]
  },
  {
   "cell_type": "markdown",
   "metadata": {},
   "source": [
    "## Iteration through mailing lists:\n",
    "\n",
    "Determines if the file with the mailing lists was created, if not it writes a set of default mailing lists (to show how the program would work). The mailing lists are then loaded into a dataframe and we iterate through the mailing lists by grouping them by the links. We then check to see if the mailing list is in the 'mailing_list_jobs' table in the SQL Database and if so we assign 'not_new' to 'mail_check' and store the last message date that is stored in 'mailing_list_jobs' to 'time'. If the mailing list is not in 'mailing_list_jobs' we assign 'new' to 'mail_check' and the date is set to 'None' for 'time'."
   ]
  },
  {
   "cell_type": "code",
   "execution_count": 5,
   "metadata": {
    "scrolled": false
   },
   "outputs": [
    {
     "name": "stdout",
     "output_type": "stream",
     "text": [
      "yeah\n",
      "Link,mail_list\n",
      "\n",
      "https://lists.gluster.org/pipermail/,\"gluster-users\"\n",
      "\n",
      "['gluster-users'] mail_list\n",
      "{'gluster-users': False}\n"
     ]
    },
    {
     "name": "stderr",
     "output_type": "stream",
     "text": [
      "2018-09-23 17:05:15 keanu-Inspiron-5567 perceval.backends.core.pipermail[25335] INFO Looking for messages from 'https://lists.gluster.org/pipermail/gluster-users/' since 2018-09-23 20:59:26\n",
      "2018-09-23 17:05:15 keanu-Inspiron-5567 perceval.backends.core.pipermail[25335] INFO Downloading mboxes from 'https://lists.gluster.org/pipermail/gluster-users/' to since 2018-09-23 20:59:26\n"
     ]
    },
    {
     "name": "stdout",
     "output_type": "stream",
     "text": [
      "2018-09-23 20:59:26\n",
      "<class 'pandas._libs.tslib.Timestamp'>\n"
     ]
    },
    {
     "name": "stderr",
     "output_type": "stream",
     "text": [
      "2018-09-23 17:05:17 keanu-Inspiron-5567 perceval.backends.core.pipermail[25335] INFO 1/125 MBoxes downloaded\n",
      "2018-09-23 17:05:18 keanu-Inspiron-5567 perceval.backends.core.mbox[25335] WARNING Field 'Message-ID' not found in message the finder when trying to copy a file to the share (CIFS) I get an error that says \"The Finder can't complete the operation because some data is \"export-20100324(2).tar.bz can't be read or written. (Error code -36)\". Additionally when I try and copy a file it will create the stub of the file, but wont actually copy the data.; ignoring\n",
      "2018-09-23 17:05:18 keanu-Inspiron-5567 perceval.backends.core.mbox[25335] WARNING Field 'Message-ID' not found in message the Finder when I do a \"Get Info\" to look at the sharing & permissions settings it states that I have unknown access. ; ignoring\n",
      "2018-09-23 17:05:18 keanu-Inspiron-5567 perceval.backends.core.mbox[25335] WARNING Field 'Message-ID' not found in message the finder and from the command line I am able to create directories. ; ignoring\n",
      "2018-09-23 17:05:18 keanu-Inspiron-5567 perceval.backends.core.mbox[25335] WARNING Field 'Message-ID' not found in message a glusterfs client; ignoring\n",
      "2018-09-23 17:05:18 keanu-Inspiron-5567 perceval.backends.core.mbox[25335] WARNING Field 'Message-ID' not found in message a glusterfsd brick; ignoring\n",
      "2018-09-23 17:05:18 keanu-Inspiron-5567 perceval.backends.core.mbox[25335] WARNING Field 'Message-ID' not found in message another glusterfsd brick; ignoring\n",
      "2018-09-23 17:05:19 keanu-Inspiron-5567 perceval.backends.core.mbox[25335] WARNING Field 'Message-ID' not found in message what I understand of gluster, you might get this kind of bandwidth if the target files happen to be on different servers, but I'm not sure how you'd make sure they were on different servers in order to increase capacity, unless you effectively raid-1 your data across all servers. Even then, you'd need some way of round-robining that's consistent across all clients.; ignoring\n",
      "2018-09-23 17:05:19 keanu-Inspiron-5567 perceval.backends.core.mbox[25335] WARNING Field 'Message-ID' not found in message what I understand of gluster, you might get this kind of bandwidth if the target files happen to be on different servers, but I'm not sure how you'd make sure they were on different servers in order to increase capacity, unless you effectively raid-1 your data across all servers. Even then, you'd need some way of round-robining that's consistent across all clients.; ignoring\n",
      "2018-09-23 17:05:21 keanu-Inspiron-5567 perceval.backends.core.mbox[25335] WARNING Field 'Message-ID' not found in message the Admin doc, I can do a 'replace-brick' operation but that ; ignoring\n",
      "2018-09-23 17:05:21 keanu-Inspiron-5567 perceval.backends.core.mbox[25335] WARNING Field 'Message-ID' not found in message nfs.log:; ignoring\n",
      "2018-09-23 17:05:21 keanu-Inspiron-5567 perceval.backends.core.mbox[25335] WARNING Field 'Message-ID' not found in message another server we stressed the apache server calling a mod_perl script  printing an HTML page with apache environment variables. We used httperf to stress the web server. So, we haven't load performance problems but when we tested the availability of GFS we faced with a volume mounting hang from the client. We tested rebooting one of the GFS nodes and when this happens the client hang in writing on the GFS volume and df doesn't respond.; ignoring\n",
      "2018-09-23 17:05:22 keanu-Inspiron-5567 perceval.backends.core.mbox[25335] WARNING Field 'Message-ID' not found in message the volume info you provided, the export directories are different; ignoring\n",
      "2018-09-23 17:05:22 keanu-Inspiron-5567 perceval.backends.core.mbox[25335] WARNING Field 'Message-ID' not found in message the volume info you provided, the export directories are different; ignoring\n",
      "2018-09-23 17:05:23 keanu-Inspiron-5567 perceval.backends.core.mbox[25335] WARNING Field 'Message-ID' not found in message the other node,; ignoring\n",
      "2018-09-23 17:05:23 keanu-Inspiron-5567 perceval.backends.core.mbox[25335] WARNING Field 'Message-ID' not found in message fw1:; ignoring\n",
      "2018-09-23 17:05:23 keanu-Inspiron-5567 perceval.backends.core.mbox[25335] WARNING Field 'Message-ID' not found in message Vijay:; ignoring\n",
      "2018-09-23 17:05:24 keanu-Inspiron-5567 perceval.backends.core.mbox[25335] WARNING Field 'Message-ID' not found in message existing nodes trying to do:; ignoring\n",
      "2018-09-23 17:05:24 keanu-Inspiron-5567 perceval.backends.core.mbox[25335] WARNING Field 'Message-ID' not found in message existing nodes I see operating-version=1; ignoring\n",
      "2018-09-23 17:05:24 keanu-Inspiron-5567 perceval.backends.core.mbox[25335] WARNING Field 'Message-ID' not found in message existing nodes trying to do:; ignoring\n",
      "2018-09-23 17:05:24 keanu-Inspiron-5567 perceval.backends.core.mbox[25335] WARNING Field 'Message-ID' not found in message existing nodes I see operating-version=1; ignoring\n",
      "2018-09-23 17:05:24 keanu-Inspiron-5567 perceval.backends.core.mbox[25335] WARNING Field 'Message-ID' not found in message existing nodes trying to do:; ignoring\n",
      "2018-09-23 17:05:24 keanu-Inspiron-5567 perceval.backends.core.mbox[25335] WARNING Field 'Message-ID' not found in message existing nodes I see operating-version=1; ignoring\n",
      "2018-09-23 17:05:24 keanu-Inspiron-5567 perceval.backends.core.mbox[25335] WARNING Field 'Message-ID' not found in message existing nodes trying to do:; ignoring\n",
      "2018-09-23 17:05:24 keanu-Inspiron-5567 perceval.backends.core.mbox[25335] WARNING Field 'Message-ID' not found in message existing nodes I see operating-version=1; ignoring\n",
      "2018-09-23 17:05:24 keanu-Inspiron-5567 perceval.backends.core.mbox[25335] WARNING Field 'Message-ID' not found in message this moment on, 10.243.0.24 lost the /home share.; ignoring\n",
      "2018-09-23 17:05:24 keanu-Inspiron-5567 perceval.backends.core.mbox[25335] WARNING Field 'Message-ID' not found in message the afr extended attributes, it seems you have hit a metadata-split-brain of the top level (brick) directory (having gfid 01). If you are you able to perform I/O? on all files from the mount point without error (EIO) and the? file contents are identical on both the bricks (check with md5sum), you could? safely clear the afr extended attributes of the bricks:; ignoring\n",
      "2018-09-23 17:05:24 keanu-Inspiron-5567 perceval.backends.core.mbox[25335] WARNING Field 'Message-ID' not found in message a single node that looks reasonable for gluster. You'd probably get 3-4 times that with native local access.; ignoring\n",
      "2018-09-23 17:05:25 keanu-Inspiron-5567 perceval.backends.core.mbox[25335] WARNING Field 'Message-ID' not found in message that background my approach was to build relatively small raid6 bricks (9 * 2 TB + 1 Hot-Spare); ignoring\n",
      "2018-09-23 17:05:25 keanu-Inspiron-5567 perceval.backends.core.mbox[25335] WARNING Field 'Message-ID' not found in message your blogs I understand you didn't, did you experienced ny issues?; ignoring\n",
      "2018-09-23 17:05:25 keanu-Inspiron-5567 perceval.backends.core.mbox[25335] WARNING Field 'Message-ID' not found in message that point of view PrestoPrime strongly recommended against raid5 and AT LEAST for ; ignoring\n",
      "2018-09-23 17:05:25 keanu-Inspiron-5567 perceval.backends.core.mbox[25335] WARNING Field 'Message-ID' not found in message the mnt.log:; ignoring\n",
      "2018-09-23 17:05:25 keanu-Inspiron-5567 perceval.backends.core.mbox[25335] WARNING Field 'Message-ID' not found in message inside the atom01 (the VM) the filesystem becomes readonly.But in contrast tohttp://epboven.home.xs4all.nl/gluster-migrate.html; ignoring\n",
      "2018-09-23 17:05:25 keanu-Inspiron-5567 perceval.backends.core.mbox[25335] WARNING Field 'Message-ID' not found in message Khoi Mai <KHOIMAI at UP.COM> ; ignoring\n",
      "2018-09-23 17:05:25 keanu-Inspiron-5567 perceval.backends.core.mbox[25335] WARNING Field 'Message-ID' not found in message memory, Bugzilla has some kind of XML-RPC interface as well; ignoring\n",
      "2018-09-23 17:05:26 keanu-Inspiron-5567 perceval.backends.core.mbox[25335] WARNING Field 'Message-ID' not found in message this backtrace, it seems like the problem is with the libcrypto which is provided by openssl-libs. Most likely the glusterfs packages were linked with a different version of libcrypto when they were built, which isn't compatible with what has been provided in you system.; ignoring\n"
     ]
    },
    {
     "name": "stderr",
     "output_type": "stream",
     "text": [
      "2018-09-23 17:05:26 keanu-Inspiron-5567 perceval.backends.core.mbox[25335] WARNING Field 'Message-ID' not found in message memory, IPv6 support is something we're working on for GlusterFS; ignoring\n",
      "2018-09-23 17:05:26 keanu-Inspiron-5567 perceval.backends.core.mbox[25335] WARNING Field 'Message-ID' not found in message memory, Niels is on holidays for a few days.  So, if you; ignoring\n",
      "2018-09-23 17:05:27 keanu-Inspiron-5567 perceval.backends.core.mbox[25335] WARNING Field 'Message-ID' not found in message what I understand after reading the gluster docs and doing my own lab tests, it seems all the data contained on the replica pair will be lost of both servers in the replica fail.  For example, if I loose nodes 3 and 4 at the same time, all the data contained on those nodes is lost.  How can I get gluster to identify a node outage and replicate the data from server3 to servers1&2 if server 4 fails?  Is there some sort of command I can run so the data on node 4 gets replicated to node 1 or 2?; ignoring\n",
      "2018-09-23 17:05:27 keanu-Inspiron-5567 perceval.backends.core.mbox[25335] WARNING Field 'Message-ID' not found in message slide 5 of the corresponding slides:; ignoring\n",
      "2018-09-23 17:05:27 keanu-Inspiron-5567 perceval.backends.core.mbox[25335] WARNING Field 'Message-ID' not found in message 3f94f5e0c31e18f4957aeb7fa43a074a290fbf9f Mon Sep 17 00:00:00 2001; ignoring\n",
      "2018-09-23 17:05:28 keanu-Inspiron-5567 perceval.backends.core.mbox[25335] WARNING Field 'Message-ID' not found in message the Gluster side, you could try tuning the network.ping-timeout; ignoring\n",
      "2018-09-23 17:05:28 keanu-Inspiron-5567 perceval.backends.core.mbox[25335] WARNING Field 'Message-ID' not found in message the FUSE mount (as root), the directory shows up as empty:; ignoring\n",
      "2018-09-23 17:05:28 keanu-Inspiron-5567 perceval.backends.core.mbox[25335] WARNING Field 'Message-ID' not found in message the FUSE mount (as root), the directory shows up as empty:; ignoring\n",
      "2018-09-23 17:05:29 keanu-Inspiron-5567 perceval.backends.core.mbox[25335] WARNING Field 'Message-ID' not found in message there I would suggest that you see why the Mount is failing, I think that the System is not fully up when a NFS mount is tried, so I would use the LINKDELAY in the interface scripts. Ifcfg-eth0; ignoring\n",
      "2018-09-23 17:05:29 keanu-Inspiron-5567 perceval.backends.core.mbox[25335] WARNING Field 'Message-ID' not found in message the code, it looks like a log that was supposed to be logged in \"DEBUG\" level; ignoring\n",
      "2018-09-23 17:05:29 keanu-Inspiron-5567 perceval.backends.core.mbox[25335] WARNING Field 'Message-ID' not found in message the brick logs, it seems the changelog-notifier thread has got; ignoring\n",
      "2018-09-23 17:05:29 keanu-Inspiron-5567 perceval.backends.core.mbox[25335] WARNING Field 'Message-ID' not found in message the brick logs, it seems the changelog-notifier thread has got; ignoring\n",
      "2018-09-23 17:05:29 keanu-Inspiron-5567 perceval.backends.core.mbox[25335] WARNING Field 'Message-ID' not found in message the brick logs, it seems the changelog-notifier thread has got; ignoring\n",
      "2018-09-23 17:05:29 keanu-Inspiron-5567 perceval.backends.core.mbox[25335] WARNING Field 'Message-ID' not found in message the brick logs, it seems the changelog-notifier thread has got; ignoring\n",
      "2018-09-23 17:05:29 keanu-Inspiron-5567 perceval.backends.core.mbox[25335] WARNING Field 'Message-ID' not found in message here I delete deleted files from the slave. It was easy.; ignoring\n",
      "2018-09-23 17:05:29 keanu-Inspiron-5567 perceval.backends.core.mbox[25335] WARNING Field 'Message-ID' not found in message the brick logs, it seems the changelog-notifier thread has got; ignoring\n",
      "2018-09-23 17:05:29 keanu-Inspiron-5567 perceval.backends.core.mbox[25335] WARNING Field 'Message-ID' not found in message gdb I see this:; ignoring\n",
      "2018-09-23 17:05:29 keanu-Inspiron-5567 perceval.backends.core.mbox[25335] WARNING Field 'Message-ID' not found in message the brick logs, it seems the changelog-notifier thread has got; ignoring\n",
      "2018-09-23 17:05:29 keanu-Inspiron-5567 perceval.backends.core.mbox[25335] WARNING Field 'Message-ID' not found in message the log I can clearly see the problematic node is; ignoring\n",
      "2018-09-23 17:05:30 keanu-Inspiron-5567 perceval.backends.core.mbox[25335] WARNING Field 'Message-ID' not found in message the above log it looks like node 11 tried to handshake with 12, but; ignoring\n",
      "2018-09-23 17:05:30 keanu-Inspiron-5567 perceval.backends.core.mbox[25335] WARNING Field 'Message-ID' not found in message master:; ignoring\n",
      "2018-09-23 17:05:30 keanu-Inspiron-5567 perceval.backends.core.mbox[25335] WARNING Field 'Message-ID' not found in message the brick logs, it seems the changelog-notifier thread has got; ignoring\n",
      "2018-09-23 17:05:30 keanu-Inspiron-5567 perceval.backends.core.mbox[25335] WARNING Field 'Message-ID' not found in message the above log it looks like node 11 tried to handshake with 12, but; ignoring\n",
      "2018-09-23 17:05:30 keanu-Inspiron-5567 perceval.backends.core.mbox[25335] WARNING Field 'Message-ID' not found in message the above log it looks like node 11 tried to handshake with 12, but; ignoring\n",
      "2018-09-23 17:05:30 keanu-Inspiron-5567 perceval.backends.core.mbox[25335] WARNING Field 'Message-ID' not found in message master:; ignoring\n",
      "2018-09-23 17:05:30 keanu-Inspiron-5567 perceval.backends.core.mbox[25335] WARNING Field 'Message-ID' not found in message the brick logs, it seems the changelog-notifier thread has got; ignoring\n",
      "2018-09-23 17:05:30 keanu-Inspiron-5567 perceval.backends.core.mbox[25335] WARNING Field 'Message-ID' not found in message glusterd log file, I find Cksums error as following:; ignoring\n",
      "2018-09-23 17:05:30 keanu-Inspiron-5567 perceval.backends.core.mbox[25335] WARNING Field 'Message-ID' not found in message 'man 3 bzero' on Fedora 22:; ignoring\n",
      "2018-09-23 17:05:30 keanu-Inspiron-5567 perceval.backends.core.mbox[25335] WARNING Field 'Message-ID' not found in message 'man 3 index' on Fedora 22:; ignoring\n",
      "2018-09-23 17:05:30 keanu-Inspiron-5567 perceval.backends.core.mbox[25335] WARNING Field 'Message-ID' not found in message glusterd log file, I find Cksums error as following:; ignoring\n",
      "2018-09-23 17:05:30 keanu-Inspiron-5567 perceval.backends.core.mbox[25335] WARNING Field 'Message-ID' not found in message glusterd log file, I find Cksums error as following:; ignoring\n",
      "2018-09-23 17:05:30 keanu-Inspiron-5567 perceval.backends.core.mbox[25335] WARNING Field 'Message-ID' not found in message glusterd log file, I find Cksums error as following:; ignoring\n",
      "2018-09-23 17:05:30 keanu-Inspiron-5567 perceval.backends.core.mbox[25335] WARNING Field 'Message-ID' not found in message Douglas Landgrafs report of FISL16:; ignoring\n",
      "2018-09-23 17:05:30 keanu-Inspiron-5567 perceval.backends.core.mbox[25335] WARNING Field 'Message-ID' not found in message the mailinglist archive I could understand this was a problem in gluster version 3.4 and should be fixed. We started out from version 3.5 and upgraded in the meantime to version 3.6.4 but the error in the errorlog still exists.; ignoring\n",
      "2018-09-23 17:05:30 keanu-Inspiron-5567 perceval.backends.core.mbox[25335] WARNING Field 'Message-ID' not found in message the mailinglist archive I could understand this was a problem in gluster version 3.4 and should be fixed. We started out from version 3.5 and upgraded in the meantime to version 3.6.4 but the error in the errorlog still exists.; ignoring\n",
      "2018-09-23 17:05:30 keanu-Inspiron-5567 perceval.backends.core.mbox[25335] WARNING Field 'Message-ID' not found in message my understanding, you current have two pending problems:; ignoring\n",
      "2018-09-23 17:05:31 keanu-Inspiron-5567 perceval.backends.core.mbox[25335] WARNING Field 'Message-ID' not found in message the mailinglist archive I could understand this was a problem in gluster version 3.4 and should be fixed. We started out from version 3.5 and upgraded in the meantime to version 3.6.4 but the error in the errorlog still exists.; ignoring\n",
      "2018-09-23 17:05:31 keanu-Inspiron-5567 perceval.backends.core.mbox[25335] WARNING Field 'Message-ID' not found in message the mailinglist archive I could understand this was a problem in gluster version 3.4 and should be fixed. We started out from version 3.5 and upgraded in the meantime to version 3.6.4 but the error in the errorlog still exists.; ignoring\n"
     ]
    },
    {
     "name": "stderr",
     "output_type": "stream",
     "text": [
      "2018-09-23 17:05:31 keanu-Inspiron-5567 perceval.backends.core.mbox[25335] WARNING Field 'Message-ID' not found in message my understanding, you current have two pending problems:; ignoring\n",
      "2018-09-23 17:05:31 keanu-Inspiron-5567 perceval.backends.core.mbox[25335] WARNING Field 'Message-ID' not found in message QA2; ignoring\n",
      "2018-09-23 17:05:32 keanu-Inspiron-5567 perceval.backends.core.mbox[25335] WARNING Field 'Message-ID' not found in message the other node:; ignoring\n",
      "2018-09-23 17:05:32 keanu-Inspiron-5567 perceval.backends.core.mbox[25335] WARNING Field 'Message-ID' not found in message the logs of gluster at /var/log/glusterfs , we observed some errors ; ignoring\n",
      "2018-09-23 17:05:32 keanu-Inspiron-5567 perceval.backends.core.mbox[25335] WARNING Field 'Message-ID' not found in message the logs of gluster at /var/log/glusterfs , we observed some errors ; ignoring\n",
      "2018-09-23 17:05:32 keanu-Inspiron-5567 perceval.backends.core.mbox[25335] WARNING Field 'Message-ID' not found in message existing host gluster01/02:; ignoring\n",
      "2018-09-23 17:05:32 keanu-Inspiron-5567 perceval.backends.core.mbox[25335] WARNING Field 'Message-ID' not found in message existing host gluster03/04:; ignoring\n",
      "2018-09-23 17:05:32 keanu-Inspiron-5567 perceval.backends.core.mbox[25335] WARNING Field 'Message-ID' not found in message new hosts gluster05/gluster06:; ignoring\n",
      "2018-09-23 17:05:33 keanu-Inspiron-5567 perceval.backends.core.mbox[25335] WARNING Field 'Message-ID' not found in message the add brick I did this morning, only two VMs seems to have \"resisted\" it; ignoring\n",
      "2018-09-23 17:05:33 keanu-Inspiron-5567 perceval.backends.core.mbox[25335] WARNING Field 'Message-ID' not found in message that point, the VM just has a lot of I/O errors showing whenever I; ignoring\n",
      "2018-09-23 17:05:34 keanu-Inspiron-5567 perceval.backends.core.mbox[25335] WARNING Field 'Message-ID' not found in message the geo-replicated logs, it seems I have a SSH configuration issue:; ignoring\n",
      "2018-09-23 17:05:34 keanu-Inspiron-5567 perceval.backends.core.mbox[25335] WARNING Field 'Message-ID' not found in message glusterd log:; ignoring\n",
      "2018-09-23 17:05:34 keanu-Inspiron-5567 perceval.backends.core.mbox[25335] WARNING Field 'Message-ID' not found in message those options, network.remote-dio seems most related to your aio; ignoring\n",
      "2018-09-23 17:05:34 keanu-Inspiron-5567 perceval.backends.core.mbox[25335] WARNING Field 'Message-ID' not found in message glusterd log:; ignoring\n",
      "2018-09-23 17:05:35 keanu-Inspiron-5567 perceval.backends.core.mbox[25335] WARNING Field 'Message-ID' not found in message log it seems that the glusterfs and glusterfsd disconnect.But I don't why disconnection happen on local sockect.; ignoring\n",
      "2018-09-23 17:05:35 keanu-Inspiron-5567 perceval.backends.core.mbox[25335] WARNING Field 'Message-ID' not found in message log it seems that the glusterfs and glusterfsd disconnect.But I don't why disconnection happen on local sockect.; ignoring\n",
      "2018-09-23 17:05:35 keanu-Inspiron-5567 perceval.backends.core.mbox[25335] WARNING Field 'Message-ID' not found in message server the second time connection even happen before disconnection.; ignoring\n",
      "2018-09-23 17:05:35 keanu-Inspiron-5567 perceval.backends.core.mbox[25335] WARNING Field 'Message-ID' not found in message a cursory look, libgfapi supports punching holes through the; ignoring\n",
      "2018-09-23 17:05:35 keanu-Inspiron-5567 perceval.backends.core.mbox[25335] WARNING Field 'Message-ID' not found in message the node where the network split happened, I see the following in /var/log/message:; ignoring\n",
      "2018-09-23 17:05:35 keanu-Inspiron-5567 perceval.backends.core.mbox[25335] WARNING Field 'Message-ID' not found in message what I can tell the same PIDs were used for both healing and normal; ignoring\n",
      "2018-09-23 17:05:36 keanu-Inspiron-5567 perceval.backends.core.mbox[25335] WARNING Field 'Message-ID' not found in message what I see, it doesn?t:; ignoring\n",
      "2018-09-23 17:05:36 keanu-Inspiron-5567 perceval.backends.core.mbox[25335] WARNING Field 'Message-ID' not found in message my point of view, swap only helps in the way it retards OOM killer process and as a sort of warning role because it slows a lot the whole OS. ; ignoring\n",
      "2018-09-23 17:05:37 keanu-Inspiron-5567 perceval.backends.core.mbox[25335] WARNING Field 'Message-ID' not found in message the information in this (sub)thread, I can not see what client; ignoring\n",
      "2018-09-23 17:05:37 keanu-Inspiron-5567 perceval.backends.core.mbox[25335] WARNING Field 'Message-ID' not found in message the brick log on the storage servers:; ignoring\n",
      "2018-09-23 17:05:37 keanu-Inspiron-5567 perceval.backends.core.mbox[25335] WARNING Field 'Message-ID' not found in message the logs I see  that parallel readdir is enabled for this volume:; ignoring\n",
      "2018-09-23 17:05:38 keanu-Inspiron-5567 perceval.backends.core.mbox[25335] WARNING Field 'Message-ID' not found in message the Admin Guide:; ignoring\n",
      "2018-09-23 17:05:38 keanu-Inspiron-5567 perceval.backends.core.mbox[25335] WARNING Field 'Message-ID' not found in message the xattr output, it looks like the files are not present on the arbiter brick & needs healing. But on the parent it does not have the pending markers set for those entries.; ignoring\n",
      "2018-09-23 17:05:38 keanu-Inspiron-5567 perceval.backends.core.mbox[25335] WARNING Field 'Message-ID' not found in message what I've seen in the getfattr output Karthik asked me to get GFIDs; ignoring\n",
      "2018-09-23 17:05:38 keanu-Inspiron-5567 perceval.backends.core.mbox[25335] WARNING Field 'Message-ID' not found in message the files you sent:; ignoring\n",
      "2018-09-23 17:05:38 keanu-Inspiron-5567 perceval.backends.core.mbox[25335] WARNING Field 'Message-ID' not found in message the files you sent:; ignoring\n",
      "2018-09-23 17:05:38 keanu-Inspiron-5567 perceval.backends.core.mbox[25335] WARNING Field 'Message-ID' not found in message the files you sent:; ignoring\n",
      "2018-09-23 17:05:38 keanu-Inspiron-5567 perceval.backends.core.mbox[25335] WARNING Field 'Message-ID' not found in message the files you sent:; ignoring\n",
      "2018-09-23 17:05:38 keanu-Inspiron-5567 perceval.backends.core.mbox[25335] WARNING Field 'Message-ID' not found in message the files you sent:; ignoring\n",
      "2018-09-23 17:05:40 keanu-Inspiron-5567 perceval.backends.core.mbox[25335] WARNING Field 'Message-ID' not found in message glances at the system logs nothing out of the ordinary; ignoring\n",
      "2018-09-23 17:05:40 keanu-Inspiron-5567 perceval.backends.core.mbox[25335] WARNING Field 'Message-ID' not found in message our test server (?nomodule-nofruit? is currently the only well-behaved share):; ignoring\n",
      "2018-09-23 17:05:40 keanu-Inspiron-5567 perceval.backends.core.mbox[25335] INFO Done. 0/108 messages fetched; 108 ignored\n",
      "2018-09-23 17:05:40 keanu-Inspiron-5567 perceval.backends.core.pipermail[25335] INFO Fetch process completed\n"
     ]
    },
    {
     "name": "stdout",
     "output_type": "stream",
     "text": [
      "Checking to see for updated messages\n",
      "{'gluster-users': False}\n",
      "Finished downloading files\n",
      "['aalldp-dev'] mail_list\n",
      "{'aalldp-dev': False}\n"
     ]
    },
    {
     "name": "stderr",
     "output_type": "stream",
     "text": [
      "2018-09-23 17:05:41 keanu-Inspiron-5567 perceval.backends.core.pipermail[25335] INFO Looking for messages from 'https://lists.opendaylight.org/pipermail/aalldp-dev/' since 2018-09-23 21:02:06\n",
      "2018-09-23 17:05:41 keanu-Inspiron-5567 perceval.backends.core.pipermail[25335] INFO Downloading mboxes from 'https://lists.opendaylight.org/pipermail/aalldp-dev/' to since 2018-09-23 21:02:06\n"
     ]
    },
    {
     "name": "stdout",
     "output_type": "stream",
     "text": [
      "2018-09-23 21:02:06\n",
      "<class 'pandas._libs.tslib.Timestamp'>\n"
     ]
    },
    {
     "name": "stderr",
     "output_type": "stream",
     "text": [
      "2018-09-23 17:05:42 keanu-Inspiron-5567 perceval.backends.core.pipermail[25335] INFO 0/2 MBoxes downloaded\n",
      "2018-09-23 17:05:42 keanu-Inspiron-5567 perceval.backends.core.mbox[25335] INFO Done. 0/0 messages fetched; 0 ignored\n",
      "2018-09-23 17:05:42 keanu-Inspiron-5567 perceval.backends.core.pipermail[25335] INFO Fetch process completed\n"
     ]
    },
    {
     "name": "stdout",
     "output_type": "stream",
     "text": [
      "Checking to see for updated messages\n",
      "{'aalldp-dev': False}\n",
      "Finished downloading files\n"
     ]
    }
   ],
   "source": [
    "if(not os.path.exists(path)):\n",
    "    file = open(path, \"w+\")\n",
    "else:\n",
    "    file = open(path, \"r\")\n",
    "    print(\"yeah\")\n",
    "if (os.stat(path).st_size == 0):\n",
    "    file.write(\"Link,mail_list\\n\")\n",
    "    file.write(\"https://lists.opendaylight.org/pipermail/,\\\"aalldp-dev\\\"\\n\")\n",
    "    file.write(\"https://lists.opendaylight.org/pipermail/,\\\"archetypes-dev\\\"\\n\")\n",
    "    print(\"Please enter the mailing lists and the links for them please\")\n",
    "    print(\"Going to the default mailing lists\")\n",
    "    file.close()\n",
    "    file = open(path,\"r\")\n",
    "\n",
    "count = 0\n",
    "for line in file:\n",
    "    print(line)\n",
    "    count+=1\n",
    "    if(count == 2):\n",
    "        break\n",
    "file.close()\n",
    "if(count == 2):\n",
    "    df = pd.read_csv(path)\n",
    "    groups = df.groupby('Link').groups\n",
    "    for group in groups:\n",
    "        link = group\n",
    "        mail_list = (df.loc[df['Link'] == group]['mail_list']).tolist()\n",
    "        print(mail_list,\"mail_list\")            \n",
    "        mail_check = {key:False for key in mail_list}\n",
    "        print(mail_check)\n",
    "        file = \"mail_list\"\n",
    "        path = \"/augur/data/archive-\" \n",
    "        #numb = 0\n",
    "        for x in range(len(mail_list)):\n",
    "            #print(link+mail[x])\n",
    "            if(mail_list[x] not in df1['project'].values ):\n",
    "                mail_check[mail_list[x]] = 'new'\n",
    "                place = os.path.join(os.getcwd() + path + mail_list[x] +'.json')           \n",
    "                repo = Pipermail(url = link+ mail_list[x] + \"/\",dirpath=\"tmp/archives_\"+mail_list[x])\n",
    "                numb,mail_lists = write_message(table,repo,'new',mail_check,mail_list[x],db,res,session,\\\n",
    "                                     [mail_list[x]],numb,mail_lists)\n",
    "                print(\"Created File\",mail_list[x])\n",
    "            else:\n",
    "                last_updatedSQL = s.sql.text(\"\"\"SELECT last_message_date FROM \n",
    "                mailing_list_jobs WHERE project = \"\"\" +  \"'\" + mail_list[x] + \"'\")\n",
    "                last_updated_df = pd.read_sql(last_updatedSQL, db)\n",
    "                time = (last_updated_df['last_message_date'])  \n",
    "                time = time.astype(object)\n",
    "                place = os.path.join(os.getcwd() + path + 'temp_' + mail_list[x] +'.json')       \n",
    "                repo = Pipermail(url = link+ mail_list[x] + \"/\",dirpath=\"tmp/archives_\"+mail_list[x])\n",
    "                print(time[0])\n",
    "                print(type(time[0]))\n",
    "                numb,mail_lists = write_message(table,repo,'not_new',mail_check,mail_list[x],db,\\\n",
    "                              res,session,[mail_list[x]],numb,mail_lists,time[0])\n",
    "                print(\"Checking to see for updated messages\")\n",
    "        print(mail_check)\n",
    "        print(\"Finished downloading files\")"
   ]
  }
 ],
 "metadata": {
  "kernelspec": {
   "display_name": "Python (augur)",
   "language": "python",
   "name": "augur"
  },
  "language_info": {
   "codemirror_mode": {
    "name": "ipython",
    "version": 3
   },
   "file_extension": ".py",
   "mimetype": "text/x-python",
   "name": "python",
   "nbconvert_exporter": "python",
   "pygments_lexer": "ipython3",
   "version": "3.6.5"
  }
 },
 "nbformat": 4,
 "nbformat_minor": 2
}
