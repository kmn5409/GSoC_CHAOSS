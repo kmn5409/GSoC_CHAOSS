{
 "cells": [
  {
   "cell_type": "code",
   "execution_count": 1,
   "metadata": {},
   "outputs": [],
   "source": [
    "import augur\n",
    "from augur.piper_reader import PiperMail\n",
    "from sqlalchemy.ext.declarative import declarative_base\n",
    "import json\n",
    "import pandas as pd\n",
    "from perceval.backends.core.pipermail import Pipermail,PipermailList\n",
    "from perceval.backends.core.mbox import MBox\n",
    "import perceval\n",
    "import os, os.path\n",
    "import sqlalchemy as s\n",
    "from sqlalchemy.orm import scoped_session, sessionmaker\n",
    "import datetime\n",
    "import numpy as np\n",
    "from dateutil.parser import parse"
   ]
  },
  {
   "cell_type": "markdown",
   "metadata": {},
   "source": [
    "## Load:\n",
    "First loads the users data from 'augur.config.json' so will take the Database information (e.g. name of database, port of database). Then connects to the database using augur.App.ghtorrentplus() and also loads the piper_reader and loads the path to the list of mailing lists 'runtine/mailing_lists.csv'"
   ]
  },
  {
   "cell_type": "code",
   "execution_count": 2,
   "metadata": {
    "collapsed": true
   },
   "outputs": [],
   "source": [
    "if(\"notebooks\" not in os.getcwd()):\n",
    "    os.chdir(\"notebooks\")\n",
    "augurApp = augur.Application('../augur.config.json')\n",
    "connect,list1,path = augurApp.github_issues()\n",
    "token = list1[5]\n",
    "DB_STR = 'mysql+pymysql://{}:{}@{}:{}/{}?charset=utf8'.format(\n",
    "            list1[0], list1[1], list1[2],\\\n",
    "            list1[3], list1[4]\n",
    "        )\n",
    "db = s.create_engine(DB_STR)\n",
    "Piper, path= augurApp.piper()"
   ]
  },
  {
   "cell_type": "markdown",
   "metadata": {},
   "source": [
    "## Connect:\n",
    "\n",
    "Queries what tables are in the database and determines if 'mail_lists' is there if it is 'mail_lists' is set as 'True' if it isn't 'mail_lists' is set at 'False'. Then we determine what mailing lists are in 'mailing_list_jobs' and we determine how many rows are in it. If 'mailing_list_jobs' is not in the Database it is created and the column 'augurlistID' is set as the primary key. We then add a connection to 'mailing_list_jobs' so that we can change the column 'last_message_date' if new messages were downloaded for a mailing list."
   ]
  },
  {
   "cell_type": "code",
   "execution_count": 3,
   "metadata": {},
   "outputs": [
    {
     "name": "stdout",
     "output_type": "stream",
     "text": [
      "['github_issues', 'github_issues_2', 'github_issues_repo_jobs', 'github_issues_sentiment_scores', 'github_issues_sentiment_scores_senticr', 'github_pull_request_repo_jobs', 'github_pull_requests', 'github_pull_requests_2', 'github_pull_requests_sentiment_scores', 'github_pull_requests_sentiment_scores_2', 'github_pull_requests_sentiment_scores_senticr', 'issue_response_time', 'issue_response_time2', 'issue_response_time_3', 'mail_lists_sentiment_scores', 'mail_lists_sentiment_scores_senticr']\n",
      "Created Table\n"
     ]
    }
   ],
   "source": [
    "table_names = s.inspect(db).get_table_names()\n",
    "print(table_names)\n",
    "val = False\n",
    "mail_lists = True\n",
    "numb = 0\n",
    "if(\"mail_lists\" not in table_names):\n",
    "    mail_lists = False\n",
    "if(\"mailing_list_jobs\" in table_names):\n",
    "    lists_createdSQL = s.sql.text(\"\"\"SELECT project FROM mailing_list_jobs\"\"\")\n",
    "    df1 = pd.read_sql(lists_createdSQL, db)\n",
    "    print(df1)\n",
    "    val = True\n",
    "    val = db.engine.execute(\"\"\"SELECT augurlistID FROM \n",
    "                                   mailing_list_jobs\n",
    "                                   ORDER BY augurlistID DESC LIMIT 1\"\"\")\n",
    "    for i in val:\n",
    "        numb = i['augurlistID']\n",
    "    \n",
    "else:\n",
    "    columns2 = \"augurlistID\",\"backend_name\",\"mailing_list_url\",\"project\",\"last_message_date\"\n",
    "    df_mail_list = pd.DataFrame(columns=columns2)\n",
    "    df_mail_list.to_sql(name=\"mailing_list_jobs\",con=db,if_exists='replace',index=False,\n",
    "                        dtype={'augurlistID': s.types.Integer(),\n",
    "                               'backend_name': s.types.VARCHAR(length=300),\n",
    "                               'mailing_list_url': s.types.VARCHAR(length=300),\n",
    "                               'project': s.types.VARCHAR(length=300),\n",
    "                               'last_message_date': s.types.DateTime()\n",
    "                        })\n",
    "    lists_createdSQL = s.sql.text(\"\"\"SELECT project FROM mailing_list_jobs\"\"\")\n",
    "    df1 = pd.read_sql(lists_createdSQL, db)\n",
    "    db.execute(\"ALTER TABLE mailing_list_jobs ADD PRIMARY KEY (augurlistID)\")\n",
    "    print(\"Created Table\")\n",
    "Base = declarative_base(db)\n",
    "class table(Base):\n",
    "    __tablename__ = 'mailing_list_jobs'\n",
    "    __table_args__={'autoload':True}\n",
    "    \n",
    "Session = sessionmaker(bind=db)\n",
    "session = Session()\n",
    "res = session.query(table).all()"
   ]
  },
  {
   "cell_type": "markdown",
   "metadata": {},
   "source": [
    "## Sifting through messages:\n",
    "\n",
    "The function 'write_message' is used to fetch the messages from the downloaded MBox's. The messages downloaded can either be from the last message was downloaded when the jupyter notebook was downloaded previously or if it's the first time all the messages are downloaded. The function 'write_message' then determines which message contains the full message thread by looking to see if the 'ID' for the message is stored in 'References'. Only if the next message downloaded does not reference the previous message will the message be added to dictionary and if a certain amount of messages are stored it is added to the table 'mail_lists' using piper_reader."
   ]
  },
  {
   "cell_type": "code",
   "execution_count": 4,
   "metadata": {
    "collapsed": true
   },
   "outputs": [],
   "source": [
    "def write_message(table,repo,type_archive,mail_check,pos,db,res,session,archives,numb,mail_lists,time=None):\n",
    "    thread = None\n",
    "    store = None\n",
    "    k = 0\n",
    "    di = {}\n",
    "    if(time is None):\n",
    "        time = Piper.convert_date(\"Thu, 1 Dec 2010 20:37:11 +0000\")\n",
    "        #time = Piper.convert_date(\"Thu, 1 Aug 2012 20:37:11 +0000\")\n",
    "    for message in repo.fetch(from_date=time):\n",
    "        if(type_archive == 'not_new'):\n",
    "            mess_check = Piper.convert_date(message['data']['Date'])\n",
    "        if(type_archive == 'not_new' and mess_check <= time ):\n",
    "            continue            \n",
    "        elif(type_archive == 'not_new' and mess_check > time):\n",
    "            mail_check[pos] = 'update'\n",
    "            \n",
    "        ID = message['data']['Message-ID']\n",
    "        try:\n",
    "            message['data']['References']                           \n",
    "            if((not thread == None) and (thread['data']['Message-ID'] not in message['data']['References'])):\n",
    "                di[k] = thread\n",
    "                store = None\n",
    "                k+=1\n",
    "                \n",
    "            elif( (not store == None) and (store['data']['Message-ID'] not in message['data']['References'])):\n",
    "                di[k] = store\n",
    "                store = None\n",
    "                k+=1\n",
    "            thread = message\n",
    "        except:\n",
    "            if(not thread == None):\n",
    "                di[k] = thread\n",
    "                thread = None\n",
    "                k+=1\n",
    "            elif(not store == None):\n",
    "                di[k] = store\n",
    "                store = None\n",
    "                k+=1\n",
    "            store = message\n",
    "        if(len(di) == 5000):\n",
    "            print(\"Before\")\n",
    "            numb,mail_lists,mail_check = Piper.make(table,db,mail_check,archives,mail_lists,res,session,di,numb)\n",
    "            print(\"Hey\")\n",
    "            di = {}\n",
    "            k = 0\n",
    "    if(len(di) < 5000 and len(di) > 0):\n",
    "        print(\"right after\")\n",
    "        print(len(di))\n",
    "        numb,mail_lists,mail_check = Piper.make(table,db,mail_check,archives,mail_lists,res,session,di,numb)\n",
    "        di = {}\n",
    "        k = 0\n",
    "    else:\n",
    "        di = {}\n",
    "        k = 0\n",
    "    if( (thread == None) and (store == None)):\n",
    "        good = 1\n",
    "    elif( (thread == None) and (not store == None) ):\n",
    "        di[k] = store\n",
    "    elif( (store == None) and (not thread == None)):\n",
    "        di[k] = thread\n",
    "    elif(store['data']['Message-ID'] in thread['data']['References']):\n",
    "        di[k] = thread\n",
    "    else:\n",
    "        di[k] = store\n",
    "    if(bool(di)):\n",
    "        print(\"outside\")\n",
    "        numb,mail_lists,mail_check = Piper.make(table,db,mail_check,archives,mail_lists,res,session,di,numb)\n",
    "    return numb,mail_lists\n",
    "    "
   ]
  },
  {
   "cell_type": "markdown",
   "metadata": {},
   "source": [
    "## Iteration through mailing lists:\n",
    "\n",
    "Determines if the file with the mailing lists was created, if not it writes a set of default mailing lists (to show how the program would work). The mailing lists are then loaded into a dataframe and we iterate through the mailing lists by grouping them by the links. We then check to see if the mailing list is in the 'mailing_list_jobs' table in the SQL Database and if so we assign 'not_new' to 'mail_check' and store the last message date that is stored in 'mailing_list_jobs' to 'time'. If the mailing list is not in 'mailing_list_jobs' we assign 'new' to 'mail_check' and the date is set to 'None' for 'time'."
   ]
  },
  {
   "cell_type": "code",
   "execution_count": 5,
   "metadata": {
    "scrolled": false
   },
   "outputs": [
    {
     "name": "stderr",
     "output_type": "stream",
     "text": [
      "2018-10-01 21:58:47 keanu-Inspiron-5567 perceval.backends.core.pipermail[25251] INFO Looking for messages from 'https://lists.gluster.org/pipermail/gluster-users/' since 2010-12-01 20:37:11\n",
      "2018-10-01 21:58:47 keanu-Inspiron-5567 perceval.backends.core.pipermail[25251] INFO Downloading mboxes from 'https://lists.gluster.org/pipermail/gluster-users/' to since 2010-12-01 20:37:11\n"
     ]
    },
    {
     "name": "stdout",
     "output_type": "stream",
     "text": [
      "yeah\n",
      "Link,mail_list\n",
      "\n",
      "https://lists.gluster.org/pipermail/,\"gluster-users\"\n",
      "\n",
      "['gluster-users', 'announce', 'gluster-devel', 'gluster-infra'] mail_list\n",
      "{'gluster-users': False, 'announce': False, 'gluster-devel': False, 'gluster-infra': False}\n"
     ]
    },
    {
     "name": "stderr",
     "output_type": "stream",
     "text": [
      "2018-10-01 22:01:19 keanu-Inspiron-5567 perceval.backends.core.pipermail[25251] INFO 95/126 MBoxes downloaded\n",
      "2018-10-01 22:01:19 keanu-Inspiron-5567 perceval.backends.core.mbox[25251] WARNING Field 'Message-ID' not found in message the finder when trying to copy a file to the share (CIFS) I get an error that says \"The Finder can't complete the operation because some data is \"export-20100324(2).tar.bz can't be read or written. (Error code -36)\". Additionally when I try and copy a file it will create the stub of the file, but wont actually copy the data.; ignoring\n",
      "2018-10-01 22:01:19 keanu-Inspiron-5567 perceval.backends.core.mbox[25251] WARNING Field 'Message-ID' not found in message the Finder when I do a \"Get Info\" to look at the sharing & permissions settings it states that I have unknown access. ; ignoring\n",
      "2018-10-01 22:01:19 keanu-Inspiron-5567 perceval.backends.core.mbox[25251] WARNING Field 'Message-ID' not found in message the finder and from the command line I am able to create directories. ; ignoring\n",
      "2018-10-01 22:01:20 keanu-Inspiron-5567 perceval.backends.core.mbox[25251] WARNING Field 'Message-ID' not found in message a glusterfs client; ignoring\n",
      "2018-10-01 22:01:20 keanu-Inspiron-5567 perceval.backends.core.mbox[25251] WARNING Field 'Message-ID' not found in message a glusterfsd brick; ignoring\n",
      "2018-10-01 22:01:20 keanu-Inspiron-5567 perceval.backends.core.mbox[25251] WARNING Field 'Message-ID' not found in message another glusterfsd brick; ignoring\n",
      "2018-10-01 22:01:21 keanu-Inspiron-5567 perceval.backends.core.mbox[25251] WARNING Field 'Message-ID' not found in message what I understand of gluster, you might get this kind of bandwidth if the target files happen to be on different servers, but I'm not sure how you'd make sure they were on different servers in order to increase capacity, unless you effectively raid-1 your data across all servers. Even then, you'd need some way of round-robining that's consistent across all clients.; ignoring\n",
      "2018-10-01 22:01:21 keanu-Inspiron-5567 perceval.backends.core.mbox[25251] WARNING Field 'Message-ID' not found in message what I understand of gluster, you might get this kind of bandwidth if the target files happen to be on different servers, but I'm not sure how you'd make sure they were on different servers in order to increase capacity, unless you effectively raid-1 your data across all servers. Even then, you'd need some way of round-robining that's consistent across all clients.; ignoring\n",
      "2018-10-01 22:01:23 keanu-Inspiron-5567 perceval.backends.core.mbox[25251] WARNING Field 'Message-ID' not found in message the Admin doc, I can do a 'replace-brick' operation but that ; ignoring\n",
      "2018-10-01 22:01:23 keanu-Inspiron-5567 perceval.backends.core.mbox[25251] WARNING Field 'Message-ID' not found in message nfs.log:; ignoring\n",
      "2018-10-01 22:01:23 keanu-Inspiron-5567 perceval.backends.core.mbox[25251] WARNING Field 'Message-ID' not found in message another server we stressed the apache server calling a mod_perl script  printing an HTML page with apache environment variables. We used httperf to stress the web server. So, we haven't load performance problems but when we tested the availability of GFS we faced with a volume mounting hang from the client. We tested rebooting one of the GFS nodes and when this happens the client hang in writing on the GFS volume and df doesn't respond.; ignoring\n",
      "2018-10-01 22:01:24 keanu-Inspiron-5567 perceval.backends.core.mbox[25251] WARNING Field 'Message-ID' not found in message the volume info you provided, the export directories are different; ignoring\n",
      "2018-10-01 22:01:24 keanu-Inspiron-5567 perceval.backends.core.mbox[25251] WARNING Field 'Message-ID' not found in message the volume info you provided, the export directories are different; ignoring\n"
     ]
    },
    {
     "name": "stdout",
     "output_type": "stream",
     "text": [
      "Before\n",
      "New value:  True\n",
      "['gluster-users']\n",
      "Length:  5000\n",
      "Higher  0\n",
      "Higher  500\n",
      "Higher  1000\n",
      "Higher  1500\n",
      "Should not be here\n",
      "Higher  2000\n",
      "Higher  2500\n",
      "Higher  3000\n",
      "Should not be here\n",
      "Higher  3500\n",
      "Higher  4000\n",
      "Higher  4500\n",
      "Should not be here\n",
      "lower and lower\n",
      "right here\n",
      "2013-03-06 00:00:35\n",
      "  augurlistID backend_name                                   mailing_list_url  \\\n",
      "0           1    Pipermail  https://lists.gluster.org/pipermail/gluster-us...   \n",
      "\n",
      "         project   last_message_date  \n",
      "0  gluster-users 2018-10-02 02:01:25  \n",
      "File uploaded  16068\n",
      "Mailing List Job uploaded\n",
      "Finished\n",
      "Hey\n"
     ]
    },
    {
     "name": "stderr",
     "output_type": "stream",
     "text": [
      "2018-10-01 22:03:41 keanu-Inspiron-5567 perceval.backends.core.mbox[25251] WARNING Field 'Message-ID' not found in message the other node,; ignoring\n",
      "2018-10-01 22:03:41 keanu-Inspiron-5567 perceval.backends.core.mbox[25251] WARNING Field 'Message-ID' not found in message fw1:; ignoring\n",
      "2018-10-01 22:03:41 keanu-Inspiron-5567 perceval.backends.core.mbox[25251] WARNING Field 'Message-ID' not found in message Vijay:; ignoring\n",
      "2018-10-01 22:03:41 keanu-Inspiron-5567 perceval.backends.core.mbox[25251] WARNING Field 'Message-ID' not found in message existing nodes trying to do:; ignoring\n",
      "2018-10-01 22:03:41 keanu-Inspiron-5567 perceval.backends.core.mbox[25251] WARNING Field 'Message-ID' not found in message existing nodes I see operating-version=1; ignoring\n",
      "2018-10-01 22:03:41 keanu-Inspiron-5567 perceval.backends.core.mbox[25251] WARNING Field 'Message-ID' not found in message existing nodes trying to do:; ignoring\n",
      "2018-10-01 22:03:41 keanu-Inspiron-5567 perceval.backends.core.mbox[25251] WARNING Field 'Message-ID' not found in message existing nodes I see operating-version=1; ignoring\n",
      "2018-10-01 22:03:41 keanu-Inspiron-5567 perceval.backends.core.mbox[25251] WARNING Field 'Message-ID' not found in message existing nodes trying to do:; ignoring\n",
      "2018-10-01 22:03:41 keanu-Inspiron-5567 perceval.backends.core.mbox[25251] WARNING Field 'Message-ID' not found in message existing nodes I see operating-version=1; ignoring\n",
      "2018-10-01 22:03:41 keanu-Inspiron-5567 perceval.backends.core.mbox[25251] WARNING Field 'Message-ID' not found in message existing nodes trying to do:; ignoring\n",
      "2018-10-01 22:03:41 keanu-Inspiron-5567 perceval.backends.core.mbox[25251] WARNING Field 'Message-ID' not found in message existing nodes I see operating-version=1; ignoring\n",
      "2018-10-01 22:03:42 keanu-Inspiron-5567 perceval.backends.core.mbox[25251] WARNING Field 'Message-ID' not found in message this moment on, 10.243.0.24 lost the /home share.; ignoring\n",
      "2018-10-01 22:03:42 keanu-Inspiron-5567 perceval.backends.core.mbox[25251] WARNING Field 'Message-ID' not found in message the afr extended attributes, it seems you have hit a metadata-split-brain of the top level (brick) directory (having gfid 01). If you are you able to perform I/O? on all files from the mount point without error (EIO) and the? file contents are identical on both the bricks (check with md5sum), you could? safely clear the afr extended attributes of the bricks:; ignoring\n",
      "2018-10-01 22:03:42 keanu-Inspiron-5567 perceval.backends.core.mbox[25251] WARNING Field 'Message-ID' not found in message a single node that looks reasonable for gluster. You'd probably get 3-4 times that with native local access.; ignoring\n",
      "2018-10-01 22:03:42 keanu-Inspiron-5567 perceval.backends.core.mbox[25251] WARNING Field 'Message-ID' not found in message that background my approach was to build relatively small raid6 bricks (9 * 2 TB + 1 Hot-Spare); ignoring\n",
      "2018-10-01 22:03:43 keanu-Inspiron-5567 perceval.backends.core.mbox[25251] WARNING Field 'Message-ID' not found in message your blogs I understand you didn't, did you experienced ny issues?; ignoring\n",
      "2018-10-01 22:03:43 keanu-Inspiron-5567 perceval.backends.core.mbox[25251] WARNING Field 'Message-ID' not found in message that point of view PrestoPrime strongly recommended against raid5 and AT LEAST for ; ignoring\n",
      "2018-10-01 22:03:43 keanu-Inspiron-5567 perceval.backends.core.mbox[25251] WARNING Field 'Message-ID' not found in message the mnt.log:; ignoring\n",
      "2018-10-01 22:03:43 keanu-Inspiron-5567 perceval.backends.core.mbox[25251] WARNING Field 'Message-ID' not found in message inside the atom01 (the VM) the filesystem becomes readonly.But in contrast tohttp://epboven.home.xs4all.nl/gluster-migrate.html; ignoring\n",
      "2018-10-01 22:03:43 keanu-Inspiron-5567 perceval.backends.core.mbox[25251] WARNING Field 'Message-ID' not found in message Khoi Mai <KHOIMAI at UP.COM> ; ignoring\n",
      "2018-10-01 22:03:43 keanu-Inspiron-5567 perceval.backends.core.mbox[25251] WARNING Field 'Message-ID' not found in message memory, Bugzilla has some kind of XML-RPC interface as well; ignoring\n",
      "2018-10-01 22:03:44 keanu-Inspiron-5567 perceval.backends.core.mbox[25251] WARNING Field 'Message-ID' not found in message this backtrace, it seems like the problem is with the libcrypto which is provided by openssl-libs. Most likely the glusterfs packages were linked with a different version of libcrypto when they were built, which isn't compatible with what has been provided in you system.; ignoring\n",
      "2018-10-01 22:03:44 keanu-Inspiron-5567 perceval.backends.core.mbox[25251] WARNING Field 'Message-ID' not found in message memory, IPv6 support is something we're working on for GlusterFS; ignoring\n",
      "2018-10-01 22:03:44 keanu-Inspiron-5567 perceval.backends.core.mbox[25251] WARNING Field 'Message-ID' not found in message memory, Niels is on holidays for a few days.  So, if you; ignoring\n",
      "2018-10-01 22:03:45 keanu-Inspiron-5567 perceval.backends.core.mbox[25251] WARNING Field 'Message-ID' not found in message what I understand after reading the gluster docs and doing my own lab tests, it seems all the data contained on the replica pair will be lost of both servers in the replica fail.  For example, if I loose nodes 3 and 4 at the same time, all the data contained on those nodes is lost.  How can I get gluster to identify a node outage and replicate the data from server3 to servers1&2 if server 4 fails?  Is there some sort of command I can run so the data on node 4 gets replicated to node 1 or 2?; ignoring\n",
      "2018-10-01 22:03:46 keanu-Inspiron-5567 perceval.backends.core.mbox[25251] WARNING Field 'Message-ID' not found in message slide 5 of the corresponding slides:; ignoring\n"
     ]
    },
    {
     "name": "stdout",
     "output_type": "stream",
     "text": [
      "Before\n",
      "New value:  False\n",
      "['gluster-users']\n",
      "Length:  5000\n",
      "Higher  0\n",
      "Higher  500\n",
      "Higher  1000\n",
      "Higher  1500\n",
      "Should not be here\n",
      "Higher  2000\n",
      "Higher  2500\n",
      "Higher  3000\n",
      "Should not be here\n",
      "Higher  3500\n",
      "Higher  4000\n",
      "Higher  4500\n",
      "Should not be here\n",
      "lower and lower\n",
      "right here\n"
     ]
    },
    {
     "name": "stderr",
     "output_type": "stream",
     "text": [
      "/home/keanu/anaconda3/envs/augur/lib/python3.6/site-packages/pymysql/cursors.py:170: Warning: (1366, \"Incorrect string value: '\\\\xA2\\\\xA8\\\\xC3\\\\xC8\\\\xD1\\\\xA1...' for column 'message_from' at row 439\")\n",
      "  result = self._query(query)\n",
      "/home/keanu/anaconda3/envs/augur/lib/python3.6/site-packages/pymysql/cursors.py:170: Warning: (1366, \"Incorrect string value: '\\\\xA2\\\\xA8\\\\xC3\\\\xC8\\\\xD1\\\\xA1...' for column 'message_from' at row 440\")\n",
      "  result = self._query(query)\n"
     ]
    },
    {
     "name": "stdout",
     "output_type": "stream",
     "text": [
      "2014-11-06 15:00:33\n",
      "[<augur.piper_reader.PiperMail.make.<locals>.table object at 0x7f482f84e6a0>]\n",
      "sigh\n",
      "gluster-users\n"
     ]
    },
    {
     "name": "stderr",
     "output_type": "stream",
     "text": [
      "2018-10-01 22:06:36 keanu-Inspiron-5567 perceval.backends.core.mbox[25251] WARNING Field 'Message-ID' not found in message 3f94f5e0c31e18f4957aeb7fa43a074a290fbf9f Mon Sep 17 00:00:00 2001; ignoring\n"
     ]
    },
    {
     "name": "stdout",
     "output_type": "stream",
     "text": [
      "File uploaded  16673\n",
      "Finished\n",
      "Hey\n"
     ]
    },
    {
     "name": "stderr",
     "output_type": "stream",
     "text": [
      "2018-10-01 22:06:37 keanu-Inspiron-5567 perceval.backends.core.mbox[25251] WARNING Field 'Message-ID' not found in message the Gluster side, you could try tuning the network.ping-timeout; ignoring\n",
      "2018-10-01 22:06:37 keanu-Inspiron-5567 perceval.backends.core.mbox[25251] WARNING Field 'Message-ID' not found in message the FUSE mount (as root), the directory shows up as empty:; ignoring\n",
      "2018-10-01 22:06:37 keanu-Inspiron-5567 perceval.backends.core.mbox[25251] WARNING Field 'Message-ID' not found in message the FUSE mount (as root), the directory shows up as empty:; ignoring\n",
      "2018-10-01 22:06:38 keanu-Inspiron-5567 perceval.backends.core.mbox[25251] WARNING Field 'Message-ID' not found in message there I would suggest that you see why the Mount is failing, I think that the System is not fully up when a NFS mount is tried, so I would use the LINKDELAY in the interface scripts. Ifcfg-eth0; ignoring\n",
      "2018-10-01 22:06:38 keanu-Inspiron-5567 perceval.backends.core.mbox[25251] WARNING Field 'Message-ID' not found in message the code, it looks like a log that was supposed to be logged in \"DEBUG\" level; ignoring\n",
      "2018-10-01 22:06:39 keanu-Inspiron-5567 perceval.backends.core.mbox[25251] WARNING Field 'Message-ID' not found in message the brick logs, it seems the changelog-notifier thread has got; ignoring\n",
      "2018-10-01 22:06:39 keanu-Inspiron-5567 perceval.backends.core.mbox[25251] WARNING Field 'Message-ID' not found in message the brick logs, it seems the changelog-notifier thread has got; ignoring\n",
      "2018-10-01 22:06:39 keanu-Inspiron-5567 perceval.backends.core.mbox[25251] WARNING Field 'Message-ID' not found in message the brick logs, it seems the changelog-notifier thread has got; ignoring\n",
      "2018-10-01 22:06:39 keanu-Inspiron-5567 perceval.backends.core.mbox[25251] WARNING Field 'Message-ID' not found in message the brick logs, it seems the changelog-notifier thread has got; ignoring\n",
      "2018-10-01 22:06:39 keanu-Inspiron-5567 perceval.backends.core.mbox[25251] WARNING Field 'Message-ID' not found in message here I delete deleted files from the slave. It was easy.; ignoring\n",
      "2018-10-01 22:06:39 keanu-Inspiron-5567 perceval.backends.core.mbox[25251] WARNING Field 'Message-ID' not found in message the brick logs, it seems the changelog-notifier thread has got; ignoring\n",
      "2018-10-01 22:06:39 keanu-Inspiron-5567 perceval.backends.core.mbox[25251] WARNING Field 'Message-ID' not found in message gdb I see this:; ignoring\n",
      "2018-10-01 22:06:39 keanu-Inspiron-5567 perceval.backends.core.mbox[25251] WARNING Field 'Message-ID' not found in message the brick logs, it seems the changelog-notifier thread has got; ignoring\n",
      "2018-10-01 22:06:39 keanu-Inspiron-5567 perceval.backends.core.mbox[25251] WARNING Field 'Message-ID' not found in message the log I can clearly see the problematic node is; ignoring\n",
      "2018-10-01 22:06:39 keanu-Inspiron-5567 perceval.backends.core.mbox[25251] WARNING Field 'Message-ID' not found in message the above log it looks like node 11 tried to handshake with 12, but; ignoring\n",
      "2018-10-01 22:06:39 keanu-Inspiron-5567 perceval.backends.core.mbox[25251] WARNING Field 'Message-ID' not found in message master:; ignoring\n",
      "2018-10-01 22:06:39 keanu-Inspiron-5567 perceval.backends.core.mbox[25251] WARNING Field 'Message-ID' not found in message the brick logs, it seems the changelog-notifier thread has got; ignoring\n",
      "2018-10-01 22:06:39 keanu-Inspiron-5567 perceval.backends.core.mbox[25251] WARNING Field 'Message-ID' not found in message the above log it looks like node 11 tried to handshake with 12, but; ignoring\n",
      "2018-10-01 22:06:39 keanu-Inspiron-5567 perceval.backends.core.mbox[25251] WARNING Field 'Message-ID' not found in message the above log it looks like node 11 tried to handshake with 12, but; ignoring\n",
      "2018-10-01 22:06:39 keanu-Inspiron-5567 perceval.backends.core.mbox[25251] WARNING Field 'Message-ID' not found in message master:; ignoring\n",
      "2018-10-01 22:06:39 keanu-Inspiron-5567 perceval.backends.core.mbox[25251] WARNING Field 'Message-ID' not found in message the brick logs, it seems the changelog-notifier thread has got; ignoring\n",
      "2018-10-01 22:06:39 keanu-Inspiron-5567 perceval.backends.core.mbox[25251] WARNING Field 'Message-ID' not found in message glusterd log file, I find Cksums error as following:; ignoring\n",
      "2018-10-01 22:06:39 keanu-Inspiron-5567 perceval.backends.core.mbox[25251] WARNING Field 'Message-ID' not found in message 'man 3 bzero' on Fedora 22:; ignoring\n",
      "2018-10-01 22:06:39 keanu-Inspiron-5567 perceval.backends.core.mbox[25251] WARNING Field 'Message-ID' not found in message 'man 3 index' on Fedora 22:; ignoring\n",
      "2018-10-01 22:06:39 keanu-Inspiron-5567 perceval.backends.core.mbox[25251] WARNING Field 'Message-ID' not found in message glusterd log file, I find Cksums error as following:; ignoring\n",
      "2018-10-01 22:06:39 keanu-Inspiron-5567 perceval.backends.core.mbox[25251] WARNING Field 'Message-ID' not found in message glusterd log file, I find Cksums error as following:; ignoring\n",
      "2018-10-01 22:06:39 keanu-Inspiron-5567 perceval.backends.core.mbox[25251] WARNING Field 'Message-ID' not found in message glusterd log file, I find Cksums error as following:; ignoring\n",
      "2018-10-01 22:06:40 keanu-Inspiron-5567 perceval.backends.core.mbox[25251] WARNING Field 'Message-ID' not found in message Douglas Landgrafs report of FISL16:; ignoring\n",
      "2018-10-01 22:06:40 keanu-Inspiron-5567 perceval.backends.core.mbox[25251] WARNING Field 'Message-ID' not found in message the mailinglist archive I could understand this was a problem in gluster version 3.4 and should be fixed. We started out from version 3.5 and upgraded in the meantime to version 3.6.4 but the error in the errorlog still exists.; ignoring\n",
      "2018-10-01 22:06:40 keanu-Inspiron-5567 perceval.backends.core.mbox[25251] WARNING Field 'Message-ID' not found in message the mailinglist archive I could understand this was a problem in gluster version 3.4 and should be fixed. We started out from version 3.5 and upgraded in the meantime to version 3.6.4 but the error in the errorlog still exists.; ignoring\n",
      "2018-10-01 22:06:40 keanu-Inspiron-5567 perceval.backends.core.mbox[25251] WARNING Field 'Message-ID' not found in message my understanding, you current have two pending problems:; ignoring\n",
      "2018-10-01 22:06:40 keanu-Inspiron-5567 perceval.backends.core.mbox[25251] WARNING Field 'Message-ID' not found in message the mailinglist archive I could understand this was a problem in gluster version 3.4 and should be fixed. We started out from version 3.5 and upgraded in the meantime to version 3.6.4 but the error in the errorlog still exists.; ignoring\n",
      "2018-10-01 22:06:40 keanu-Inspiron-5567 perceval.backends.core.mbox[25251] WARNING Field 'Message-ID' not found in message the mailinglist archive I could understand this was a problem in gluster version 3.4 and should be fixed. We started out from version 3.5 and upgraded in the meantime to version 3.6.4 but the error in the errorlog still exists.; ignoring\n",
      "2018-10-01 22:06:40 keanu-Inspiron-5567 perceval.backends.core.mbox[25251] WARNING Field 'Message-ID' not found in message my understanding, you current have two pending problems:; ignoring\n",
      "2018-10-01 22:06:40 keanu-Inspiron-5567 perceval.backends.core.mbox[25251] WARNING Field 'Message-ID' not found in message QA2; ignoring\n",
      "2018-10-01 22:06:42 keanu-Inspiron-5567 perceval.backends.core.mbox[25251] WARNING Field 'Message-ID' not found in message the other node:; ignoring\n",
      "2018-10-01 22:06:42 keanu-Inspiron-5567 perceval.backends.core.mbox[25251] WARNING Field 'Message-ID' not found in message the logs of gluster at /var/log/glusterfs , we observed some errors ; ignoring\n",
      "2018-10-01 22:06:42 keanu-Inspiron-5567 perceval.backends.core.mbox[25251] WARNING Field 'Message-ID' not found in message the logs of gluster at /var/log/glusterfs , we observed some errors ; ignoring\n"
     ]
    },
    {
     "name": "stdout",
     "output_type": "stream",
     "text": [
      "Before\n",
      "New value:  False\n",
      "['gluster-users']\n",
      "Length:  5000\n",
      "Higher  0\n",
      "Higher  500\n",
      "Higher  1000\n",
      "Should not be here\n",
      "Higher  1500\n",
      "Higher  2000\n",
      "Higher  2500\n",
      "Should not be here\n",
      "Higher  3000\n",
      "Higher  3500\n",
      "Should not be here\n",
      "Higher  4000\n",
      "Higher  4500\n",
      "lower and lower\n",
      "right here\n",
      "2016-02-25 00:00:57\n",
      "[<augur.piper_reader.PiperMail.make.<locals>.table object at 0x7f482f8b0128>]\n",
      "sigh\n",
      "gluster-users\n"
     ]
    },
    {
     "name": "stderr",
     "output_type": "stream",
     "text": [
      "2018-10-01 22:10:28 keanu-Inspiron-5567 perceval.backends.core.mbox[25251] WARNING Field 'Message-ID' not found in message existing host gluster01/02:; ignoring\n",
      "2018-10-01 22:10:28 keanu-Inspiron-5567 perceval.backends.core.mbox[25251] WARNING Field 'Message-ID' not found in message existing host gluster03/04:; ignoring\n",
      "2018-10-01 22:10:28 keanu-Inspiron-5567 perceval.backends.core.mbox[25251] WARNING Field 'Message-ID' not found in message new hosts gluster05/gluster06:; ignoring\n"
     ]
    },
    {
     "name": "stdout",
     "output_type": "stream",
     "text": [
      "File uploaded  19009\n",
      "Finished\n",
      "Hey\n"
     ]
    },
    {
     "name": "stderr",
     "output_type": "stream",
     "text": [
      "2018-10-01 22:10:29 keanu-Inspiron-5567 perceval.backends.core.mbox[25251] WARNING Field 'Message-ID' not found in message the add brick I did this morning, only two VMs seems to have \"resisted\" it; ignoring\n",
      "2018-10-01 22:10:29 keanu-Inspiron-5567 perceval.backends.core.mbox[25251] WARNING Field 'Message-ID' not found in message that point, the VM just has a lot of I/O errors showing whenever I; ignoring\n",
      "2018-10-01 22:10:30 keanu-Inspiron-5567 perceval.backends.core.mbox[25251] WARNING Field 'Message-ID' not found in message the geo-replicated logs, it seems I have a SSH configuration issue:; ignoring\n",
      "2018-10-01 22:10:30 keanu-Inspiron-5567 perceval.backends.core.mbox[25251] WARNING Field 'Message-ID' not found in message glusterd log:; ignoring\n",
      "2018-10-01 22:10:30 keanu-Inspiron-5567 perceval.backends.core.mbox[25251] WARNING Field 'Message-ID' not found in message those options, network.remote-dio seems most related to your aio; ignoring\n",
      "2018-10-01 22:10:30 keanu-Inspiron-5567 perceval.backends.core.mbox[25251] WARNING Field 'Message-ID' not found in message glusterd log:; ignoring\n",
      "2018-10-01 22:10:31 keanu-Inspiron-5567 perceval.backends.core.mbox[25251] WARNING Field 'Message-ID' not found in message log it seems that the glusterfs and glusterfsd disconnect.But I don't why disconnection happen on local sockect.; ignoring\n",
      "2018-10-01 22:10:31 keanu-Inspiron-5567 perceval.backends.core.mbox[25251] WARNING Field 'Message-ID' not found in message log it seems that the glusterfs and glusterfsd disconnect.But I don't why disconnection happen on local sockect.; ignoring\n",
      "2018-10-01 22:10:31 keanu-Inspiron-5567 perceval.backends.core.mbox[25251] WARNING Field 'Message-ID' not found in message server the second time connection even happen before disconnection.; ignoring\n",
      "2018-10-01 22:10:31 keanu-Inspiron-5567 perceval.backends.core.mbox[25251] WARNING Field 'Message-ID' not found in message a cursory look, libgfapi supports punching holes through the; ignoring\n",
      "2018-10-01 22:10:31 keanu-Inspiron-5567 perceval.backends.core.mbox[25251] WARNING Field 'Message-ID' not found in message the node where the network split happened, I see the following in /var/log/message:; ignoring\n",
      "2018-10-01 22:10:31 keanu-Inspiron-5567 perceval.backends.core.mbox[25251] WARNING Field 'Message-ID' not found in message what I can tell the same PIDs were used for both healing and normal; ignoring\n",
      "2018-10-01 22:10:31 keanu-Inspiron-5567 perceval.backends.core.mbox[25251] WARNING Field 'Message-ID' not found in message what I see, it doesn?t:; ignoring\n",
      "2018-10-01 22:10:32 keanu-Inspiron-5567 perceval.backends.core.mbox[25251] WARNING Field 'Message-ID' not found in message my point of view, swap only helps in the way it retards OOM killer process and as a sort of warning role because it slows a lot the whole OS. ; ignoring\n",
      "2018-10-01 22:10:33 keanu-Inspiron-5567 perceval.backends.core.mbox[25251] WARNING Field 'Message-ID' not found in message the information in this (sub)thread, I can not see what client; ignoring\n",
      "2018-10-01 22:10:33 keanu-Inspiron-5567 perceval.backends.core.mbox[25251] WARNING Field 'Message-ID' not found in message the brick log on the storage servers:; ignoring\n",
      "2018-10-01 22:10:33 keanu-Inspiron-5567 perceval.backends.core.mbox[25251] WARNING Field 'Message-ID' not found in message the logs I see  that parallel readdir is enabled for this volume:; ignoring\n"
     ]
    },
    {
     "name": "stdout",
     "output_type": "stream",
     "text": [
      "Before\n",
      "New value:  False\n",
      "['gluster-users']\n",
      "Length:  5000\n",
      "Higher  0\n",
      "Higher  500\n",
      "Higher  1000\n",
      "Should not be here\n",
      "Higher  1500\n",
      "Higher  2000\n",
      "Higher  2500\n",
      "Should not be here\n",
      "Higher  3000\n",
      "Higher  3500\n",
      "Should not be here\n",
      "Higher  4000\n",
      "Higher  4500\n",
      "lower and lower\n",
      "right here\n",
      "2017-09-03 22:23:01\n",
      "[<augur.piper_reader.PiperMail.make.<locals>.table object at 0x7f482fa904a8>]\n",
      "sigh\n",
      "gluster-users\n"
     ]
    },
    {
     "name": "stderr",
     "output_type": "stream",
     "text": [
      "2018-10-01 22:13:48 keanu-Inspiron-5567 perceval.backends.core.mbox[25251] WARNING Field 'Message-ID' not found in message the Admin Guide:; ignoring\n"
     ]
    },
    {
     "name": "stdout",
     "output_type": "stream",
     "text": [
      "File uploaded  19025\n",
      "Finished\n",
      "Hey\n"
     ]
    },
    {
     "name": "stderr",
     "output_type": "stream",
     "text": [
      "2018-10-01 22:13:48 keanu-Inspiron-5567 perceval.backends.core.mbox[25251] WARNING Field 'Message-ID' not found in message the xattr output, it looks like the files are not present on the arbiter brick & needs healing. But on the parent it does not have the pending markers set for those entries.; ignoring\n",
      "2018-10-01 22:13:48 keanu-Inspiron-5567 perceval.backends.core.mbox[25251] WARNING Field 'Message-ID' not found in message what I've seen in the getfattr output Karthik asked me to get GFIDs; ignoring\n",
      "2018-10-01 22:13:48 keanu-Inspiron-5567 perceval.backends.core.mbox[25251] WARNING Field 'Message-ID' not found in message the files you sent:; ignoring\n",
      "2018-10-01 22:13:48 keanu-Inspiron-5567 perceval.backends.core.mbox[25251] WARNING Field 'Message-ID' not found in message the files you sent:; ignoring\n",
      "2018-10-01 22:13:48 keanu-Inspiron-5567 perceval.backends.core.mbox[25251] WARNING Field 'Message-ID' not found in message the files you sent:; ignoring\n",
      "2018-10-01 22:13:48 keanu-Inspiron-5567 perceval.backends.core.mbox[25251] WARNING Field 'Message-ID' not found in message the files you sent:; ignoring\n",
      "2018-10-01 22:13:48 keanu-Inspiron-5567 perceval.backends.core.mbox[25251] WARNING Field 'Message-ID' not found in message the files you sent:; ignoring\n",
      "2018-10-01 22:13:50 keanu-Inspiron-5567 perceval.backends.core.mbox[25251] WARNING Field 'Message-ID' not found in message glances at the system logs nothing out of the ordinary; ignoring\n",
      "2018-10-01 22:13:50 keanu-Inspiron-5567 perceval.backends.core.mbox[25251] WARNING Field 'Message-ID' not found in message our test server (?nomodule-nofruit? is currently the only well-behaved share):; ignoring\n",
      "2018-10-01 22:13:50 keanu-Inspiron-5567 perceval.backends.core.mbox[25251] WARNING Field 'Message-ID' not found in message your point of view, are they the right commands to close this repairing task?; ignoring\n",
      "2018-10-01 22:13:50 keanu-Inspiron-5567 perceval.backends.core.mbox[25251] INFO Done. 29445/29554 messages fetched; 109 ignored\n",
      "2018-10-01 22:13:50 keanu-Inspiron-5567 perceval.backends.core.pipermail[25251] INFO Fetch process completed\n"
     ]
    },
    {
     "name": "stdout",
     "output_type": "stream",
     "text": [
      "right after\n",
      "2010\n",
      "New value:  False\n",
      "['gluster-users']\n",
      "Length:  2010\n",
      "Higher  0\n",
      "Higher  500\n",
      "Higher  1000\n",
      "Should not be here\n",
      "Higher  1500\n",
      "Higher  2000\n",
      "lower and lower\n",
      "right here\n",
      "2018-10-01 00:00:55\n",
      "[<augur.piper_reader.PiperMail.make.<locals>.table object at 0x7f482fe52390>]\n",
      "sigh\n",
      "gluster-users\n",
      "File uploaded  8475\n",
      "Finished\n",
      "outside\n",
      "New value:  False\n",
      "['gluster-users']\n",
      "Length:  1\n",
      "Higher  0\n",
      "lower and lower\n",
      "right here\n"
     ]
    },
    {
     "name": "stderr",
     "output_type": "stream",
     "text": [
      "2018-10-01 22:15:16 keanu-Inspiron-5567 perceval.backends.core.pipermail[25251] INFO Looking for messages from 'https://lists.gluster.org/pipermail/announce/' since 2010-12-01 20:37:11\n",
      "2018-10-01 22:15:16 keanu-Inspiron-5567 perceval.backends.core.pipermail[25251] INFO Downloading mboxes from 'https://lists.gluster.org/pipermail/announce/' to since 2010-12-01 20:37:11\n"
     ]
    },
    {
     "name": "stdout",
     "output_type": "stream",
     "text": [
      "File uploaded  6\n",
      "Finished\n",
      "Created File gluster-users\n"
     ]
    },
    {
     "name": "stderr",
     "output_type": "stream",
     "text": [
      "2018-10-01 22:15:42 keanu-Inspiron-5567 perceval.backends.core.pipermail[25251] INFO 45/45 MBoxes downloaded\n",
      "2018-10-01 22:15:42 keanu-Inspiron-5567 perceval.backends.core.mbox[25251] INFO Done. 120/120 messages fetched; 0 ignored\n",
      "2018-10-01 22:15:42 keanu-Inspiron-5567 perceval.backends.core.pipermail[25251] INFO Fetch process completed\n"
     ]
    },
    {
     "name": "stdout",
     "output_type": "stream",
     "text": [
      "right after\n",
      "103\n",
      "New value:  True\n",
      "['announce']\n",
      "Length:  103\n",
      "Higher  0\n",
      "lower and lower\n",
      "right here\n",
      "2018-09-07 14:44:14\n",
      "  augurlistID backend_name                               mailing_list_url  \\\n",
      "0           2    Pipermail  https://lists.gluster.org/pipermail/announce/   \n",
      "\n",
      "    project   last_message_date  \n",
      "0  announce 2018-10-02 02:15:42  \n",
      "File uploaded  310\n",
      "Mailing List Job uploaded\n",
      "Finished\n",
      "outside\n",
      "New value:  False\n",
      "['announce']\n",
      "Length:  1\n",
      "Higher  0\n",
      "lower and lower\n",
      "right here\n"
     ]
    },
    {
     "name": "stderr",
     "output_type": "stream",
     "text": [
      "2018-10-01 22:15:51 keanu-Inspiron-5567 perceval.backends.core.pipermail[25251] INFO Looking for messages from 'https://lists.gluster.org/pipermail/gluster-devel/' since 2010-12-01 20:37:11\n",
      "2018-10-01 22:15:51 keanu-Inspiron-5567 perceval.backends.core.pipermail[25251] INFO Downloading mboxes from 'https://lists.gluster.org/pipermail/gluster-devel/' to since 2010-12-01 20:37:11\n"
     ]
    },
    {
     "name": "stdout",
     "output_type": "stream",
     "text": [
      "File uploaded  4\n",
      "Finished\n",
      "Created File announce\n"
     ]
    },
    {
     "name": "stderr",
     "output_type": "stream",
     "text": [
      "2018-10-01 22:17:55 keanu-Inspiron-5567 perceval.backends.core.pipermail[25251] INFO 95/158 MBoxes downloaded\n",
      "2018-10-01 22:17:57 keanu-Inspiron-5567 perceval.backends.core.mbox[25251] WARNING Field 'Message-ID' not found in message what I can tell, self heal only fails on symlinks (that didn?t change) in the folder where the changes have been made. ; ignoring\n",
      "2018-10-01 22:17:57 keanu-Inspiron-5567 perceval.backends.core.mbox[25251] WARNING Field 'Message-ID' not found in message : \t; ignoring\n",
      "2018-10-01 22:17:57 keanu-Inspiron-5567 perceval.backends.core.mbox[25251] WARNING Field 'Message-ID' not found in message what I can tell, self heal only fails on symlinks (that didn?t change) in the folder where the changes have been made. ; ignoring\n",
      "2018-10-01 22:17:57 keanu-Inspiron-5567 perceval.backends.core.mbox[25251] WARNING Field 'Message-ID' not found in message : \t; ignoring\n",
      "2018-10-01 22:17:57 keanu-Inspiron-5567 perceval.backends.core.mbox[25251] WARNING Field 'Message-ID' not found in message what I can tell, self heal only fails on symlinks (that didn?t change) in the folder where the changes have been made. ; ignoring\n",
      "2018-10-01 22:17:57 keanu-Inspiron-5567 perceval.backends.core.mbox[25251] WARNING Field 'Message-ID' not found in message : \t; ignoring\n",
      "2018-10-01 22:17:57 keanu-Inspiron-5567 perceval.backends.core.mbox[25251] WARNING Field 'Message-ID' not found in message what I can tell, self heal only fails on symlinks (that didn?t change) in the folder where the changes have been made. ; ignoring\n",
      "2018-10-01 22:17:57 keanu-Inspiron-5567 perceval.backends.core.mbox[25251] WARNING Field 'Message-ID' not found in message : \t; ignoring\n",
      "2018-10-01 22:17:59 keanu-Inspiron-5567 perceval.backends.core.mbox[25251] WARNING Field 'Message-ID' not found in message server side, we have 2 bricks and we can see the ff_2 status:; ignoring\n",
      "2018-10-01 22:17:59 keanu-Inspiron-5567 perceval.backends.core.mbox[25251] WARNING Field 'Message-ID' not found in message server side, we have 2 bricks and we can see the ff_2 status:; ignoring\n"
     ]
    },
    {
     "name": "stdout",
     "output_type": "stream",
     "text": [
      "Before\n",
      "New value:  True\n",
      "['gluster-devel']\n",
      "Length:  5000\n",
      "Higher  0\n",
      "Higher  500\n",
      "Higher  1000\n",
      "Higher  1500\n",
      "Should not be here\n",
      "Higher  2000\n",
      "Higher  2500\n",
      "Higher  3000\n",
      "Should not be here\n",
      "Higher  3500\n",
      "Higher  4000\n",
      "Higher  4500\n",
      "Should not be here\n",
      "lower and lower\n",
      "right here\n",
      "2013-04-08 00:00:55\n",
      "  augurlistID backend_name                                   mailing_list_url  \\\n",
      "0           3    Pipermail  https://lists.gluster.org/pipermail/gluster-de...   \n",
      "\n",
      "         project   last_message_date  \n",
      "0  gluster-devel 2018-10-02 02:18:00  \n",
      "File uploaded  15941\n",
      "Mailing List Job uploaded\n",
      "Finished\n",
      "Hey\n"
     ]
    },
    {
     "name": "stderr",
     "output_type": "stream",
     "text": [
      "2018-10-01 22:20:07 keanu-Inspiron-5567 perceval.backends.core.mbox[25251] WARNING Field 'Message-ID' not found in message existing nodes trying to do:; ignoring\n",
      "2018-10-01 22:20:07 keanu-Inspiron-5567 perceval.backends.core.mbox[25251] WARNING Field 'Message-ID' not found in message existing nodes I see operating-version=1; ignoring\n",
      "2018-10-01 22:20:07 keanu-Inspiron-5567 perceval.backends.core.mbox[25251] WARNING Field 'Message-ID' not found in message existing nodes trying to do:; ignoring\n",
      "2018-10-01 22:20:07 keanu-Inspiron-5567 perceval.backends.core.mbox[25251] WARNING Field 'Message-ID' not found in message existing nodes I see operating-version=1; ignoring\n",
      "2018-10-01 22:20:07 keanu-Inspiron-5567 perceval.backends.core.mbox[25251] WARNING Field 'Message-ID' not found in message existing nodes trying to do:; ignoring\n",
      "2018-10-01 22:20:07 keanu-Inspiron-5567 perceval.backends.core.mbox[25251] WARNING Field 'Message-ID' not found in message existing nodes I see operating-version=1; ignoring\n",
      "2018-10-01 22:20:07 keanu-Inspiron-5567 perceval.backends.core.mbox[25251] WARNING Field 'Message-ID' not found in message existing nodes trying to do:; ignoring\n",
      "2018-10-01 22:20:07 keanu-Inspiron-5567 perceval.backends.core.mbox[25251] WARNING Field 'Message-ID' not found in message existing nodes I see operating-version=1; ignoring\n",
      "2018-10-01 22:20:07 keanu-Inspiron-5567 perceval.backends.core.mbox[25251] WARNING Field 'Message-ID' not found in message existing nodes trying to do:; ignoring\n",
      "2018-10-01 22:20:07 keanu-Inspiron-5567 perceval.backends.core.mbox[25251] WARNING Field 'Message-ID' not found in message existing nodes I see operating-version=1; ignoring\n",
      "2018-10-01 22:20:07 keanu-Inspiron-5567 perceval.backends.core.mbox[25251] WARNING Field 'Message-ID' not found in message existing nodes trying to do:; ignoring\n",
      "2018-10-01 22:20:07 keanu-Inspiron-5567 perceval.backends.core.mbox[25251] WARNING Field 'Message-ID' not found in message existing nodes I see operating-version=1; ignoring\n",
      "2018-10-01 22:20:07 keanu-Inspiron-5567 perceval.backends.core.mbox[25251] WARNING Field 'Message-ID' not found in message existing nodes trying to do:; ignoring\n",
      "2018-10-01 22:20:07 keanu-Inspiron-5567 perceval.backends.core.mbox[25251] WARNING Field 'Message-ID' not found in message existing nodes I see operating-version=1; ignoring\n",
      "2018-10-01 22:20:07 keanu-Inspiron-5567 perceval.backends.core.mbox[25251] WARNING Field 'Message-ID' not found in message existing nodes trying to do:; ignoring\n",
      "2018-10-01 22:20:07 keanu-Inspiron-5567 perceval.backends.core.mbox[25251] WARNING Field 'Message-ID' not found in message existing nodes I see operating-version=1; ignoring\n",
      "2018-10-01 22:20:07 keanu-Inspiron-5567 perceval.backends.core.mbox[25251] WARNING Field 'Message-ID' not found in message 8-12 to i think 11-12 I have some hardware to test with.; ignoring\n",
      "2018-10-01 22:20:07 keanu-Inspiron-5567 perceval.backends.core.mbox[25251] WARNING Field 'Message-ID' not found in message 8-12 to i think 11-12 I have some hardware to test with.; ignoring\n",
      "2018-10-01 22:20:08 keanu-Inspiron-5567 perceval.backends.core.mbox[25251] WARNING Field 'Message-ID' not found in message the internet I find a solution, add? option rpc-auth-allow-insecure on? into the vol file on my gluster system, then the glfs_init return 1, it does?t work ok either.; ignoring\n",
      "2018-10-01 22:20:08 keanu-Inspiron-5567 perceval.backends.core.mbox[25251] WARNING Field 'Message-ID' not found in message the internet I find a solution, add? option rpc-auth-allow-insecure on? into the vol file on my gluster system, then the glfs_init return 1, it does?t work ok either.; ignoring\n",
      "2018-10-01 22:20:09 keanu-Inspiron-5567 perceval.backends.core.mbox[25251] WARNING Field 'Message-ID' not found in message memory, Bugzilla has some kind of XML-RPC interface as well; ignoring\n",
      "2018-10-01 22:20:09 keanu-Inspiron-5567 perceval.backends.core.mbox[25251] WARNING Field 'Message-ID' not found in message memory, Bugzilla has some kind of XML-RPC interface as well; ignoring\n",
      "2018-10-01 22:20:09 keanu-Inspiron-5567 perceval.backends.core.mbox[25251] WARNING Field 'Message-ID' not found in message memory, it was just an incorrect assumption in the test, and; ignoring\n",
      "2018-10-01 22:20:09 keanu-Inspiron-5567 perceval.backends.core.mbox[25251] WARNING Field 'Message-ID' not found in message memory, it was just an incorrect assumption in the test, and; ignoring\n",
      "2018-10-01 22:20:09 keanu-Inspiron-5567 perceval.backends.core.mbox[25251] WARNING Field 'Message-ID' not found in message memory, it was just an incorrect assumption in the test, and; ignoring\n"
     ]
    },
    {
     "name": "stdout",
     "output_type": "stream",
     "text": [
      "Before\n",
      "New value:  False\n",
      "['gluster-devel']\n",
      "Length:  5000\n",
      "Higher  0\n",
      "Higher  500\n",
      "Higher  1000\n",
      "Higher  1500\n",
      "Should not be here\n",
      "Higher  2000\n",
      "Higher  2500\n",
      "Higher  3000\n",
      "Should not be here\n",
      "Higher  3500\n",
      "Higher  4000\n",
      "Higher  4500\n",
      "Should not be here\n",
      "lower and lower\n",
      "right here\n",
      "2014-09-10 17:01:15\n",
      "[<augur.piper_reader.PiperMail.make.<locals>.table object at 0x7f482fe5e128>, <augur.piper_reader.PiperMail.make.<locals>.table object at 0x7f482fe5e198>, <augur.piper_reader.PiperMail.make.<locals>.table object at 0x7f482fe5e208>]\n",
      "sigh\n",
      "gluster-users\n",
      "announce\n",
      "gluster-devel\n",
      "File uploaded  15937\n",
      "Finished\n",
      "Hey\n"
     ]
    },
    {
     "name": "stderr",
     "output_type": "stream",
     "text": [
      "2018-10-01 22:21:46 keanu-Inspiron-5567 perceval.backends.core.mbox[25251] WARNING Field 'Message-ID' not found in message slide 5 of the corresponding slides:; ignoring\n",
      "2018-10-01 22:21:46 keanu-Inspiron-5567 perceval.backends.core.mbox[25251] WARNING Field 'Message-ID' not found in message my understanding you are proposing a feature that integrates a; ignoring\n",
      "2018-10-01 22:21:47 keanu-Inspiron-5567 perceval.backends.core.mbox[25251] WARNING Field 'Message-ID' not found in message GDB ,syncop_getxattr is on the same backtrace of ; ignoring\n",
      "2018-10-01 22:21:48 keanu-Inspiron-5567 perceval.backends.core.mbox[25251] WARNING Field 'Message-ID' not found in message Douglas Landgrafs report of FISL16:; ignoring\n",
      "2018-10-01 22:21:49 keanu-Inspiron-5567 perceval.backends.core.mbox[25251] WARNING Field 'Message-ID' not found in message browsing the repository a little, I can see that you have these; ignoring\n",
      "2018-10-01 22:21:49 keanu-Inspiron-5567 perceval.backends.core.mbox[25251] WARNING Field 'Message-ID' not found in message the mailinglist archive I could understand this was a problem in gluster version 3.4 and should be fixed. We started out from version 3.5 and upgraded in the meantime to version 3.6.4 but the error in the errorlog still exists.; ignoring\n"
     ]
    },
    {
     "name": "stdout",
     "output_type": "stream",
     "text": [
      "Before\n",
      "New value:  False\n",
      "['gluster-devel']\n",
      "Length:  5000\n",
      "Higher  0\n",
      "Higher  500\n",
      "Higher  1000\n"
     ]
    },
    {
     "name": "stderr",
     "output_type": "stream",
     "text": [
      "/home/keanu/anaconda3/envs/augur/lib/python3.6/site-packages/pymysql/cursors.py:170: Warning: (1366, \"Incorrect string value: '\\\\xA2\\\\xA8\\\\xC3\\\\xC8\\\\xD1\\\\xA1...' for column 'message_from' at row 525\")\n",
      "  result = self._query(query)\n",
      "/home/keanu/anaconda3/envs/augur/lib/python3.6/site-packages/pymysql/cursors.py:170: Warning: (1366, \"Incorrect string value: '\\\\xA2\\\\xA8\\\\xC3\\\\xC8\\\\xD1\\\\xA1...' for column 'message_from' at row 526\")\n",
      "  result = self._query(query)\n",
      "/home/keanu/anaconda3/envs/augur/lib/python3.6/site-packages/pymysql/cursors.py:170: Warning: (1366, \"Incorrect string value: '\\\\xA2\\\\xA8\\\\xC3\\\\xC8\\\\xD1\\\\xA1...' for column 'message_from' at row 559\")\n",
      "  result = self._query(query)\n",
      "/home/keanu/anaconda3/envs/augur/lib/python3.6/site-packages/pymysql/cursors.py:170: Warning: (1366, \"Incorrect string value: '\\\\xA2\\\\xA8\\\\xC3\\\\xC8\\\\xD1\\\\xA1...' for column 'message_from' at row 560\")\n",
      "  result = self._query(query)\n"
     ]
    },
    {
     "name": "stdout",
     "output_type": "stream",
     "text": [
      "Should not be here\n",
      "Higher  1500\n",
      "Higher  2000\n",
      "Higher  2500\n",
      "Higher  3000\n",
      "Should not be here\n",
      "Higher  3500\n",
      "Higher  4000\n",
      "Should not be here\n",
      "Higher  4500\n",
      "lower and lower\n",
      "right here\n",
      "2016-03-07 01:48:58\n",
      "[<augur.piper_reader.PiperMail.make.<locals>.table object at 0x7f48304deeb8>, <augur.piper_reader.PiperMail.make.<locals>.table object at 0x7f482ff89e48>, <augur.piper_reader.PiperMail.make.<locals>.table object at 0x7f482ff89dd8>]\n",
      "sigh\n",
      "gluster-users\n",
      "announce\n",
      "gluster-devel\n",
      "File uploaded  17081\n",
      "Finished\n",
      "Hey\n"
     ]
    },
    {
     "name": "stderr",
     "output_type": "stream",
     "text": [
      "2018-10-01 22:23:39 keanu-Inspiron-5567 perceval.backends.core.mbox[25251] WARNING Field 'Message-ID' not found in message contrib/fuse-util/Makefile.am:; ignoring\n",
      "2018-10-01 22:23:39 keanu-Inspiron-5567 perceval.backends.core.mbox[25251] WARNING Field 'Message-ID' not found in message those options, network.remote-dio seems most related to your aio; ignoring\n",
      "2018-10-01 22:23:40 keanu-Inspiron-5567 perceval.backends.core.mbox[25251] WARNING Field 'Message-ID' not found in message a58caf0dd20d7652a4d5cbc4318b93419cd89416 Mon Sep 17 00:00:00 2001; ignoring\n",
      "2018-10-01 22:23:40 keanu-Inspiron-5567 perceval.backends.core.mbox[25251] WARNING Field 'Message-ID' not found in message https://bugzilla.redhat.com/show_bug.cgi?id=1328581#c5 :; ignoring\n",
      "2018-10-01 22:23:40 keanu-Inspiron-5567 perceval.backends.core.mbox[25251] WARNING Field 'Message-ID' not found in message the tail log; ignoring\n",
      "2018-10-01 22:23:40 keanu-Inspiron-5567 perceval.backends.core.mbox[25251] WARNING Field 'Message-ID' not found in message the log I add the md-cache.c in glusterfs; ignoring\n",
      "2018-10-01 22:23:41 keanu-Inspiron-5567 perceval.backends.core.mbox[25251] WARNING Field 'Message-ID' not found in message https://gluster.readthedocs.io/en/latest/Install-Guide/Install/; ignoring\n",
      "2018-10-01 22:23:41 keanu-Inspiron-5567 perceval.backends.core.mbox[25251] WARNING Field 'Message-ID' not found in message a cursory look, libgfapi supports punching holes through the; ignoring\n",
      "2018-10-01 22:23:41 keanu-Inspiron-5567 perceval.backends.core.mbox[25251] WARNING Field 'Message-ID' not found in message my point of view, this is slightly more work, but elimintes the overhead; ignoring\n",
      "2018-10-01 22:23:41 keanu-Inspiron-5567 perceval.backends.core.mbox[25251] WARNING Field 'Message-ID' not found in message what I understand, the read-only feature (which I had seen and researched) is a client option for mounting the filesystem.  Unfortunately, we need the filesystem itself to be set up read-only, so that no one can modify it - in other words, we need to make sure that no client can mount it read/write.  So, it has to be set up and started as r/o, and then the clients have no choice but to get a r/o copy.; ignoring\n",
      "2018-10-01 22:23:41 keanu-Inspiron-5567 perceval.backends.core.mbox[25251] WARNING Field 'Message-ID' not found in message what I understand, the read-only feature (which I had seen and researched) is a client option for mounting the filesystem.  Unfortunately, we need the filesystem itself to be set up read-only, so that no one can modify it - in other words, we need to make sure that no client can mount it read/write.  So, it has to be set up and started as r/o, and then the clients have no choice but to get a r/o copy.; ignoring\n",
      "2018-10-01 22:23:41 keanu-Inspiron-5567 perceval.backends.core.mbox[25251] WARNING Field 'Message-ID' not found in message what I understand, the read-only feature (which I had seen and researched) is a client option for mounting the filesystem.  Unfortunately, we need the filesystem itself to be set up read-only, so that no one can modify it - in other words, we need to make sure that no client can mount it read/write.  So, it has to be set up and started as r/o, and then the clients have no choice but to get a r/o copy.; ignoring\n",
      "2018-10-01 22:23:42 keanu-Inspiron-5567 perceval.backends.core.mbox[25251] WARNING Field 'Message-ID' not found in message what I understand, the read-only feature (which I had seen and researched) is a client option for mounting the filesystem.  Unfortunately, we need the filesystem itself to be set up read-only, so that no one can modify it - in other words, we need to make sure that no client can mount it read/write.  So, it has to be set up and started as r/o, and then the clients have no choice but to get a r/o copy.; ignoring\n",
      "2018-10-01 22:23:42 keanu-Inspiron-5567 perceval.backends.core.mbox[25251] WARNING Field 'Message-ID' not found in message doc/developer-guide/identifying-resource-leaks.md:; ignoring\n",
      "2018-10-01 22:23:42 keanu-Inspiron-5567 perceval.backends.core.mbox[25251] WARNING Field 'Message-ID' not found in message a quick look, users are asking more questions there than in the; ignoring\n",
      "2018-10-01 22:23:42 keanu-Inspiron-5567 perceval.backends.core.mbox[25251] WARNING Field 'Message-ID' not found in message the test console log:; ignoring\n",
      "2018-10-01 22:23:43 keanu-Inspiron-5567 perceval.backends.core.mbox[25251] WARNING Field 'Message-ID' not found in message my understand , the Glusterfs maybe can?t handle the split-brain file in this case, could you share your comments and confirm whether do some enhancement for this case or not?; ignoring\n",
      "2018-10-01 22:23:43 keanu-Inspiron-5567 perceval.backends.core.mbox[25251] WARNING Field 'Message-ID' not found in message my investigation, if set ia_nlink to 0, if kernel read the attr with flag RCU, kernel will check the ia_nlink field, when do LINK operation, it will lead to error of ?files is not exist?.; ignoring\n",
      "2018-10-01 22:23:43 keanu-Inspiron-5567 perceval.backends.core.mbox[25251] WARNING Field 'Message-ID' not found in message the above code, the brick start maybe trigger twice, one is glusterd_spawn_saemons, another is glusterd_do_quorum_action.; ignoring\n",
      "2018-10-01 22:23:43 keanu-Inspiron-5567 perceval.backends.core.mbox[25251] WARNING Field 'Message-ID' not found in message our test case when this issue reproduced:; ignoring\n",
      "2018-10-01 22:23:43 keanu-Inspiron-5567 perceval.backends.core.mbox[25251] WARNING Field 'Message-ID' not found in message sn-0 glusterd log I find:; ignoring\n",
      "2018-10-01 22:23:43 keanu-Inspiron-5567 perceval.backends.core.mbox[25251] WARNING Field 'Message-ID' not found in message the above code, the brick start maybe trigger twice, one is glusterd_spawn_saemons, another is glusterd_do_quorum_action.; ignoring\n",
      "2018-10-01 22:23:43 keanu-Inspiron-5567 perceval.backends.core.mbox[25251] WARNING Field 'Message-ID' not found in message our test case when this issue reproduced:; ignoring\n",
      "2018-10-01 22:23:43 keanu-Inspiron-5567 perceval.backends.core.mbox[25251] WARNING Field 'Message-ID' not found in message sn-0 glusterd log I find:; ignoring\n",
      "2018-10-01 22:23:43 keanu-Inspiron-5567 perceval.backends.core.mbox[25251] WARNING Field 'Message-ID' not found in message the above code, the brick start maybe trigger twice, one is glusterd_spawn_saemons, another is glusterd_do_quorum_action.; ignoring\n",
      "2018-10-01 22:23:43 keanu-Inspiron-5567 perceval.backends.core.mbox[25251] WARNING Field 'Message-ID' not found in message our test case when this issue reproduced:; ignoring\n",
      "2018-10-01 22:23:43 keanu-Inspiron-5567 perceval.backends.core.mbox[25251] WARNING Field 'Message-ID' not found in message sn-0 glusterd log I find:; ignoring\n"
     ]
    },
    {
     "name": "stdout",
     "output_type": "stream",
     "text": [
      "Before\n",
      "New value:  False\n",
      "['gluster-devel']\n",
      "Length:  5000\n",
      "Higher  0\n",
      "Higher  500\n",
      "Higher  1000\n",
      "Should not be here\n",
      "Higher  1500\n",
      "Higher  2000\n",
      "Higher  2500\n",
      "Should not be here\n",
      "Higher  3000\n",
      "Higher  3500\n",
      "Should not be here\n",
      "Higher  4000\n",
      "Higher  4500\n",
      "lower and lower\n",
      "right here\n",
      "2018-06-11 12:48:13\n",
      "[<augur.piper_reader.PiperMail.make.<locals>.table object at 0x7f482ffaa080>, <augur.piper_reader.PiperMail.make.<locals>.table object at 0x7f482ffaa0f0>, <augur.piper_reader.PiperMail.make.<locals>.table object at 0x7f482ffaa160>]\n",
      "sigh\n",
      "gluster-users\n",
      "announce\n",
      "gluster-devel\n",
      "File uploaded  19669\n",
      "Finished\n",
      "Hey\n"
     ]
    },
    {
     "name": "stderr",
     "output_type": "stream",
     "text": [
      "2018-10-01 22:26:04 keanu-Inspiron-5567 perceval.backends.core.mbox[25251] INFO Done. 27013/27081 messages fetched; 68 ignored\n",
      "2018-10-01 22:26:04 keanu-Inspiron-5567 perceval.backends.core.pipermail[25251] INFO Fetch process completed\n"
     ]
    },
    {
     "name": "stdout",
     "output_type": "stream",
     "text": [
      "right after\n",
      "458\n",
      "New value:  False\n",
      "['gluster-devel']\n",
      "Length:  458\n",
      "Higher  0\n",
      "lower and lower\n",
      "right here\n",
      "2018-09-30 16:30:50\n",
      "[<augur.piper_reader.PiperMail.make.<locals>.table object at 0x7f48301032e8>, <augur.piper_reader.PiperMail.make.<locals>.table object at 0x7f48301035f8>, <augur.piper_reader.PiperMail.make.<locals>.table object at 0x7f4830103048>]\n",
      "sigh\n",
      "gluster-users\n",
      "announce\n",
      "gluster-devel\n",
      "File uploaded  1511\n",
      "Finished\n",
      "outside\n",
      "New value:  False\n",
      "['gluster-devel']\n",
      "Length:  1\n",
      "Higher  0\n",
      "lower and lower\n",
      "right here\n"
     ]
    },
    {
     "name": "stderr",
     "output_type": "stream",
     "text": [
      "2018-10-01 22:26:23 keanu-Inspiron-5567 perceval.backends.core.pipermail[25251] INFO Looking for messages from 'https://lists.gluster.org/pipermail/gluster-infra/' since 2010-12-01 20:37:11\n",
      "2018-10-01 22:26:23 keanu-Inspiron-5567 perceval.backends.core.pipermail[25251] INFO Downloading mboxes from 'https://lists.gluster.org/pipermail/gluster-infra/' to since 2010-12-01 20:37:11\n"
     ]
    },
    {
     "name": "stdout",
     "output_type": "stream",
     "text": [
      "File uploaded  4\n",
      "Finished\n",
      "Created File gluster-devel\n"
     ]
    },
    {
     "name": "stderr",
     "output_type": "stream",
     "text": [
      "2018-10-01 22:27:14 keanu-Inspiron-5567 perceval.backends.core.pipermail[25251] INFO 68/68 MBoxes downloaded\n",
      "2018-10-01 22:27:14 keanu-Inspiron-5567 perceval.backends.core.mbox[25251] WARNING Field 'Message-ID' not found in message this in /etc/sysconfig/nfs:; ignoring\n",
      "2018-10-01 22:27:14 keanu-Inspiron-5567 perceval.backends.core.mbox[25251] WARNING Field 'Message-ID' not found in message others projects I manage, I back everything on internal systems of; ignoring\n",
      "2018-10-01 22:27:15 keanu-Inspiron-5567 perceval.backends.core.mbox[25251] WARNING Field 'Message-ID' not found in message memory, these are the two servers bought for us, in place of the; ignoring\n",
      "2018-10-01 22:27:16 keanu-Inspiron-5567 perceval.backends.core.mbox[25251] WARNING Field 'Message-ID' not found in message here, we have several solutions:; ignoring\n",
      "2018-10-01 22:27:17 keanu-Inspiron-5567 perceval.backends.core.mbox[25251] INFO Done. 5050/5054 messages fetched; 4 ignored\n",
      "2018-10-01 22:27:17 keanu-Inspiron-5567 perceval.backends.core.pipermail[25251] INFO Fetch process completed\n"
     ]
    },
    {
     "name": "stdout",
     "output_type": "stream",
     "text": [
      "right after\n",
      "3859\n",
      "New value:  True\n",
      "['gluster-infra']\n",
      "Length:  3859\n",
      "Higher  0\n",
      "Higher  500\n",
      "Higher  1000\n",
      "Higher  1500\n",
      "Should not be here\n",
      "Higher  2000\n",
      "Higher  2500\n",
      "Higher  3000\n",
      "Should not be here\n",
      "Higher  3500\n",
      "lower and lower\n",
      "right here\n",
      "2018-10-01 07:37:13\n",
      "  augurlistID backend_name                                   mailing_list_url  \\\n",
      "0           4    Pipermail  https://lists.gluster.org/pipermail/gluster-in...   \n",
      "\n",
      "         project   last_message_date  \n",
      "0  gluster-infra 2018-10-02 02:27:17  \n",
      "File uploaded  11792\n",
      "Mailing List Job uploaded\n",
      "Finished\n",
      "outside\n",
      "New value:  False\n",
      "['gluster-infra']\n",
      "Length:  1\n",
      "Higher  0\n",
      "lower and lower\n",
      "right here\n"
     ]
    },
    {
     "name": "stderr",
     "output_type": "stream",
     "text": [
      "2018-10-01 22:28:33 keanu-Inspiron-5567 perceval.backends.core.pipermail[25251] INFO Looking for messages from 'https://lists.opendaylight.org/pipermail/aalldp-dev/' since 2010-12-01 20:37:11\n",
      "2018-10-01 22:28:33 keanu-Inspiron-5567 perceval.backends.core.pipermail[25251] INFO Downloading mboxes from 'https://lists.opendaylight.org/pipermail/aalldp-dev/' to since 2010-12-01 20:37:11\n"
     ]
    },
    {
     "name": "stdout",
     "output_type": "stream",
     "text": [
      "File uploaded  4\n",
      "Finished\n",
      "Created File gluster-infra\n",
      "{'gluster-users': 'update', 'announce': 'update', 'gluster-devel': 'update', 'gluster-infra': 'update'}\n",
      "Finished downloading files\n",
      "['aalldp-dev'] mail_list\n",
      "{'aalldp-dev': False}\n"
     ]
    },
    {
     "name": "stderr",
     "output_type": "stream",
     "text": [
      "2018-10-01 22:28:37 keanu-Inspiron-5567 perceval.backends.core.pipermail[25251] INFO 2/2 MBoxes downloaded\n",
      "2018-10-01 22:28:37 keanu-Inspiron-5567 perceval.backends.core.mbox[25251] INFO Done. 6/6 messages fetched; 0 ignored\n",
      "2018-10-01 22:28:37 keanu-Inspiron-5567 perceval.backends.core.pipermail[25251] INFO Fetch process completed\n"
     ]
    },
    {
     "name": "stdout",
     "output_type": "stream",
     "text": [
      "right after\n",
      "4\n",
      "New value:  True\n",
      "['aalldp-dev']\n",
      "Length:  4\n",
      "Higher  0\n",
      "lower and lower\n",
      "right here\n",
      "2018-07-06 00:00:58\n",
      "  augurlistID backend_name                                   mailing_list_url  \\\n",
      "0           5    Pipermail  https://lists.opendaylight.org/pipermail/aalld...   \n",
      "\n",
      "      project   last_message_date  \n",
      "0  aalldp-dev 2018-10-02 02:28:37  \n",
      "File uploaded  13\n",
      "Mailing List Job uploaded\n",
      "Finished\n",
      "outside\n",
      "New value:  False\n",
      "['aalldp-dev']\n",
      "Length:  1\n",
      "Higher  0\n",
      "lower and lower\n",
      "right here\n",
      "File uploaded  4\n",
      "Finished\n",
      "Created File aalldp-dev\n",
      "{'aalldp-dev': 'update'}\n",
      "Finished downloading files\n"
     ]
    }
   ],
   "source": [
    "if(not os.path.exists(path)):\n",
    "    file = open(path, \"w+\")\n",
    "else:\n",
    "    file = open(path, \"r\")\n",
    "    print(\"yeah\")\n",
    "if (os.stat(path).st_size == 0):\n",
    "    file.write(\"Link,mail_list\\n\")\n",
    "    file.write(\"https://lists.opendaylight.org/pipermail/,\\\"aalldp-dev\\\"\\n\")\n",
    "    file.write(\"https://lists.opendaylight.org/pipermail/,\\\"archetypes-dev\\\"\\n\")\n",
    "    print(\"Please enter the mailing lists and the links for them please\")\n",
    "    print(\"Going to the default mailing lists\")\n",
    "    file.close()\n",
    "    file = open(path,\"r\")\n",
    "\n",
    "count = 0\n",
    "for line in file:\n",
    "    print(line)\n",
    "    count+=1\n",
    "    if(count == 2):\n",
    "        break\n",
    "file.close()\n",
    "if(count == 2):\n",
    "    df = pd.read_csv(path)\n",
    "    groups = df.groupby('Link').groups\n",
    "    for group in groups:\n",
    "        link = group\n",
    "        mail_list = (df.loc[df['Link'] == group]['mail_list']).tolist()\n",
    "        print(mail_list,\"mail_list\")            \n",
    "        mail_check = {key:False for key in mail_list}\n",
    "        print(mail_check)\n",
    "        file = \"mail_list\"\n",
    "        path = \"/augur/data/archive-\" \n",
    "        #numb = 0\n",
    "        for x in range(len(mail_list)):\n",
    "            #print(link+mail[x])\n",
    "            if(mail_list[x] not in df1['project'].values ):\n",
    "                mail_check[mail_list[x]] = 'new'\n",
    "                place = os.path.join(os.getcwd() + path + mail_list[x] +'.json')           \n",
    "                repo = Pipermail(url = link+ mail_list[x] + \"/\",dirpath=\"tmp/archives_\"+mail_list[x])\n",
    "                numb,mail_lists = write_message(table,repo,'new',mail_check,mail_list[x],db,res,session,\\\n",
    "                                     [mail_list[x]],numb,mail_lists)\n",
    "                print(\"Created File\",mail_list[x])\n",
    "            else:\n",
    "                last_updatedSQL = s.sql.text(\"\"\"SELECT last_message_date FROM \n",
    "                mailing_list_jobs WHERE project = \"\"\" +  \"'\" + mail_list[x] + \"'\")\n",
    "                last_updated_df = pd.read_sql(last_updatedSQL, db)\n",
    "                time = (last_updated_df['last_message_date'])  \n",
    "                time = time.astype(object)\n",
    "                place = os.path.join(os.getcwd() + path + 'temp_' + mail_list[x] +'.json')       \n",
    "                repo = Pipermail(url = link+ mail_list[x] + \"/\",dirpath=\"tmp/archives_\"+mail_list[x])\n",
    "                print(time[0])\n",
    "                print(type(time[0]))\n",
    "                numb,mail_lists = write_message(table,repo,'not_new',mail_check,mail_list[x],db,\\\n",
    "                              res,session,[mail_list[x]],numb,mail_lists,time[0])\n",
    "                print(\"Checking to see for updated messages\")\n",
    "        print(mail_check)\n",
    "        print(\"Finished downloading files\")"
   ]
  },
  {
   "cell_type": "code",
   "execution_count": 6,
   "metadata": {
    "collapsed": true
   },
   "outputs": [],
   "source": [
    "li = ['Thu,', '2', 'Aug', '2012', '13:28:10', '-0700']"
   ]
  },
  {
   "cell_type": "code",
   "execution_count": 7,
   "metadata": {},
   "outputs": [],
   "source": [
    "li1 = ['Thu,', '6', 'Jan', '2011', '17:26:57', '-0500', '(EST)']"
   ]
  },
  {
   "cell_type": "code",
   "execution_count": 8,
   "metadata": {},
   "outputs": [
    {
     "data": {
      "text/plain": [
       "'17:26:57'"
      ]
     },
     "execution_count": 8,
     "metadata": {},
     "output_type": "execute_result"
    }
   ],
   "source": [
    "li1[4]"
   ]
  },
  {
   "cell_type": "code",
   "execution_count": 9,
   "metadata": {},
   "outputs": [
    {
     "data": {
      "text/plain": [
       "['Tue,', '11', 'Feb', '2014', '15:18:55']"
      ]
     },
     "execution_count": 9,
     "metadata": {},
     "output_type": "execute_result"
    }
   ],
   "source": [
    "(\"Tue, 11 Feb 2014 15:18:55\").split()"
   ]
  },
  {
   "cell_type": "code",
   "execution_count": 10,
   "metadata": {},
   "outputs": [
    {
     "data": {
      "text/plain": [
       "['15', '18', '55']"
      ]
     },
     "execution_count": 10,
     "metadata": {},
     "output_type": "execute_result"
    }
   ],
   "source": [
    "(\"15:18:55\").split(\":\")"
   ]
  }
 ],
 "metadata": {
  "kernelspec": {
   "display_name": "Python (augur)",
   "language": "python",
   "name": "augur"
  },
  "language_info": {
   "codemirror_mode": {
    "name": "ipython",
    "version": 3
   },
   "file_extension": ".py",
   "mimetype": "text/x-python",
   "name": "python",
   "nbconvert_exporter": "python",
   "pygments_lexer": "ipython3",
   "version": "3.6.5"
  }
 },
 "nbformat": 4,
 "nbformat_minor": 2
}
