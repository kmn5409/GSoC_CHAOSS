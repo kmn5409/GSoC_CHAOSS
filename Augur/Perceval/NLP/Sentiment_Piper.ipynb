{
 "cells": [
  {
   "cell_type": "code",
   "execution_count": 1,
   "metadata": {
    "collapsed": true,
    "scrolled": true
   },
   "outputs": [],
   "source": [
    "from urllib import request\n",
    "import nltk, re, pprint\n",
    "import nltk\n",
    "from nltk import word_tokenize\n",
    "import os,json\n",
    "from nltk.corpus import stopwords\n",
    "from nltk.tokenize import sent_tokenize \n",
    "%matplotlib inline\n",
    "#nltk.download('punkt')\n",
    "#nltk.download('stopwords')\n",
    "#pip install twython\n",
    "#nltk.download('vader_lexicon')"
   ]
  },
  {
   "cell_type": "code",
   "execution_count": 2,
   "metadata": {
    "collapsed": true
   },
   "outputs": [],
   "source": [
    "def read_json(p):\n",
    "    k = j = 0\n",
    "    y=\"\"\n",
    "    for line in p:\n",
    "        if(p[j:j+9] == \"\\\"origin\\\":\" or p[j:j+11] == \"\\\"unixfrom\\\":\"):\n",
    "            k+=1\n",
    "        y+=line\n",
    "        j+=1\n",
    "        if(k==2 and line == \"}\"):\n",
    "            break\n",
    "    return y,j"
   ]
  },
  {
   "cell_type": "code",
   "execution_count": 8,
   "metadata": {},
   "outputs": [
    {
     "name": "stdout",
     "output_type": "stream",
     "text": [
      "Hi Brian Kaczynski <kaczynskib at avaya.com>, Dennis Flynn <drflynn at avaya.com>,\n",
      "\n",
      "Please reply to this email to indicate that you are still an active committer on this project.\n",
      "\n",
      "Best Regards,\n",
      "An Ho\n",
      "\n",
      "\n",
      "\n",
      "\n",
      "\n",
      "\n"
     ]
    }
   ],
   "source": [
    "link = \"https://lists.opendaylight.org/pipermail/\"\n",
    "archives = [\"aalldp-dev\"]\n",
    "path = \"/augur/data/\"\n",
    "\n",
    "if \"notebooks\" in os.getcwd():\n",
    "    os.chdir(\"..\")\n",
    "\n",
    "for i in range(len(archives)):\n",
    "    place = os.getcwd() + path + 'opendaylight-' + archives[i]\n",
    "    name = os.getcwd() + path + archives[i]\n",
    "    f = open(place + '.json','r')\n",
    "    x = f.read()\n",
    "    temp = json.dumps(x)\n",
    "    f.close()\n",
    "    data,j = read_json(x)\n",
    "    di = json.loads(data)\n",
    "    #print(repr((di['data']['body']['plain'])))\n",
    "    raw = di['data']['body']['plain']\n",
    "    print(raw)"
   ]
  },
  {
   "cell_type": "code",
   "execution_count": 4,
   "metadata": {
    "collapsed": true
   },
   "outputs": [],
   "source": [
    "import nltk.data\n",
    "from nltk.sentiment.vader import SentimentIntensityAnalyzer\n",
    "from nltk import sentiment\n",
    "from nltk import word_tokenize"
   ]
  },
  {
   "cell_type": "code",
   "execution_count": 5,
   "metadata": {
    "collapsed": true,
    "scrolled": true
   },
   "outputs": [],
   "source": [
    "# Next, we initialize VADER so we can use it within our Python script\n",
    "sid = SentimentIntensityAnalyzer()\n",
    "\n",
    "# We will also initialize our 'english.pickle' function and give it a short name\n",
    "\n",
    "tokenizer = nltk.data.load('tokenizers/punkt/english.pickle')"
   ]
  },
  {
   "cell_type": "code",
   "execution_count": 6,
   "metadata": {
    "collapsed": true
   },
   "outputs": [],
   "source": [
    "message_text = raw\n",
    "sentences = tokenizer.tokenize(message_text)"
   ]
  },
  {
   "cell_type": "code",
   "execution_count": 7,
   "metadata": {},
   "outputs": [
    {
     "name": "stdout",
     "output_type": "stream",
     "text": [
      "Hi Brian Kaczynski <kaczynskib at avaya.com>, Dennis Flynn <drflynn at avaya.com>,\n",
      "\n",
      "Please reply to this email to indicate that you are still an active committer on this project.\n",
      "compound: 0.6124, neg: 0.0, neu: 0.839, pos: 0.161, \n",
      "Best Regards,\n",
      "An Ho\n",
      "compound: 0.6369, neg: 0.0, neu: 0.417, pos: 0.583, \n"
     ]
    }
   ],
   "source": [
    "for sentence in sentences:\n",
    "        print(sentence)\n",
    "        scores = sid.polarity_scores(sentence)\n",
    "        for key in sorted(scores):\n",
    "                print('{0}: {1}, '.format(key, scores[key]), end='')\n",
    "        print()"
   ]
  }
 ],
 "metadata": {
  "kernelspec": {
   "display_name": "Python (augur)",
   "language": "python",
   "name": "augur"
  },
  "language_info": {
   "codemirror_mode": {
    "name": "ipython",
    "version": 3
   },
   "file_extension": ".py",
   "mimetype": "text/x-python",
   "name": "python",
   "nbconvert_exporter": "python",
   "pygments_lexer": "ipython3",
   "version": "3.6.5"
  }
 },
 "nbformat": 4,
 "nbformat_minor": 2
}
