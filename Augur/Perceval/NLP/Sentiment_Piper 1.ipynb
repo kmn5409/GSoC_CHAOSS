{
 "cells": [
  {
   "cell_type": "code",
   "execution_count": 1,
   "metadata": {
    "collapsed": true,
    "scrolled": true
   },
   "outputs": [],
   "source": [
    "import nltk, re, pprint\n",
    "from nltk import word_tokenize\n",
    "import os,json\n",
    "from nltk.corpus import stopwords\n",
    "from nltk.tokenize import sent_tokenize \n",
    "import nltk.data\n",
    "from nltk.sentiment.vader import SentimentIntensityAnalyzer\n",
    "from nltk import sentiment\n",
    "from nltk import word_tokenize\n",
    "%matplotlib inline\n",
    "#nltk.download('punkt')\n",
    "#nltk.download('stopwords')\n",
    "#pip install twython\n",
    "#nltk.download('vader_lexicon')"
   ]
  },
  {
   "cell_type": "code",
   "execution_count": 2,
   "metadata": {
    "collapsed": true
   },
   "outputs": [],
   "source": [
    "def read_json(p):\n",
    "    k = j = 0\n",
    "    y=\"\"\n",
    "    for line in p:\n",
    "        if(p[j:j+9] == \"\\\"origin\\\":\" or p[j:j+11] == \"\\\"unixfrom\\\":\"):\n",
    "            k+=1\n",
    "        y+=line\n",
    "        j+=1\n",
    "        if(k==2 and line == \"}\"):\n",
    "            break\n",
    "    return y,j"
   ]
  },
  {
   "cell_type": "code",
   "execution_count": 3,
   "metadata": {
    "scrolled": false
   },
   "outputs": [
    {
     "name": "stdout",
     "output_type": "stream",
     "text": [
      "-------------------- SENTIMENT ANALYSIS --------------------\n",
      "There are no project related activity on Gerrit.\n",
      "compound: -0.296, \n"
     ]
    }
   ],
   "source": [
    "link = \"https://lists.opendaylight.org/pipermail/\"\n",
    "archives = [\"aalldp-dev\",\"archetypes-dev\"]\n",
    "path = \"/augur/data/\"\n",
    "\n",
    "if \"notebooks\" in os.getcwd():\n",
    "    os.chdir(\"..\")\n",
    "\n",
    "for i in range(len(archives)):\n",
    "    place = os.getcwd() + path + 'opendaylight-' + archives[i]\n",
    "    name = os.getcwd() + path + archives[i]\n",
    "    f = open(place + '.json','r')\n",
    "    x = f.read()\n",
    "    #print(x,\"\\n\\n\\n\")\n",
    "    temp = json.dumps(x)\n",
    "    f.close()\n",
    "    data,j = read_json(x)\n",
    "    di = json.loads(data)\n",
    "    #print(repr((di['data']['body']['plain'])))\n",
    "    while(j<len(x)):\n",
    "        raw = di['data']['body']['plain']\n",
    "        #print(raw)\n",
    "        # Next, we initialize VADER so we can use it within our Python script\n",
    "        sid = SentimentIntensityAnalyzer()\n",
    "\n",
    "        # We will also initialize our 'english.pickle' function and give it a short name\n",
    "\n",
    "        tokenizer = nltk.data.load('tokenizers/punkt/english.pickle')\n",
    "        message_text = raw\n",
    "        sentences = tokenizer.tokenize(message_text)\n",
    "        for sentence in sentences:\n",
    "            scores = sid.polarity_scores(sentence)\n",
    "            #print(scores)\n",
    "            for key in sorted(scores):\n",
    "                    #if(scores[key])\n",
    "                    #print(key)\n",
    "                    #print('{0}: {1}, '.format(key, scores[key]), end='')\n",
    "                    if(key=='compound' and scores[key] < -0.0):\n",
    "                        print(\"-\"*20,\"SENTIMENT ANALYSIS\",\"-\"*20)\n",
    "                        print(sentence)\n",
    "                        #print(raw)\n",
    "                        print('{0}: {1}, '.format(key, scores[key]), end='')\n",
    "                        print()\n",
    "        #print(\"\\n\\n\",\"-\"*70,\"\\n\\n\")\n",
    "        data,r= read_json(x[j:])\n",
    "        j+=r\n",
    "        if(j==len(x)):\n",
    "            break\n",
    "        di = json.loads(data)\n",
    "    #print(\"\\n\\n\\n\",di)"
   ]
  }
 ],
 "metadata": {
  "kernelspec": {
   "display_name": "Python (augur)",
   "language": "python",
   "name": "augur"
  },
  "language_info": {
   "codemirror_mode": {
    "name": "ipython",
    "version": 3
   },
   "file_extension": ".py",
   "mimetype": "text/x-python",
   "name": "python",
   "nbconvert_exporter": "python",
   "pygments_lexer": "ipython3",
   "version": "3.6.5"
  }
 },
 "nbformat": 4,
 "nbformat_minor": 2
}
