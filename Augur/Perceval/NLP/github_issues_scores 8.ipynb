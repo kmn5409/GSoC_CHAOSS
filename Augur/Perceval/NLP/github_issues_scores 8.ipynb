{
 "cells": [
  {
   "cell_type": "code",
   "execution_count": 1,
   "metadata": {},
   "outputs": [
    {
     "name": "stdout",
     "output_type": "stream",
     "text": [
      "Requirement already satisfied: nltk in /home/keanu/anaconda3/envs/augur/lib/python3.6/site-packages (3.3)\n",
      "Requirement already satisfied: six in /home/keanu/anaconda3/envs/augur/lib/python3.6/site-packages (from nltk) (1.11.0)\n",
      "\u001b[33mYou are using pip version 10.0.1, however version 18.0 is available.\n",
      "You should consider upgrading via the 'pip install --upgrade pip' command.\u001b[0m\n",
      "[nltk_data] Downloading package vader_lexicon to\n",
      "[nltk_data]     /home/keanu/nltk_data...\n",
      "[nltk_data]   Package vader_lexicon is already up-to-date!\n",
      "[nltk_data] Downloading package punkt to /home/keanu/nltk_data...\n",
      "[nltk_data]   Package punkt is already up-to-date!\n",
      "[nltk_data] Downloading package stopwords to /home/keanu/nltk_data...\n",
      "[nltk_data]   Package stopwords is already up-to-date!\n",
      "Requirement already satisfied: scipy in /home/keanu/anaconda3/envs/augur/lib/python3.6/site-packages (1.1.0)\n",
      "Requirement already satisfied: numpy>=1.8.2 in /home/keanu/anaconda3/envs/augur/lib/python3.6/site-packages (from scipy) (1.14.2)\n",
      "\u001b[33mYou are using pip version 10.0.1, however version 18.0 is available.\n",
      "You should consider upgrading via the 'pip install --upgrade pip' command.\u001b[0m\n"
     ]
    }
   ],
   "source": [
    "# Install a pip package in the current Jupyter kernel\n",
    "import sys\n",
    "!{sys.executable} -m pip install nltk\n",
    "import nltk\n",
    "nltk.download('vader_lexicon')\n",
    "nltk.download('punkt')\n",
    "nltk.download('stopwords')\n",
    "!{sys.executable} -m pip install scipy\n",
    "from scipy import stats"
   ]
  },
  {
   "cell_type": "code",
   "execution_count": 2,
   "metadata": {
    "collapsed": true
   },
   "outputs": [],
   "source": [
    "from perceval.backends.core.github import GitHub\n",
    "import os,json\n",
    "import nltk.data\n",
    "import numpy as np\n",
    "from nltk.sentiment.vader import SentimentIntensityAnalyzer\n",
    "import augur\n",
    "import datetime as dt\n",
    "import sqlalchemy as s\n",
    "import matplotlib.pyplot as plot\n",
    "import matplotlib.dates as mdates\n",
    "import pandas as pd\n",
    "%matplotlib inline"
   ]
  },
  {
   "cell_type": "markdown",
   "metadata": {},
   "source": [
    "## Load\n",
    "\n",
    "First loads the users data from 'augur.config.json' so will take the Database information (e.g. name of database, port of database). Then connects to the database using augur.App.github_issues() and takes the details of the database and connects to to the database using charset 'utf8'. It also makes a connection to piper_reader, it then determines if 'github_issues_2' is in the Database if so it stores the git repositories into 'df1'. It then loads the SentimentIntensityAnalyzer from NLTK (Natural Language Tool Kit) and stores the table 'github_issues_2' which has all the github issues into 'df_users'."
   ]
  },
  {
   "cell_type": "code",
   "execution_count": null,
   "metadata": {
    "collapsed": true
   },
   "outputs": [],
   "source": [
    "if(\"notebooks\" not in os.getcwd()):\n",
    "    os.chdir(\"notebooks\")\n",
    "augurApp = augur.Application('../augur.config.json')\n",
    "connect,list1,path = augurApp.github_issues()\n",
    "DB_STR = 'mysql+pymysql://{}:{}@{}:{}/{}?charset=utf8'.format(\n",
    "            list1[0], list1[1], list1[2],\\\n",
    "            list1[3], list1[4]\n",
    "        )\n",
    "db = s.create_engine(DB_STR)\n",
    "\n",
    "table_names = s.inspect(db).get_table_names()\n",
    "print(table_names)\n",
    "\n",
    "if(\"github_issues_2\" in table_names):\n",
    "    lists_createdSQL = s.sql.text(\"\"\"SELECT repo FROM github_issues_2\"\"\")\n",
    "    df1 = pd.read_sql(lists_createdSQL, db)\n",
    "    #print(df1)\n",
    "    val = True\n",
    "\n",
    "    \n",
    "\n",
    "tokenizer = nltk.data.load('tokenizers/punkt/english.pickle')\n",
    "sid = SentimentIntensityAnalyzer()\n",
    "col = 'score','sentiment'\n",
    "\n",
    "SQL = \"\"\"SELECT * FROM github_issues_2\"\"\"\n",
    "df_users =  pd.read_sql(SQL, db)\n",
    "print(df_users.head())\n",
    "print(df_users.tail())"
   ]
  },
  {
   "cell_type": "markdown",
   "metadata": {},
   "source": [
    "## Sentiment Scores:\n",
    "\n",
    "Groups all the messages by subject and then iterates through the subjects, it then iterates through the different messages in the subject and feeds this to the tokenizer which breaks the message into different parts and gives the sentiment for them and then finds the average of the parts. This is then added to df3."
   ]
  },
  {
   "cell_type": "code",
   "execution_count": 8,
   "metadata": {
    "scrolled": false
   },
   "outputs": [
    {
     "name": "stdout",
     "output_type": "stream",
     "text": [
      "481\n"
     ]
    }
   ],
   "source": [
    "grouped = df_users.groupby('subject').groups\n",
    "num = 0\n",
    "col = 'score','sentiment'\n",
    "columns1 = 'augurmsgID',\"backend_name\",'repo_link',\"owner\",\"repo\",\"subject\",\\\n",
    "          \"status\",\"category\",\"issue_number\",\"timestamp\",\\\n",
    "          \"issue_id\",\"user\",\"body\"\n",
    "df3 = pd.DataFrame(columns=col)\n",
    "df_list = pd.DataFrame(columns = columns1)\n",
    "df_list = df_list.append(df_users)\n",
    "for group in grouped:\n",
    "    #print(group)\n",
    "    issue_num = (df_users.loc[df_users['subject'] == group]['issue_number']).values\n",
    "    messages = (df_users.loc[df_users['subject'] == group]['body']).tolist()\n",
    "    id1 = (df_users.loc[df_users['subject'] == group]['body']).tolist()\n",
    "    #print(\"Issue number: \",issue_num[0])\n",
    "    #break\n",
    "    for i in messages:\n",
    "        #print(i)\n",
    "        sentences = tokenizer.tokenize(i)\n",
    "        compound = 0\n",
    "        part = 0\n",
    "        sentiment = \"Positive\"\n",
    "        for sentence in sentences:\n",
    "            scores = sid.polarity_scores(sentence)\n",
    "            compound+=scores['compound']\n",
    "            part+=1\n",
    "            #print(sentence,scores)\n",
    "            #if(scores['compound'] < 0.1):\n",
    "            #    print(sentence,scores['compound'])\n",
    "        if(part == 0):\n",
    "            avg = 0\n",
    "        else:\n",
    "            avg = compound/part\n",
    "            avg = round(avg,3)\n",
    "        if(avg == 0):\n",
    "            sentiment = \"Neutral\"\n",
    "        elif(avg < 0):\n",
    "            sentiment = \"Negative\"\n",
    "        li = [ [avg,sentiment]]\n",
    "        df_temp = pd.DataFrame(li,columns=col)\n",
    "        df3 = df3.append(df_temp)\n",
    "        #if(avg < -0.5):\n",
    "            #print(i,avg)\n",
    "            #print(\"\\n\\n\\n\\n\\n\\n\")\n",
    "    #if(num == 40):\n",
    "    #    break\n",
    "    num+=1\n",
    "    #print(\"\\n\\n\\n\")\n",
    "print(num)"
   ]
  },
  {
   "cell_type": "markdown",
   "metadata": {},
   "source": [
    "## Combine\n",
    "\n",
    "Combines the dataframe with all the messages and joins that with the scores for the messages. Then uploads this to the database as 'github_issues_sentiment_scores_2'."
   ]
  },
  {
   "cell_type": "code",
   "execution_count": 9,
   "metadata": {
    "collapsed": true
   },
   "outputs": [],
   "source": [
    "#print(df3)\n",
    "#print(df_list)\n",
    "df3 = df3.reset_index(drop=True)\n",
    "#print(df3.head())\n",
    "df_list = df_list.reset_index(drop=True)\n",
    "combine = (df_list.join(df3))\n",
    "\n",
    "print(combine.head())\n",
    "\n",
    "combine.to_sql(name='github_issues_sentiment_scores_2',\\\n",
    "               con=db,if_exists='replace',index=False)"
   ]
  },
  {
   "cell_type": "markdown",
   "metadata": {},
   "source": [
    "## Graphs\n",
    "\n",
    "Takes all the git repositories in 'combine' and groups by the column 'repo_link' and gets the dates and sentiment scores and plots a graph based on this."
   ]
  },
  {
   "cell_type": "code",
   "execution_count": 15,
   "metadata": {
    "scrolled": false
   },
   "outputs": [
    {
     "name": "stdout",
     "output_type": "stream",
     "text": [
      "(126,)\n",
      "(126,)\n"
     ]
    },
    {
     "data": {
      "image/png": "[encoded data removed]",
      "text/plain": [
       "<Figure size 432x288 with 1 Axes>"
      ]
     },
     "metadata": {},
     "output_type": "display_data"
    },
    {
     "name": "stdout",
     "output_type": "stream",
     "text": [
      "(357,)\n",
      "(357,)\n"
     ]
    },
    {
     "data": {
      "image/png": "[encoded data removed]",
      "text/plain": [
       "<Figure size 432x288 with 1 Axes>"
      ]
     },
     "metadata": {},
     "output_type": "display_data"
    }
   ],
   "source": [
    "repos = combine.groupby('repo_link')\n",
    "x = 0\n",
    "for repo in repos:\n",
    "    fin_dates = []\n",
    "    fin_values = []\n",
    "    dates = []\n",
    "    values = []\n",
    "    mail_list = None\n",
    "    j = 0\n",
    "    rep = (combine.loc[combine['repo_link'] == repo[0]])\n",
    "    grouped = rep.groupby('subject').groups\n",
    "    for group in grouped:\n",
    "        #print(group)\n",
    "        dates = (combine.loc[combine['subject'] == group]['timestamp']).tolist()\n",
    "        values = (combine.loc[combine['subject'] == group]['score']).unique().tolist()\n",
    "        #print(\"Issue number: \",issue_num[0])\n",
    "        x = np.array(dates)\n",
    "        dates = np.unique(x)\n",
    "        #print(type(x[0]))\n",
    "        #print(dates)\n",
    "        dates = [dt.datetime.strptime(d[:10],'%Y-%m-%d').date() for d in x]\n",
    "        #print(dates)\n",
    "        dates1 = [x for x in dates]\n",
    "        values = sum(values[0:len(values)])/len(values)\n",
    "        fin_dates.append(dates1[0])\n",
    "        fin_values.append(values)\n",
    "        num+=1\n",
    "        j+=1\n",
    "    fin_dates = mdates.date2num(fin_dates)\n",
    "    fin_values = np.asarray(fin_values)\n",
    "    print(fin_dates.shape)\n",
    "    print(fin_values.shape)\n",
    "    plot.plot_date(fin_dates, fin_values)\n",
    "    #plot.plot(fin_dates,fin_values)\n",
    "    plot.gcf().autofmt_xdate()\n",
    "    plot.title(\"Issues: \"+ str(repo[0]))\n",
    "    plot.ylabel('Score')\n",
    "    plot.xlabel('Date')\n",
    "    #print(fin_dates)\n",
    "    slope, intercept, r_value, p_value, std_err = stats.linregress(fin_dates,fin_values)\n",
    "    line = slope*fin_dates+intercept\n",
    "    plot.plot(fin_dates,fin_values,'o', fin_dates, line)\n",
    "    #plot.savefig('foo' + str(x) + '.png')\n",
    "    #x+=1\n",
    "    plot.show()"
   ]
  }
 ],
 "metadata": {
  "kernelspec": {
   "display_name": "Python (augur)",
   "language": "python",
   "name": "augur"
  },
  "language_info": {
   "codemirror_mode": {
    "name": "ipython",
    "version": 3
   },
   "file_extension": ".py",
   "mimetype": "text/x-python",
   "name": "python",
   "nbconvert_exporter": "python",
   "pygments_lexer": "ipython3",
   "version": "3.6.5"
  }
 },
 "nbformat": 4,
 "nbformat_minor": 2
}
