{
 "cells": [
  {
   "cell_type": "code",
   "execution_count": 1,
   "metadata": {
    "collapsed": true,
    "scrolled": true
   },
   "outputs": [],
   "source": [
    "import nltk, re, pprint\n",
    "from nltk import word_tokenize\n",
    "import os,json\n",
    "from nltk.corpus import stopwords\n",
    "from nltk.tokenize import sent_tokenize \n",
    "import nltk.data\n",
    "from nltk.sentiment.vader import SentimentIntensityAnalyzer\n",
    "from nltk import sentiment\n",
    "from nltk import word_tokenize\n",
    "import augur\n",
    "import sqlalchemy as s\n",
    "from sqlalchemy.orm import sessionmaker\n",
    "from sqlalchemy.sql import table, column, select, update, insert\n",
    "from sqlalchemy import MetaData\n",
    "import pandas as pd\n",
    "%matplotlib inline\n",
    "#nltk.download('punkt')\n",
    "#nltk.download('stopwords')\n",
    "#pip install twython\n",
    "#nltk.download('vader_lexicon')"
   ]
  },
  {
   "cell_type": "code",
   "execution_count": 2,
   "metadata": {
    "collapsed": true
   },
   "outputs": [],
   "source": [
    "if(\"notebooks\" not in os.getcwd()):\n",
    "    os.chdir(\"notebooks\")\n",
    "augurApp = augur.Application('../augur.config.json')\n",
    "connect = augurApp.ghtorrentplus()"
   ]
  },
  {
   "cell_type": "code",
   "execution_count": 3,
   "metadata": {},
   "outputs": [
    {
     "name": "stdout",
     "output_type": "stream",
     "text": [
      "['issue_response_time', 'mail_lists', 'mailing_list_jobs']\n"
     ]
    }
   ],
   "source": [
    "table_names = s.inspect(connect.db).get_table_names()\n",
    "print(table_names)"
   ]
  },
  {
   "cell_type": "code",
   "execution_count": 4,
   "metadata": {},
   "outputs": [
    {
     "name": "stdout",
     "output_type": "stream",
     "text": [
      "          project\n",
      "0      aalldp-dev\n",
      "1  archetypes-dev\n"
     ]
    }
   ],
   "source": [
    "if(\"mailing_list_jobs\" in table_names):\n",
    "    lists_createdSQL = s.sql.text(\"\"\"SELECT project FROM mailing_list_jobs\"\"\")\n",
    "    df1 = pd.read_sql(lists_createdSQL, connect.db)\n",
    "    print(df1)\n",
    "    val = True"
   ]
  },
  {
   "cell_type": "code",
   "execution_count": 11,
   "metadata": {},
   "outputs": [
    {
     "name": "stdout",
     "output_type": "stream",
     "text": [
      "aalldp-dev Mailing List\n",
      "Here!!!!\n",
      "\n",
      "\n",
      "\n",
      "archetypes-dev Mailing List\n",
      "Here!!!!\n",
      "\n",
      "\n",
      "\n"
     ]
    }
   ],
   "source": [
    "tokenizer = nltk.data.load('tokenizers/punkt/english.pickle')\n",
    "sid = SentimentIntensityAnalyzer()\n",
    "col = 'score','sentiment'\n",
    "columns1 = 'augurmsgID', 'backend_name','project','mailing_list','category',\\\n",
    "           'message_part','message_parts_tot', 'subject','date',\\\n",
    "           'message_from','message_id','message_text'\n",
    "df3 = pd.DataFrame(columns = col)\n",
    "df_list = pd.DataFrame(columns = columns1)\n",
    "for i in df1['project'].values:\n",
    "    print(i,\"Mailing List\")\n",
    "    SQL = s.sql.text(\"\"\"SELECT * \n",
    "    FROM mail_lists WHERE mailing_list = \"\"\" +  \"'\" + i + \"'\")\n",
    "    df2 = pd.read_sql(SQL, connect.db)\n",
    "    df_list = df_list.append(df2)\n",
    "    #print(df2)\n",
    "    grouped = df2.groupby('message_id').groups\n",
    "    print(\"Here!!!!\")\n",
    "    #print(\"\\n\\n\",\"-\"*70,\"\\n\\n\")\n",
    "    for group in grouped:\n",
    "        parts = 0\n",
    "        numb = len(df2.loc[df2['message_id'] == group]['message_parts_tot'].tolist())\n",
    "        message = (df2.loc[df2['message_id'] == group]['message_text']).tolist()\n",
    "        message_text = ''.join(message)\n",
    "        sentences = tokenizer.tokenize(message_text)\n",
    "        compound = parts = 0\n",
    "        sentiment = \"Positive\"\n",
    "        for sentence in sentences:\n",
    "            scores = sid.polarity_scores(sentence)\n",
    "            compound+= scores['compound']\n",
    "            parts+=1\n",
    "        avg_score = compound/parts\n",
    "        if(avg_score == 0):\n",
    "            sentiment = \"Neutral\"\n",
    "        elif(avg_score < 0):\n",
    "            sentiment = \"Negative\"\n",
    "        #print(message)\n",
    "        for i in range(numb):\n",
    "            li = [ [avg_score, sentiment] ]\n",
    "            df_temp = pd.DataFrame(li,columns = col)\n",
    "            #print(df_temp['score'])\n",
    "            df3 = df3.append(df_temp)\n",
    "            #print(df3)\n",
    "    print(\"\\n\\n\")"
   ]
  },
  {
   "cell_type": "code",
   "execution_count": 21,
   "metadata": {
    "scrolled": true
   },
   "outputs": [
    {
     "name": "stdout",
     "output_type": "stream",
     "text": [
      "      score sentiment\n",
      "0  0.140263  Positive\n",
      "1  0.140263  Positive\n",
      "2  0.624650  Positive\n",
      "3  0.624650  Positive\n",
      "4  0.148000  Positive\n",
      "5  0.148000  Positive\n",
      "6  0.285950  Positive\n",
      "7  0.285950  Positive\n",
      "  augurmsgID backend_name                                            project  \\\n",
      "0          1    Pipermail  https://lists.opendaylight.org/pipermail/aalld...   \n",
      "1          2    Pipermail  https://lists.opendaylight.org/pipermail/aalld...   \n",
      "2          3    Pipermail  https://lists.opendaylight.org/pipermail/aalld...   \n",
      "3          4    Pipermail  https://lists.opendaylight.org/pipermail/aalld...   \n",
      "4          5    Pipermail  https://lists.opendaylight.org/pipermail/arche...   \n",
      "5          6    Pipermail  https://lists.opendaylight.org/pipermail/arche...   \n",
      "6          7    Pipermail  https://lists.opendaylight.org/pipermail/arche...   \n",
      "7          8    Pipermail  https://lists.opendaylight.org/pipermail/arche...   \n",
      "\n",
      "     mailing_list category message_part message_parts_tot  \\\n",
      "0      aalldp-dev  message            1                 2   \n",
      "1      aalldp-dev  message            2                 2   \n",
      "2      aalldp-dev  message            1                 2   \n",
      "3      aalldp-dev  message            2                 2   \n",
      "4  archetypes-dev  message            1                 2   \n",
      "5  archetypes-dev  message            2                 2   \n",
      "6  archetypes-dev  message            1                 2   \n",
      "7  archetypes-dev  message            2                 2   \n",
      "\n",
      "                                             subject                date  \\\n",
      "0              [aalldp-dev] AALLDP Active Committers 2016-03-24 20:37:11   \n",
      "1              [aalldp-dev] AALLDP Active Committers 2016-03-24 20:37:11   \n",
      "2    [aalldp-dev] Plans for Archiving AALLDP Project 2016-03-24 20:37:08   \n",
      "3    [aalldp-dev] Plans for Archiving AALLDP Project 2016-03-24 20:37:08   \n",
      "4         [archetypes-dev] Mailing archive list test 2018-04-17 21:37:58   \n",
      "5         [archetypes-dev] Mailing archive list test 2018-04-17 21:37:58   \n",
      "6  [archetypes-dev] archetypes-dev mailing list a... 2018-04-18 09:11:16   \n",
      "7  [archetypes-dev] archetypes-dev mailing list a... 2018-04-18 09:11:16   \n",
      "\n",
      "                                        message_from  \\\n",
      "0                        An.Ho at huawei.com (An Ho)   \n",
      "1                        An.Ho at huawei.com (An Ho)   \n",
      "2                        An.Ho at huawei.com (An Ho)   \n",
      "3                        An.Ho at huawei.com (An Ho)   \n",
      "4  agrimberg at linuxfoundation.org (Andrew Grimb...   \n",
      "5  agrimberg at linuxfoundation.org (Andrew Grimb...   \n",
      "6        vorburger at redhat.com (Michael Vorburger)   \n",
      "7        vorburger at redhat.com (Michael Vorburger)   \n",
      "\n",
      "                                          message_id  \\\n",
      "0  <EEEA408CE50B48498B9F866085AEF2912FAEEAAD@SJCE...   \n",
      "1  <EEEA408CE50B48498B9F866085AEF2912FAEEAAD@SJCE...   \n",
      "2  <EEEA408CE50B48498B9F866085AEF2912FAEEAA0@SJCE...   \n",
      "3  <EEEA408CE50B48498B9F866085AEF2912FAEEAA0@SJCE...   \n",
      "4  <34dc81cb-f265-875a-ba4c-eac4fc664c6c@linuxfou...   \n",
      "5  <34dc81cb-f265-875a-ba4c-eac4fc664c6c@linuxfou...   \n",
      "6  <CACeyj_G0CPafJwN1i8-aLMVDxS9wNggUKzDc-WsWOD-p...   \n",
      "7  <CACeyj_G0CPafJwN1i8-aLMVDxS9wNggUKzDc-WsWOD-p...   \n",
      "\n",
      "                                        message_text  \n",
      "0  Hi Brian Kaczynski <kaczynskib at avaya.com>, ...  \n",
      "1  this email to indicate that you are still an a...  \n",
      "2  Hi AALLDP Team,\\n\\n\\n\\n1. Does your project ha...  \n",
      "3   for any future active development, project co...  \n",
      "4  This is just a test.\\n\\n-- \\nAndrew J Grimberg...  \n",
      "5  --------- next part --------------\\nA non-text...  \n",
      "6  Hello archetypians,\\n\\nJust to let you all kno...  \n",
      "7  es-dev/ works now (thanks\\nAndy!).\\n\\nJust in ...  \n"
     ]
    }
   ],
   "source": [
    "print(df3)\n",
    "print(df_list)\n",
    "df3 = df3.reset_index(drop=True)\n",
    "df_list = df_list.reset_index(drop=True)\n",
    "combine = (df_list.join(df3))"
   ]
  },
  {
   "cell_type": "code",
   "execution_count": 23,
   "metadata": {},
   "outputs": [
    {
     "name": "stdout",
     "output_type": "stream",
     "text": [
      "['augurmsgID', 'backend_name', 'project', 'mailing_list', 'category', 'message_part', 'message_parts_tot', 'subject', 'date', 'message_from', 'message_id', 'message_text', 'score', 'sentiment']\n"
     ]
    }
   ],
   "source": [
    "print(list(combine))"
   ]
  },
  {
   "cell_type": "code",
   "execution_count": 22,
   "metadata": {},
   "outputs": [],
   "source": [
    "combine.to_sql(name='mail_lists_sentiment_scores',con=connect.db,if_exists='replace',index=False)"
   ]
  }
 ],
 "metadata": {
  "kernelspec": {
   "display_name": "Python (augur)",
   "language": "python",
   "name": "augur"
  },
  "language_info": {
   "codemirror_mode": {
    "name": "ipython",
    "version": 3
   },
   "file_extension": ".py",
   "mimetype": "text/x-python",
   "name": "python",
   "nbconvert_exporter": "python",
   "pygments_lexer": "ipython3",
   "version": "3.6.5"
  }
 },
 "nbformat": 4,
 "nbformat_minor": 2
}
