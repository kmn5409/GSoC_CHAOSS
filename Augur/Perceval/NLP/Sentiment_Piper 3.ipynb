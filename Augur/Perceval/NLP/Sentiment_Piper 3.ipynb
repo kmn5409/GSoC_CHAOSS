{
 "cells": [
  {
   "cell_type": "code",
   "execution_count": 8,
   "metadata": {
    "collapsed": true,
    "scrolled": true
   },
   "outputs": [],
   "source": [
    "import nltk, re, pprint\n",
    "from nltk import word_tokenize\n",
    "import os,json\n",
    "from nltk.corpus import stopwords\n",
    "from nltk.tokenize import sent_tokenize \n",
    "import nltk.data\n",
    "from nltk.sentiment.vader import SentimentIntensityAnalyzer\n",
    "from nltk import sentiment\n",
    "from nltk import word_tokenize\n",
    "import augur\n",
    "import sqlalchemy as s\n",
    "import pandas as pd\n",
    "%matplotlib inline\n",
    "#nltk.download('punkt')\n",
    "#nltk.download('stopwords')\n",
    "#pip install twython\n",
    "#nltk.download('vader_lexicon')"
   ]
  },
  {
   "cell_type": "code",
   "execution_count": 9,
   "metadata": {
    "collapsed": true
   },
   "outputs": [],
   "source": [
    "if(\"notebooks\" not in os.getcwd()):\n",
    "    os.chdir(\"notebooks\")\n",
    "augurApp = augur.Application('../augur.config.json')\n",
    "connect = augurApp.ghtorrentplus()"
   ]
  },
  {
   "cell_type": "code",
   "execution_count": 10,
   "metadata": {},
   "outputs": [
    {
     "name": "stdout",
     "output_type": "stream",
     "text": [
      "['issue_response_time', 'mail_lists', 'mailing_list_jobs']\n"
     ]
    }
   ],
   "source": [
    "table_names = s.inspect(connect.db).get_table_names()\n",
    "print(table_names)"
   ]
  },
  {
   "cell_type": "code",
   "execution_count": 11,
   "metadata": {},
   "outputs": [
    {
     "name": "stdout",
     "output_type": "stream",
     "text": [
      "          project\n",
      "0      aalldp-dev\n",
      "1  archetypes-dev\n"
     ]
    }
   ],
   "source": [
    "if(\"mailing_list_jobs\" in table_names):\n",
    "    lists_createdSQL = s.sql.text(\"\"\"SELECT project FROM mailing_list_jobs\"\"\")\n",
    "    df1 = pd.read_sql(lists_createdSQL, connect.db)\n",
    "    print(df1)\n",
    "    val = True"
   ]
  },
  {
   "cell_type": "code",
   "execution_count": 51,
   "metadata": {},
   "outputs": [
    {
     "name": "stdout",
     "output_type": "stream",
     "text": [
      "aalldp-dev Mailing List\n",
      "Here!!!!\n",
      "Hi AALLDP Team,\n",
      "\n",
      "\n",
      "\n",
      "1.\n",
      "compound: 0.0, neg: 0.0, neu: 1.0, pos: 0.0, Does your project have any plans to be archived?\n",
      "compound: 0.0, neg: 0.0, neu: 1.0, pos: 0.0, If your project has no plans for any future active development, project committers can vote to move a project to the Archived State by a Termination Review according to the OpenDaylight Project Lifecycle and Releases document [1].\n",
      "compound: 0.128, neg: 0.058, neu: 0.871, pos: 0.071, 2.\n",
      "compound: 0.0, neg: 0.0, neu: 1.0, pos: 0.0, If you projects plans to remain active, does it intend to participate in the Boron Simultaneous Release as documented in the Boron Release Plan [2]?\n",
      "compound: 0.4019, neg: 0.0, neu: 0.899, pos: 0.101, If not, could someone please publicly decline to participate with a message like so: \"The <PROJECT_NAME> project is formally declining to participate in the Boron SR\".\n",
      "compound: 0.1376, neg: 0.071, neu: 0.838, pos: 0.091, There are no project related activity on Gerrit.\n",
      "compound: -0.296, neg: 0.239, neu: 0.761, pos: 0.0, Best Regards,\n",
      "\n",
      "An Ho\n",
      "\n",
      "\n",
      "\n",
      "[1] https://www.opendaylight.org/project-lifecycle-releases\n",
      "\n",
      "[2] https://wiki.opendaylight.org/view/Simultaneous_Release:Boron_Release_Plan\n",
      "\n",
      "\n",
      "-------------- next part --------------\n",
      "An HTML attachment was scrubbed...\n",
      "URL: <http://lists.opendaylight.org/pipermail/aalldp-dev/attachments/20160324/6e137881/attachment.html>\n",
      "compound: 0.7506, neg: 0.0, neu: 0.726, pos: 0.274, \n",
      "\n",
      "\n",
      "\n",
      "\n",
      "\n",
      "\n",
      "Hi Brian Kaczynski <kaczynskib at avaya.com>, Dennis Flynn <drflynn at avaya.com>,\n",
      "\n",
      "Please reply to this email to indicate that you are still an active committer on this project.\n",
      "compound: 0.6124, neg: 0.0, neu: 0.839, pos: 0.161, Best Regards,\n",
      "An Ho\n",
      "compound: 0.6369, neg: 0.0, neu: 0.417, pos: 0.583, \n",
      "\n",
      "\n",
      "\n",
      "\n",
      "\n",
      "\n",
      "\n",
      "\n",
      "\n",
      "archetypes-dev Mailing List\n",
      "Here!!!!\n",
      "This is just a test.\n",
      "compound: 0.0, neg: 0.0, neu: 1.0, pos: 0.0, -- \n",
      "Andrew J Grimberg\n",
      "Lead, IT Release Engineering\n",
      "The Linux Foundation\n",
      "\n",
      "-------------- next part --------------\n",
      "A non-text attachment was scrubbed...\n",
      "Name: signature.asc\n",
      "Type: application/pgp-signature\n",
      "Size: 488 bytes\n",
      "Desc: OpenPGP digital signature\n",
      "URL: <http://lists.opendaylight.org/pipermail/archetypes-dev/attachments/20180417/126c0b23/attachment-0001.sig>\n",
      "compound: 0.296, neg: 0.0, neu: 0.932, pos: 0.068, \n",
      "\n",
      "\n",
      "\n",
      "\n",
      "\n",
      "\n",
      "Hello archetypians,\n",
      "\n",
      "Just to let you all know that\n",
      "https://lists.opendaylight.org/pipermail/archetypes-dev/ works now (thanks\n",
      "Andy!).\n",
      "compound: 0.0, neg: 0.0, neu: 1.0, pos: 0.0, Just in case anyone in the future every looks back at the first message on\n",
      "this list, here is the background to how this all started:\n",
      "\n",
      "* https://wiki.opendaylight.org/view/Archetypes\n",
      "\n",
      "* https://lists.opendaylight.org/pipermail/tsc/2018-April/009333.html\n",
      "\n",
      "* https://jira.linuxfoundation.org/browse/RELENG-854 and its linked issues\n",
      "\n",
      "Tx,\n",
      "M.\n",
      "--\n",
      "Michael Vorburger, Red Hat\n",
      "vorburger at redhat.com | IRC: vorburger @freenode | ~ = http://vorburger.ch\n",
      "-------------- next part --------------\n",
      "An HTML attachment was scrubbed...\n",
      "URL: <http://lists.opendaylight.org/pipermail/archetypes-dev/attachments/20180418/b55eba01/attachment.html>\n",
      "compound: 0.5719, neg: 0.0, neu: 0.923, pos: 0.077, \n",
      "\n",
      "\n",
      "\n",
      "\n",
      "\n",
      "\n",
      "\n",
      "\n",
      "\n"
     ]
    }
   ],
   "source": [
    "tokenizer = nltk.data.load('tokenizers/punkt/english.pickle')\n",
    "sid = SentimentIntensityAnalyzer()\n",
    "for i in df1['project'].values:\n",
    "    print(i,\"Mailing List\")\n",
    "    SQL = s.sql.text(\"\"\"SELECT subject,message_id,message_text \n",
    "    FROM mail_lists WHERE mailing_list = \"\"\" +  \"'\" + i + \"'\")\n",
    "    df2 = pd.read_sql(SQL, connect.db)\n",
    "    #print(df2)\n",
    "    grouped = df2.groupby('message_id').groups\n",
    "    print(\"Here!!!!\")\n",
    "    #print(\"\\n\\n\",\"-\"*70,\"\\n\\n\")\n",
    "    for group in grouped:\n",
    "        message = (df2.loc[df2['message_id'] == group]['message_text']).tolist()\n",
    "        message_text = ''.join(message)\n",
    "        sentences = tokenizer.tokenize(message_text)\n",
    "        for sentence in sentences:\n",
    "            scores = sid.polarity_scores(sentence)\n",
    "            #print(scores)\n",
    "            print(sentence)\n",
    "            for key in sorted(scores):\n",
    "                    print('{0}: {1}, '.format(key, scores[key]), end='')\n",
    "        print(\"\\n\\n\")\n",
    "        print(\"\\n\\n\\n\")\n",
    "    print(\"\\n\\n\")"
   ]
  }
 ],
 "metadata": {
  "kernelspec": {
   "display_name": "Python (augur)",
   "language": "python",
   "name": "augur"
  },
  "language_info": {
   "codemirror_mode": {
    "name": "ipython",
    "version": 3
   },
   "file_extension": ".py",
   "mimetype": "text/x-python",
   "name": "python",
   "nbconvert_exporter": "python",
   "pygments_lexer": "ipython3",
   "version": "3.6.5"
  }
 },
 "nbformat": 4,
 "nbformat_minor": 2
}
