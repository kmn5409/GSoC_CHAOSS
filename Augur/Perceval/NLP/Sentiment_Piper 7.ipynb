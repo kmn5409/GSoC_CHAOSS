{
 "cells": [
  {
   "cell_type": "code",
   "execution_count": 63,
   "metadata": {
    "collapsed": true,
    "scrolled": true
   },
   "outputs": [],
   "source": [
    "import nltk, re, pprint\n",
    "from nltk import word_tokenize\n",
    "import os,json\n",
    "from nltk.corpus import stopwords\n",
    "from nltk.tokenize import sent_tokenize \n",
    "import nltk.data\n",
    "import numpy as np\n",
    "from nltk.sentiment.vader import SentimentIntensityAnalyzer\n",
    "from nltk import sentiment\n",
    "from nltk import word_tokenize\n",
    "import augur\n",
    "import sqlalchemy as s\n",
    "import matplotlib\n",
    "import pandas as pd\n",
    "%matplotlib inline\n",
    "#nltk.download('punkt')\n",
    "#nltk.download('stopwords')\n",
    "#pip install twython\n",
    "#nltk.download('vader_lexicon')"
   ]
  },
  {
   "cell_type": "code",
   "execution_count": 27,
   "metadata": {
    "collapsed": true
   },
   "outputs": [],
   "source": [
    "if(\"notebooks\" not in os.getcwd()):\n",
    "    os.chdir(\"notebooks\")\n",
    "augurApp = augur.Application('../augur.config.json')\n",
    "connect = augurApp.ghtorrentplus()"
   ]
  },
  {
   "cell_type": "code",
   "execution_count": 28,
   "metadata": {},
   "outputs": [
    {
     "name": "stdout",
     "output_type": "stream",
     "text": [
      "['issue_response_time', 'mail_lists', 'mail_lists_sentiment_scores', 'mailing_list_jobs']\n"
     ]
    }
   ],
   "source": [
    "table_names = s.inspect(connect.db).get_table_names()\n",
    "print(table_names)"
   ]
  },
  {
   "cell_type": "code",
   "execution_count": 29,
   "metadata": {},
   "outputs": [
    {
     "name": "stdout",
     "output_type": "stream",
     "text": [
      "          project\n",
      "0      aalldp-dev\n",
      "1  archetypes-dev\n"
     ]
    }
   ],
   "source": [
    "if(\"mailing_list_jobs\" in table_names):\n",
    "    lists_createdSQL = s.sql.text(\"\"\"SELECT project FROM mailing_list_jobs\"\"\")\n",
    "    df1 = pd.read_sql(lists_createdSQL, connect.db)\n",
    "    print(df1)\n",
    "    val = True"
   ]
  },
  {
   "cell_type": "code",
   "execution_count": 30,
   "metadata": {},
   "outputs": [
    {
     "name": "stdout",
     "output_type": "stream",
     "text": [
      "aalldp-dev Mailing List\n",
      "Here!!!!\n",
      "\n",
      "\n",
      "\n",
      "archetypes-dev Mailing List\n",
      "Here!!!!\n",
      "\n",
      "\n",
      "\n"
     ]
    }
   ],
   "source": [
    "tokenizer = nltk.data.load('tokenizers/punkt/english.pickle')\n",
    "sid = SentimentIntensityAnalyzer()\n",
    "col = 'score','sentiment'\n",
    "columns1 = 'augurmsgID', 'backend_name','project','mailing_list','category',\\\n",
    "           'message_part','message_parts_tot', 'subject','date',\\\n",
    "           'message_from','message_id','message_text'\n",
    "df3 = pd.DataFrame(columns = col)\n",
    "df_list = pd.DataFrame(columns = columns1)\n",
    "for i in df1['project'].values:\n",
    "    print(i,\"Mailing List\")\n",
    "    SQL = s.sql.text(\"\"\"SELECT * \n",
    "    FROM mail_lists WHERE mailing_list = \"\"\" +  \"'\" + i + \"'\")\n",
    "    df2 = pd.read_sql(SQL, connect.db)\n",
    "    df_list = df_list.append(df2)\n",
    "    #print(df2)\n",
    "    grouped = df2.groupby('message_id').groups\n",
    "    print(\"Here!!!!\")\n",
    "    #print(\"\\n\\n\",\"-\"*70,\"\\n\\n\")\n",
    "    for group in grouped:\n",
    "        parts = 0\n",
    "        numb = len(df2.loc[df2['message_id'] == group]['message_parts_tot'].tolist())\n",
    "        message = (df2.loc[df2['message_id'] == group]['message_text']).tolist()\n",
    "        message_text = ''.join(message)\n",
    "        sentences = tokenizer.tokenize(message_text)\n",
    "        compound = parts = 0\n",
    "        sentiment = \"Positive\"\n",
    "        for sentence in sentences:\n",
    "            scores = sid.polarity_scores(sentence)\n",
    "            compound+= scores['compound']\n",
    "            parts+=1\n",
    "        avg_score = compound/parts\n",
    "        if(avg_score == 0):\n",
    "            sentiment = \"Neutral\"\n",
    "        elif(avg_score < 0):\n",
    "            sentiment = \"Negative\"\n",
    "        #print(message)\n",
    "        for i in range(numb):\n",
    "            li = [ [avg_score, sentiment] ]\n",
    "            df_temp = pd.DataFrame(li,columns = col)\n",
    "            #print(df_temp['score'])\n",
    "            df3 = df3.append(df_temp)\n",
    "            #print(df3)\n",
    "    print(\"\\n\\n\")"
   ]
  },
  {
   "cell_type": "code",
   "execution_count": 31,
   "metadata": {
    "scrolled": true
   },
   "outputs": [
    {
     "name": "stdout",
     "output_type": "stream",
     "text": [
      "      score sentiment\n",
      "0  0.140263  Positive\n",
      "0  0.140263  Positive\n",
      "0  0.624650  Positive\n",
      "0  0.624650  Positive\n",
      "0  0.148000  Positive\n",
      "0  0.148000  Positive\n",
      "0  0.285950  Positive\n",
      "0  0.285950  Positive\n",
      "  augurmsgID backend_name                                            project  \\\n",
      "0          1    Pipermail  https://lists.opendaylight.org/pipermail/aalld...   \n",
      "1          2    Pipermail  https://lists.opendaylight.org/pipermail/aalld...   \n",
      "2          3    Pipermail  https://lists.opendaylight.org/pipermail/aalld...   \n",
      "3          4    Pipermail  https://lists.opendaylight.org/pipermail/aalld...   \n",
      "0          5    Pipermail  https://lists.opendaylight.org/pipermail/arche...   \n",
      "1          6    Pipermail  https://lists.opendaylight.org/pipermail/arche...   \n",
      "2          7    Pipermail  https://lists.opendaylight.org/pipermail/arche...   \n",
      "3          8    Pipermail  https://lists.opendaylight.org/pipermail/arche...   \n",
      "\n",
      "     mailing_list category message_part message_parts_tot  \\\n",
      "0      aalldp-dev  message            1                 2   \n",
      "1      aalldp-dev  message            2                 2   \n",
      "2      aalldp-dev  message            1                 2   \n",
      "3      aalldp-dev  message            2                 2   \n",
      "0  archetypes-dev  message            1                 2   \n",
      "1  archetypes-dev  message            2                 2   \n",
      "2  archetypes-dev  message            1                 2   \n",
      "3  archetypes-dev  message            2                 2   \n",
      "\n",
      "                                             subject                date  \\\n",
      "0              [aalldp-dev] AALLDP Active Committers 2016-03-24 20:37:11   \n",
      "1              [aalldp-dev] AALLDP Active Committers 2016-03-24 20:37:11   \n",
      "2    [aalldp-dev] Plans for Archiving AALLDP Project 2016-03-24 20:37:08   \n",
      "3    [aalldp-dev] Plans for Archiving AALLDP Project 2016-03-24 20:37:08   \n",
      "0         [archetypes-dev] Mailing archive list test 2018-04-17 21:37:58   \n",
      "1         [archetypes-dev] Mailing archive list test 2018-04-17 21:37:58   \n",
      "2  [archetypes-dev] archetypes-dev mailing list a... 2018-04-18 09:11:16   \n",
      "3  [archetypes-dev] archetypes-dev mailing list a... 2018-04-18 09:11:16   \n",
      "\n",
      "                                        message_from  \\\n",
      "0                        An.Ho at huawei.com (An Ho)   \n",
      "1                        An.Ho at huawei.com (An Ho)   \n",
      "2                        An.Ho at huawei.com (An Ho)   \n",
      "3                        An.Ho at huawei.com (An Ho)   \n",
      "0  agrimberg at linuxfoundation.org (Andrew Grimb...   \n",
      "1  agrimberg at linuxfoundation.org (Andrew Grimb...   \n",
      "2        vorburger at redhat.com (Michael Vorburger)   \n",
      "3        vorburger at redhat.com (Michael Vorburger)   \n",
      "\n",
      "                                          message_id  \\\n",
      "0  <EEEA408CE50B48498B9F866085AEF2912FAEEAAD@SJCE...   \n",
      "1  <EEEA408CE50B48498B9F866085AEF2912FAEEAAD@SJCE...   \n",
      "2  <EEEA408CE50B48498B9F866085AEF2912FAEEAA0@SJCE...   \n",
      "3  <EEEA408CE50B48498B9F866085AEF2912FAEEAA0@SJCE...   \n",
      "0  <34dc81cb-f265-875a-ba4c-eac4fc664c6c@linuxfou...   \n",
      "1  <34dc81cb-f265-875a-ba4c-eac4fc664c6c@linuxfou...   \n",
      "2  <CACeyj_G0CPafJwN1i8-aLMVDxS9wNggUKzDc-WsWOD-p...   \n",
      "3  <CACeyj_G0CPafJwN1i8-aLMVDxS9wNggUKzDc-WsWOD-p...   \n",
      "\n",
      "                                        message_text  \n",
      "0  Hi Brian Kaczynski <kaczynskib at avaya.com>, ...  \n",
      "1  this email to indicate that you are still an a...  \n",
      "2  Hi AALLDP Team,\\n\\n\\n\\n1. Does your project ha...  \n",
      "3   for any future active development, project co...  \n",
      "0  This is just a test.\\n\\n-- \\nAndrew J Grimberg...  \n",
      "1  --------- next part --------------\\nA non-text...  \n",
      "2  Hello archetypians,\\n\\nJust to let you all kno...  \n",
      "3  es-dev/ works now (thanks\\nAndy!).\\n\\nJust in ...  \n"
     ]
    }
   ],
   "source": [
    "print(df3)\n",
    "print(df_list)\n",
    "df3 = df3.reset_index(drop=True)\n",
    "df_list = df_list.reset_index(drop=True)\n",
    "combine = (df_list.join(df3))"
   ]
  },
  {
   "cell_type": "code",
   "execution_count": 32,
   "metadata": {},
   "outputs": [
    {
     "name": "stdout",
     "output_type": "stream",
     "text": [
      "['augurmsgID', 'backend_name', 'project', 'mailing_list', 'category', 'message_part', 'message_parts_tot', 'subject', 'date', 'message_from', 'message_id', 'message_text', 'score', 'sentiment']\n"
     ]
    }
   ],
   "source": [
    "print(list(combine))"
   ]
  },
  {
   "cell_type": "code",
   "execution_count": 33,
   "metadata": {
    "collapsed": true
   },
   "outputs": [],
   "source": [
    "combine.to_sql(name='mail_lists_sentiment_scores',con=connect.db,if_exists='replace',index=False)"
   ]
  },
  {
   "cell_type": "code",
   "execution_count": 75,
   "metadata": {},
   "outputs": [
    {
     "data": {
      "image/png": "[encoded data removed]",
      "text/plain": [
       "<Figure size 432x288 with 1 Axes>"
      ]
     },
     "metadata": {},
     "output_type": "display_data"
    },
    {
     "data": {
      "image/png": "[encoded data removed]",
      "text/plain": [
       "<Figure size 432x288 with 1 Axes>"
      ]
     },
     "metadata": {},
     "output_type": "display_data"
    }
   ],
   "source": [
    "grouped = combine.groupby('mailing_list').groups\n",
    "dates = []\n",
    "values = []\n",
    "mail_list = None\n",
    "for group in grouped:\n",
    "    dates = (combine.loc[combine['mailing_list'] == group]['date']).tolist()\n",
    "    values = (combine.loc[combine['mailing_list'] == group]['score']).unique().tolist()\n",
    "    x = np.array(dates)\n",
    "    dates = np.unique(x)\n",
    "    #print(np.unique(dates),\"Here\")\n",
    "    #print((combine.loc[combine['mailing_list'] == group]['date']).tolist())\n",
    "    #print((combine.loc[combine['mailing_list'] == group]['score']).unique().tolist())\n",
    "    matplotlib.pyplot.plot_date(dates, values)\n",
    "    matplotlib.pyplot.plot(dates,values)\n",
    "    # beautify the x-labels\n",
    "    matplotlib.pyplot.gcf().autofmt_xdate()\n",
    "    matplotlib.pyplot.title(\"Mailing list: \" + group)\n",
    "    matplotlib.pyplot.ylabel('Score')\n",
    "    matplotlib.pyplot.xlabel('Date')\n",
    "    matplotlib.pyplot.show()"
   ]
  }
 ],
 "metadata": {
  "kernelspec": {
   "display_name": "Python (augur)",
   "language": "python",
   "name": "augur"
  },
  "language_info": {
   "codemirror_mode": {
    "name": "ipython",
    "version": 3
   },
   "file_extension": ".py",
   "mimetype": "text/x-python",
   "name": "python",
   "nbconvert_exporter": "python",
   "pygments_lexer": "ipython3",
   "version": "3.6.5"
  }
 },
 "nbformat": 4,
 "nbformat_minor": 2
}
