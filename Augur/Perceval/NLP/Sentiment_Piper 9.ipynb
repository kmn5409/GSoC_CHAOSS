{
 "cells": [
  {
   "cell_type": "code",
   "execution_count": 11,
   "metadata": {
    "collapsed": true,
    "scrolled": true
   },
   "outputs": [],
   "source": [
    "import nltk, re, pprint\n",
    "from nltk import word_tokenize\n",
    "import os,json\n",
    "from nltk.corpus import stopwords\n",
    "from nltk.tokenize import sent_tokenize \n",
    "import nltk.data\n",
    "import numpy as np\n",
    "from nltk.sentiment.vader import SentimentIntensityAnalyzer\n",
    "from nltk import sentiment\n",
    "from nltk import word_tokenize\n",
    "import augur\n",
    "import sqlalchemy as s\n",
    "import matplotlib.pyplot as plot\n",
    "import matplotlib.dates as mdates\n",
    "import pandas as pd\n",
    "from scipy import stats\n",
    "%matplotlib inline"
   ]
  },
  {
   "cell_type": "markdown",
   "metadata": {},
   "source": [
    "## Load:\n",
    "First loads the users data from 'augur.config.json' so will take the Database information (e.g. name of database, port of database). Then connects to the database using augur.App.ghtorrentplus(), loads piper_reader and loads the path to the list of mailing lists 'runtine/mailing_lists.csv'"
   ]
  },
  {
   "cell_type": "code",
   "execution_count": 2,
   "metadata": {
    "collapsed": true
   },
   "outputs": [],
   "source": [
    "if(\"notebooks\" not in os.getcwd()):\n",
    "    os.chdir(\"notebooks\")\n",
    "augurApp = augur.Application('../augur.config.json')\n",
    "connect = augurApp.ghtorrentplus()"
   ]
  },
  {
   "cell_type": "markdown",
   "metadata": {},
   "source": [
    "## Connect:\n",
    "\n",
    "Gets the tables that are in the database and checks so see if 'mailing_list_jobs' is in the Database if it is it stores it in a dataframe 'df1'."
   ]
  },
  {
   "cell_type": "code",
   "execution_count": 3,
   "metadata": {},
   "outputs": [
    {
     "name": "stdout",
     "output_type": "stream",
     "text": [
      "['github_issues', 'github_issues_2', 'github_issues_repo_jobs', 'github_issues_sentiment_scores', 'github_pull_request_repo_jobs', 'github_pull_requests', 'github_pull_requests_2', 'github_pull_requests_sentiment_scores', 'github_pull_requests_sentiment_scores_2', 'issue_response_time', 'mail_lists', 'mail_lists_sentiment_scores', 'mailing_list_jobs']\n",
      "          project\n",
      "0      aalldp-dev\n",
      "1      aalldp-dev\n",
      "2  archetypes-dev\n",
      "3  archetypes-dev\n"
     ]
    }
   ],
   "source": [
    "table_names = s.inspect(connect.db).get_table_names()\n",
    "print(table_names)\n",
    "\n",
    "if(\"mailing_list_jobs\" in table_names):\n",
    "    lists_createdSQL = s.sql.text(\"\"\"SELECT project FROM mailing_list_jobs\"\"\")\n",
    "    df1 = pd.read_sql(lists_createdSQL, connect.db)\n",
    "    print(df1)\n",
    "    val = True"
   ]
  },
  {
   "cell_type": "markdown",
   "metadata": {},
   "source": [
    "## Sentiment Scores:\n",
    "\n",
    "Loads the SentimentIntensityAnalyzer from NLTK (Natural Language Tool Kit) and pulls all the messages from 'mail_lists' for a specific mailing lists and groups them by 'message_id'. It then goes about getting a score for the message and calculates the average score for when the sentences are broken up into smaller pieces."
   ]
  },
  {
   "cell_type": "code",
   "execution_count": 4,
   "metadata": {},
   "outputs": [
    {
     "name": "stdout",
     "output_type": "stream",
     "text": [
      "aalldp-dev Mailing List\n",
      "Here!!!!\n",
      "\n",
      "\n",
      "\n",
      "aalldp-dev Mailing List\n",
      "Here!!!!\n",
      "\n",
      "\n",
      "\n",
      "archetypes-dev Mailing List\n",
      "Here!!!!\n",
      "\n",
      "\n",
      "\n",
      "archetypes-dev Mailing List\n",
      "Here!!!!\n",
      "\n",
      "\n",
      "\n"
     ]
    }
   ],
   "source": [
    "tokenizer = nltk.data.load('tokenizers/punkt/english.pickle')\n",
    "sid = SentimentIntensityAnalyzer()\n",
    "col = 'score','sentiment'\n",
    "columns1 = 'augurmsgID', 'backend_name','project','mailing_list','category',\\\n",
    "           'message_part','message_parts_tot', 'subject','date',\\\n",
    "           'message_from','message_id','message_text'\n",
    "df3 = pd.DataFrame(columns = col)\n",
    "df_list = pd.DataFrame(columns = columns1)\n",
    "for i in df1['project'].values:\n",
    "    print(i,\"Mailing List\")\n",
    "    SQL = s.sql.text(\"\"\"SELECT * \n",
    "    FROM mail_lists WHERE mailing_list = \"\"\" +  \"'\" + i + \"'\")\n",
    "    df2 = pd.read_sql(SQL, connect.db)\n",
    "    df_list = df_list.append(df2)\n",
    "    #print(df2)\n",
    "    grouped = df2.groupby('message_id').groups\n",
    "    print(\"Here!!!!\")\n",
    "    #print(\"\\n\\n\",\"-\"*70,\"\\n\\n\")\n",
    "    for group in grouped:\n",
    "        parts = 0\n",
    "        numb = len(df2.loc[df2['message_id'] == group]['message_parts_tot'].tolist())\n",
    "        message = (df2.loc[df2['message_id'] == group]['message_text']).tolist()\n",
    "        message_text = ''.join(message)\n",
    "        sentences = tokenizer.tokenize(message_text)\n",
    "        compound = parts = 0\n",
    "        sentiment = \"Positive\"\n",
    "        for sentence in sentences:\n",
    "            scores = sid.polarity_scores(sentence)\n",
    "            compound+= scores['compound']\n",
    "            parts+=1\n",
    "        avg_score = compound/parts\n",
    "        avg_score = round(avg_score,3)\n",
    "        if(avg_score == 0):\n",
    "            sentiment = \"Neutral\"\n",
    "        elif(avg_score < 0):\n",
    "            sentiment = \"Negative\"\n",
    "        #print(message)\n",
    "        for i in range(numb):\n",
    "            li = [ [avg_score, sentiment] ]\n",
    "            df_temp = pd.DataFrame(li,columns = col)\n",
    "            #print(df_temp['score'])\n",
    "            df3 = df3.append(df_temp)\n",
    "            #print(df3)\n",
    "    print(\"\\n\\n\")"
   ]
  },
  {
   "cell_type": "markdown",
   "metadata": {},
   "source": [
    "## Combine\n",
    "\n",
    "Combines the dataframe with all the messages and joins that with the scores for the messages. Then uploads this to the database as 'mail_lists_sentiment_scores'."
   ]
  },
  {
   "cell_type": "code",
   "execution_count": 5,
   "metadata": {
    "collapsed": true,
    "scrolled": true
   },
   "outputs": [],
   "source": [
    "#print(df3)\n",
    "#print(df_list)\n",
    "df3 = df3.reset_index(drop=True)\n",
    "df_list = df_list.reset_index(drop=True)\n",
    "combine = (df_list.join(df3))\n",
    "\n",
    "print(combine.head())\n",
    "#print(list(combine))\n",
    "\n",
    "combine.to_sql(name='mail_lists_sentiment_scores',con=connect.db,\\\n",
    "               if_exists='replace',index=False)"
   ]
  },
  {
   "cell_type": "markdown",
   "metadata": {},
   "source": [
    "## Graphs\n",
    "\n",
    "Takes all the mailing lists in combine and groups by the column 'mailing_list' and gets the dates and sentiment scores and plots a graph based on this."
   ]
  },
  {
   "cell_type": "code",
   "execution_count": 12,
   "metadata": {},
   "outputs": [
    {
     "name": "stdout",
     "output_type": "stream",
     "text": [
      "(5,)\n",
      "(5,)\n"
     ]
    },
    {
     "data": {
      "image/png": "[encoded data removed]",
      "text/plain": [
       "<Figure size 432x288 with 1 Axes>"
      ]
     },
     "metadata": {},
     "output_type": "display_data"
    },
    {
     "name": "stdout",
     "output_type": "stream",
     "text": [
      "(2,)\n",
      "(2,)\n"
     ]
    },
    {
     "data": {
      "image/png": "[encoded data removed]",
      "text/plain": [
       "<Figure size 432x288 with 1 Axes>"
      ]
     },
     "metadata": {},
     "output_type": "display_data"
    }
   ],
   "source": [
    "grouped = combine.groupby('mailing_list').groups\n",
    "dates = []\n",
    "values = []\n",
    "mail_list = None\n",
    "j = 0\n",
    "for group in grouped:\n",
    "    dates = (combine.loc[combine['mailing_list'] == group]['date']).tolist()\n",
    "    values = (combine.loc[combine['mailing_list'] == group]['score']).unique().tolist()\n",
    "    x = np.array(dates)\n",
    "    dates = np.unique(x)\n",
    "    #print(dates)\n",
    "    dates1 = [x.to_pydatetime() for x in dates]\n",
    "    fin_dates = mdates.date2num(dates1)\n",
    "    fin_values = np.asarray(values)\n",
    "    print(fin_dates.shape)\n",
    "    print(fin_values.shape)\n",
    "    plot.plot_date(fin_dates, fin_values)\n",
    "    #plot.plot(fin_dates,fin_values)\n",
    "    plot.gcf().autofmt_xdate()\n",
    "    plot.title(\"Mailing lst: \"+ group)\n",
    "    plot.ylabel('Score')\n",
    "    plot.xlabel('Date')\n",
    "    #print(fin_dates)\n",
    "    slope, intercept, r_value, p_value, std_err = stats.linregress(fin_dates,fin_values)\n",
    "    line = slope*fin_dates+intercept\n",
    "    plot.plot(fin_dates,fin_values,'o', fin_dates, line)\n",
    "    #plot.savefig('foo' + str(x) + '.png')\n",
    "    #x+=1\n",
    "    plot.show()"
   ]
  }
 ],
 "metadata": {
  "kernelspec": {
   "display_name": "Python (augur)",
   "language": "python",
   "name": "augur"
  },
  "language_info": {
   "codemirror_mode": {
    "name": "ipython",
    "version": 3
   },
   "file_extension": ".py",
   "mimetype": "text/x-python",
   "name": "python",
   "nbconvert_exporter": "python",
   "pygments_lexer": "ipython3",
   "version": "3.6.5"
  }
 },
 "nbformat": 4,
 "nbformat_minor": 2
}
