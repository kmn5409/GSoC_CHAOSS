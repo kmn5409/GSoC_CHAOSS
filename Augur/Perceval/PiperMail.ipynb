{
 "cells": [
  {
   "cell_type": "code",
   "execution_count": 1,
   "metadata": {
    "scrolled": false
   },
   "outputs": [
    {
     "name": "stdout",
     "output_type": "stream",
     "text": [
      "/home/keanu/temp/augur7/augur/notebooks\n",
      "/home/keanu/temp/augur7/augur/notebooks\n",
      "aalldp-dev\n",
      "File Exists\n",
      "aaa-dev\n",
      "File Exists\n",
      "advisory-group\n",
      "File Exists\n",
      "affinity-dev\n",
      "File Exists\n",
      "alto-dev\n",
      "File Exists\n",
      "archetypes-dev\n",
      "File Exists\n",
      "Finished downloading files\n",
      "https://lists.opendaylight.org/pipermail/\n"
     ]
    }
   ],
   "source": [
    "import augur\n",
    "from augur.PiperReader import PiperMail\n",
    "\n",
    "# import everything from githubapi.py and ghtorrent.py so we can\n",
    "# just copy and paste our function later\n",
    "import json\n",
    "import pandas as pd\n",
    "from perceval.backends.core.pipermail import Pipermail\n",
    "import os, os.path\n",
    "\n",
    "# create an Augur application so we can test our function\n",
    "print(os.getcwd())\n",
    "if(\"notebooks\" not in os.getcwd()):\n",
    "    os.chdir(\"notebooks\")\n",
    "augurApp = augur.Application('../augur.config.json')\n",
    "print(os.getcwd())\n",
    "link = \"https://lists.opendaylight.org/pipermail/\"\n",
    "mail = [\"aalldp-dev\",\"aaa-dev\",\"advisory-group\",\"affinity-dev\",\"alto-dev\",\"archetypes-dev\"]\n",
    "#print(os.getcwd())\n",
    "file = \"opendaylight-\"\n",
    "if \"notebooks\" in os.getcwd():\n",
    "    os.chdir(\"..\")\n",
    "path = \"/augur/data/opendaylight-\" \n",
    "for x in range(len(mail)):\n",
    "    #print(link+mail[x])\n",
    "    #print(os.getcwd())\n",
    "    #print(os.path.join(os.getcwd() + path+'.json'))\n",
    "    place = os.path.join(os.getcwd() + path + mail[x] +'.json')\n",
    "    if(os.path.exists(place)):\n",
    "        print(mail[x])\n",
    "        print(\"File Exists\")\n",
    "        continue                   \n",
    "    repo = Pipermail(url = \"https://lists.opendaylight.org/pipermail/\"+ mail[x] + \"/\",dirpath=\"tmp/archives\"+mail[x])\n",
    "    #print(repo)\n",
    "    outfile = open(place,\"w+\")\n",
    "    for message in repo.fetch():\n",
    "        obj = json.dumps(message, indent=4, sort_keys=True)\n",
    "        outfile.write(obj)\n",
    "        outfile.write('\\n')\n",
    "    outfile.close()\n",
    "    print(\"Created File\",mail[x])\n",
    "print(\"Finished downloading files\")\n",
    "print(link)"
   ]
  },
  {
   "cell_type": "code",
   "execution_count": 2,
   "metadata": {
    "scrolled": false
   },
   "outputs": [
    {
     "name": "stdout",
     "output_type": "stream",
     "text": [
      "https://lists.opendaylight.org/pipermail/\n",
      "ugh\n",
      "https://lists.opendaylight.org/pipermail/\n",
      "Hey\n",
      "File uploaded\n",
      "File uploaded\n",
      "File uploaded\n",
      "File uploaded\n",
      "True\n",
      "Finished\n",
      "<augur.PiperReader.PiperMail object at 0x7f6af4602e80>\n"
     ]
    }
   ],
   "source": [
    "print(link)\n",
    "temp = augurApp.piper()\n",
    "temp.make(link)\n",
    "print(temp)\n",
    "#temp.make()\n",
    "#print(temp.make)"
   ]
  }
 ],
 "metadata": {
  "kernelspec": {
   "display_name": "Python (augur)",
   "language": "python",
   "name": "augur"
  },
  "language_info": {
   "codemirror_mode": {
    "name": "ipython",
    "version": 3
   },
   "file_extension": ".py",
   "mimetype": "text/x-python",
   "name": "python",
   "nbconvert_exporter": "python",
   "pygments_lexer": "ipython3",
   "version": "3.6.5"
  }
 },
 "nbformat": 4,
 "nbformat_minor": 2
}
