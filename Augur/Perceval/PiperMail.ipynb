{
 "cells": [
  {
   "cell_type": "code",
   "execution_count": 1,
   "metadata": {},
   "outputs": [
    {
     "name": "stderr",
     "output_type": "stream",
     "text": [
      "2018-06-04 17:29:54 keanu-Inspiron-5567 perceval.backends.core.pipermail[11297] INFO Looking for messages from 'https://lists.opendaylight.org/pipermail/archetypes-dev/' since 1970-01-01 00:00:00+00:00\n",
      "2018-06-04 17:29:54 keanu-Inspiron-5567 perceval.backends.core.pipermail[11297] INFO Downloading mboxes from 'https://lists.opendaylight.org/pipermail/archetypes-dev/' to since 1970-01-01 00:00:00+00:00\n"
     ]
    },
    {
     "name": "stdout",
     "output_type": "stream",
     "text": [
      "\n",
      "\n",
      "\n",
      "hey1\n",
      "\n",
      "\n",
      "\n",
      "/home/keanu/temp/augur/augur/data/\n",
      "https://lists.opendaylight.org/pipermail/archetypes-dev/\n",
      "/home/keanu/temp/augur/augur/data/archetypes-dev.json\n",
      "\n",
      "\n",
      "\n",
      " tmp/archives \n",
      "\n",
      "\n",
      "\n",
      "<perceval.backends.core.pipermail.Pipermail object at 0x7fa1e297a400>\n",
      "\n",
      "\n",
      "\n",
      "UGHHHHHHHHHHH!!!!!!!!!!\n",
      "\n",
      "\n",
      "\n",
      "\n",
      "\n",
      "\n",
      "HEY2\n",
      "\n",
      "\n",
      "\n",
      "tmp/archives\n",
      "/home/keanu/temp/augur WHAT!!!!!!!!!!!!!!\n"
     ]
    },
    {
     "name": "stderr",
     "output_type": "stream",
     "text": [
      "2018-06-04 17:30:03 keanu-Inspiron-5567 perceval.backends.core.pipermail[11297] INFO 1/1 MBoxes downloaded\n",
      "2018-06-04 17:30:03 keanu-Inspiron-5567 perceval.backends.core.mbox[11297] INFO Done. 2/2 messages fetched; 0 ignored\n",
      "2018-06-04 17:30:03 keanu-Inspiron-5567 perceval.backends.core.pipermail[11297] INFO Fetch process completed\n"
     ]
    },
    {
     "name": "stdout",
     "output_type": "stream",
     "text": [
      "This is just a test.\n",
      "\n",
      "-- \n",
      "Andrew J Grimberg\n",
      "Lead, IT Release Engineering\n",
      "The Linux Foundation\n",
      "\n",
      "-------------- next part --------------\n",
      "A non-text attachment was scrubbed...\n",
      "Name: signature.asc\n",
      "Type: application/pgp-signature\n",
      "Size: 488 bytes\n",
      "Desc: OpenPGP digital signature\n",
      "URL: <http://lists.opendaylight.org/pipermail/archetypes-dev/attachments/20180417/126c0b23/attachment-0001.sig>\n",
      "\n",
      "Hello archetypians,\n",
      "\n",
      "Just to let you all know that\n",
      "https://lists.opendaylight.org/pipermail/archetypes-dev/ works now (thanks\n",
      "Andy!).\n",
      "\n",
      "Just in case anyone in the future every looks back at the first message on\n",
      "this list, here is the background to how this all started:\n",
      "\n",
      "* https://wiki.opendaylight.org/view/Archetypes\n",
      "\n",
      "* https://lists.opendaylight.org/pipermail/tsc/2018-April/009333.html\n",
      "\n",
      "* https://jira.linuxfoundation.org/browse/RELENG-854 and its linked issues\n",
      "\n",
      "Tx,\n",
      "M.\n",
      "--\n",
      "Michael Vorburger, Red Hat\n",
      "vorburger at redhat.com | IRC: vorburger @freenode | ~ = http://vorburger.ch\n",
      "-------------- next part --------------\n",
      "An HTML attachment was scrubbed...\n",
      "URL: <http://lists.opendaylight.org/pipermail/archetypes-dev/attachments/20180418/b55eba01/attachment.html>\n",
      "\n",
      "yes\n"
     ]
    }
   ],
   "source": [
    "import augur\n",
    "\n",
    "# import everything from githubapi.py and ghtorrent.py so we can\n",
    "# just copy and paste our function later\n",
    "import json\n",
    "import re\n",
    "from dateutil.parser import parse\n",
    "import pandas as pd\n",
    "import github\n",
    "import numpy as np\n",
    "import sqlalchemy as s\n",
    "import datetime\n",
    "import requests\n",
    "import time\n",
    "from perceval.backends.core.pipermail import Pipermail\n",
    "from perceval.backends.core.mbox import MBox\n",
    "import os\n",
    "\n",
    "%matplotlib inline\n",
    "# create an Augur application so we can test our function\n",
    "augurApp = augur.Application('../augur.config.json')\n",
    "link = \"https://lists.opendaylight.org/pipermail/\"\n",
    "mail = [\"archetypes-dev/\"]\n",
    "file = \"opendaylight-\"\n",
    "output = [\"archetypes-dev.json\"]\n",
    "os.chdir(\"..\")\n",
    "path = os.getcwd() + \"/augur/\" + \"data/\" \n",
    "print(path)\n",
    "for x in range(len(mail)):\n",
    "    print(link+mail[x])\n",
    "    print(path+output[x])\n",
    "    repo = Pipermail(url = \"https://lists.opendaylight.org/pipermail/archetypes-dev/\",dirpath=\"tmp/archives\")\n",
    "    print(repo)\n",
    "    for message in repo.fetch():\n",
    "        print(message['data']['body']['plain'])\n",
    "    print(\"yes\")"
   ]
  },
  {
   "cell_type": "code",
   "execution_count": 2,
   "metadata": {
    "collapsed": true,
    "scrolled": true
   },
   "outputs": [],
   "source": [
    "#augur.Piper_mail()"
   ]
  }
 ],
 "metadata": {
  "kernelspec": {
   "display_name": "Python (augur)",
   "language": "python",
   "name": "augur"
  },
  "language_info": {
   "codemirror_mode": {
    "name": "ipython",
    "version": 3
   },
   "file_extension": ".py",
   "mimetype": "text/x-python",
   "name": "python",
   "nbconvert_exporter": "python",
   "pygments_lexer": "ipython3",
   "version": "3.6.5"
  }
 },
 "nbformat": 4,
 "nbformat_minor": 2
}
