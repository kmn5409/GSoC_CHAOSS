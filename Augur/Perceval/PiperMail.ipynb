{
 "cells": [
  {
   "cell_type": "code",
   "execution_count": 1,
   "metadata": {
    "scrolled": false
   },
   "outputs": [
    {
     "name": "stdout",
     "output_type": "stream",
     "text": [
      "/home/keanu/temp/augur_push/augur/notebooks\n",
      "_NamespacePath(['/home/keanu/anaconda3/envs/augur/lib/python3.6/site-packages/perceval'])\n",
      "/home/keanu/temp/augur_push/augur/notebooks\n",
      "aalldp-dev\n",
      "File Exists\n",
      "alto-dev\n",
      "File Exists\n",
      "advisory-group\n",
      "File Exists\n",
      "archetypes-dev\n",
      "File Exists\n",
      "Finished downloading files\n",
      "https://lists.opendaylight.org/pipermail/\n"
     ]
    }
   ],
   "source": [
    "import augur\n",
    "from augur.PiperReader import PiperMail\n",
    "\n",
    "# import everything from githubapi.py and ghtorrent.py so we can\n",
    "# just copy and paste our function later\n",
    "import json\n",
    "import pandas as pd\n",
    "from perceval.backends.core.pipermail import Pipermail\n",
    "import perceval\n",
    "import os, os.path\n",
    "\n",
    "# create an Augur application so we can test our function\n",
    "print(os.getcwd())\n",
    "print(perceval.__path__)\n",
    "if(\"notebooks\" not in os.getcwd()):\n",
    "    os.chdir(\"notebooks\")\n",
    "augurApp = augur.Application('../augur.config.json')\n",
    "print(os.getcwd())\n",
    "link = \"https://lists.opendaylight.org/pipermail/\"\n",
    "mail = [\"aalldp-dev\",\"alto-dev\",\"advisory-group\",\"archetypes-dev\"]\n",
    "#print(os.getcwd())\n",
    "file = \"opendaylight-\"\n",
    "if \"notebooks\" in os.getcwd():\n",
    "    os.chdir(\"..\")\n",
    "path = \"/augur/data/opendaylight-\" \n",
    "for x in range(len(mail)):\n",
    "    #print(link+mail[x])\n",
    "    #print(os.getcwd())\n",
    "    #print(os.path.join(os.getcwd() + path+'.json'))\n",
    "    place = os.path.join(os.getcwd() + path + mail[x] +'.json')\n",
    "    if(os.path.exists(place)):\n",
    "        print(mail[x])\n",
    "        print(\"File Exists\")\n",
    "        continue                   \n",
    "    repo = Pipermail(url = \"https://lists.opendaylight.org/pipermail/\"+ mail[x] + \"/\",dirpath=\"tmp/archives\"+mail[x])\n",
    "    #print(repo)\n",
    "    outfile = open(place,\"w+\")\n",
    "    for message in repo.fetch():\n",
    "        obj = json.dumps(message, indent=4, sort_keys=True)\n",
    "        outfile.write(obj)\n",
    "        outfile.write('\\n')\n",
    "    outfile.close()\n",
    "    print(\"Created File\",mail[x])\n",
    "print(\"Finished downloading files\")\n",
    "print(link)"
   ]
  },
  {
   "cell_type": "code",
   "execution_count": 2,
   "metadata": {
    "scrolled": false
   },
   "outputs": [
    {
     "name": "stdout",
     "output_type": "stream",
     "text": [
      "https://lists.opendaylight.org/pipermail/\n",
      "ugh\n",
      "wtf\n",
      "https://lists.opendaylight.org/pipermail/\n",
      "Hey\n",
      "0   2018-04-17 14:37:58\n",
      "Name: date, dtype: datetime64[ns]\n",
      "0   2018-04-17 14:37:58\n",
      "Name: date, dtype: datetime64[ns]\n",
      "0   2018-04-18 11:11:16\n",
      "Name: date, dtype: datetime64[ns]\n",
      "0   2018-04-18 11:11:16\n",
      "Name: date, dtype: datetime64[ns]\n",
      "File uploaded  2\n",
      "0   2016-03-24 20:37:11\n",
      "Name: date, dtype: datetime64[ns]\n",
      "0   2016-03-24 20:37:11\n",
      "Name: date, dtype: datetime64[ns]\n",
      "0   2016-03-24 20:37:08\n",
      "Name: date, dtype: datetime64[ns]\n",
      "0   2016-03-24 20:37:08\n",
      "Name: date, dtype: datetime64[ns]\n",
      "File uploaded  2\n",
      "True\n",
      "Finished\n",
      "<augur.PiperReader.PiperMail object at 0x7fbeb3ac3dd8>\n"
     ]
    }
   ],
   "source": [
    "print(link)\n",
    "temp = augurApp.piper()\n",
    "temp.make(link)\n",
    "print(temp)\n",
    "#temp.make()\n",
    "#print(temp.make)"
   ]
  },
  {
   "cell_type": "code",
   "execution_count": 3,
   "metadata": {},
   "outputs": [
    {
     "name": "stdout",
     "output_type": "stream",
     "text": [
      "<class 'datetime.datetime'>\n",
      "0    2015-04-06 03:32:23-04:00\n",
      "Name: Date, dtype: object\n",
      "                        Date\n",
      "0  2015-04-06 03:32:23-04:00\n",
      "-0400\n"
     ]
    }
   ],
   "source": [
    "from dateutil.parser import parse\n",
    "import pandas as pd\n",
    "columns1 = [\"Date\"]\n",
    "li = [ [parse(\"Mon, 6 Apr 2015 03:32:23 -0400\")] ]\n",
    "print(type(parse(\"Mon, 6 Apr 2015 03:32:23 -0400\")))\n",
    "df = pd.DataFrame(li,columns = columns1)\n",
    "df[\"Date\"] = parse(\"Mon, 6 Apr 2015 03:32:23 -0400\")\n",
    "print(df['Date'])\n",
    "df2 = pd.DataFrame(columns = columns1)\n",
    "df2[\"Date\"] = pd.to_datetime(df2[\"Date\"])\n",
    "df3 = df2.append(df)\n",
    "print(df3) \n",
    "str1 = \"Mon, 16 Apr 2015 03:32:23 -0400\"\n",
    "split = str1.split()\n",
    "temp = split[:5]\n",
    "s = \" \"\n",
    "k = s.join(split[:5])\n",
    "print(split[5])"
   ]
  }
 ],
 "metadata": {
  "kernelspec": {
   "display_name": "Python (augur)",
   "language": "python",
   "name": "augur"
  },
  "language_info": {
   "codemirror_mode": {
    "name": "ipython",
    "version": 3
   },
   "file_extension": ".py",
   "mimetype": "text/x-python",
   "name": "python",
   "nbconvert_exporter": "python",
   "pygments_lexer": "ipython3",
   "version": "3.6.5"
  }
 },
 "nbformat": 4,
 "nbformat_minor": 2
}
