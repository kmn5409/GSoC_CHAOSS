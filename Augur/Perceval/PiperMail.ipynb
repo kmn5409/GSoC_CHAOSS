{
 "cells": [
  {
   "cell_type": "code",
   "execution_count": 3,
   "metadata": {
    "scrolled": true
   },
   "outputs": [
    {
     "name": "stderr",
     "output_type": "stream",
     "text": [
      "2018-06-08 15:19:46 keanu-Inspiron-5567 perceval.backends.core.pipermail[1679] INFO Looking for messages from 'https://lists.opendaylight.org/pipermail/archetypes-dev/' since 1970-01-01 00:00:00+00:00\n",
      "2018-06-08 15:19:46 keanu-Inspiron-5567 perceval.backends.core.pipermail[1679] INFO Downloading mboxes from 'https://lists.opendaylight.org/pipermail/archetypes-dev/' to since 1970-01-01 00:00:00+00:00\n"
     ]
    },
    {
     "name": "stdout",
     "output_type": "stream",
     "text": [
      "/home/keanu/temp/augur7/augur\n",
      "/home/keanu/temp/augur7/augur/notebooks\n",
      "aalldp-dev\n",
      "File Exists\n",
      "aaa-dev\n",
      "File Exists\n",
      "advisory-group\n",
      "File Exists\n",
      "affinity-dev\n",
      "File Exists\n",
      "alto-dev\n",
      "File Exists\n"
     ]
    },
    {
     "name": "stderr",
     "output_type": "stream",
     "text": [
      "2018-06-08 15:19:48 keanu-Inspiron-5567 perceval.backends.core.pipermail[1679] INFO 1/1 MBoxes downloaded\n",
      "2018-06-08 15:19:48 keanu-Inspiron-5567 perceval.backends.core.mbox[1679] INFO Done. 2/2 messages fetched; 0 ignored\n",
      "2018-06-08 15:19:48 keanu-Inspiron-5567 perceval.backends.core.pipermail[1679] INFO Fetch process completed\n"
     ]
    },
    {
     "name": "stdout",
     "output_type": "stream",
     "text": [
      "Created File archetypes-dev\n",
      "Finished downloading files\n"
     ]
    }
   ],
   "source": [
    "import augur\n",
    "from augur.PiperReader import PiperMail\n",
    "\n",
    "# import everything from githubapi.py and ghtorrent.py so we can\n",
    "# just copy and paste our function later\n",
    "import json\n",
    "import pandas as pd\n",
    "from perceval.backends.core.pipermail import Pipermail\n",
    "import os, os.path\n",
    "\n",
    "# create an Augur application so we can test our function\n",
    "print(os.getcwd())\n",
    "if(\"notebooks\" not in os.getcwd()):\n",
    "    os.chdir(\"notebooks\")\n",
    "augurApp = augur.Application('../augur.config.json')\n",
    "print(os.getcwd())\n",
    "link = \"https://lists.opendaylight.org/pipermail/\"\n",
    "mail = [\"aalldp-dev\",\"aaa-dev\",\"advisory-group\",\"affinity-dev\",\"alto-dev\",\"archetypes-dev\"]\n",
    "#print(os.getcwd())\n",
    "file = \"opendaylight-\"\n",
    "if \"notebooks\" in os.getcwd():\n",
    "    os.chdir(\"..\")\n",
    "path = \"/augur/data/opendaylight-\" \n",
    "for x in range(len(mail)):\n",
    "    #print(link+mail[x])\n",
    "    #print(os.getcwd())\n",
    "    #print(os.path.join(os.getcwd() + path+'.json'))\n",
    "    place = os.path.join(os.getcwd() + path + mail[x] +'.json')\n",
    "    if(os.path.exists(place)):\n",
    "        print(mail[x])\n",
    "        print(\"File Exists\")\n",
    "        continue                   \n",
    "    repo = Pipermail(url = \"https://lists.opendaylight.org/pipermail/\"+ mail[x] + \"/\",dirpath=\"tmp/archives\"+mail[x])\n",
    "    #print(repo)\n",
    "    outfile = open(place,\"w+\")\n",
    "    for message in repo.fetch():\n",
    "        obj = json.dumps(message, indent=4, sort_keys=True)\n",
    "        outfile.write(obj)\n",
    "        outfile.write('\\n')\n",
    "    outfile.close()\n",
    "    print(\"Created File\",mail[x])\n",
    "print(\"Finished downloading files\")"
   ]
  },
  {
   "cell_type": "code",
   "execution_count": 4,
   "metadata": {
    "scrolled": false
   },
   "outputs": [
    {
     "name": "stdout",
     "output_type": "stream",
     "text": [
      "ugh\n",
      "Hey\n",
      "File exists\n",
      "File exists\n",
      "File exists\n",
      "File exists\n",
      "File exists\n",
      "File uploaded\n",
      "Finished\n",
      "<augur.PiperReader.PiperMail object at 0x7f2f6d148cf8>\n"
     ]
    }
   ],
   "source": [
    "temp = augurApp.piper()\n",
    "temp.make()\n",
    "print(temp)\n",
    "#temp.make()\n",
    "#print(temp.make)"
   ]
  }
 ],
 "metadata": {
  "kernelspec": {
   "display_name": "Python (augur)",
   "language": "python",
   "name": "augur"
  },
  "language_info": {
   "codemirror_mode": {
    "name": "ipython",
    "version": 3
   },
   "file_extension": ".py",
   "mimetype": "text/x-python",
   "name": "python",
   "nbconvert_exporter": "python",
   "pygments_lexer": "ipython3",
   "version": "3.6.5"
  }
 },
 "nbformat": 4,
 "nbformat_minor": 2
}
