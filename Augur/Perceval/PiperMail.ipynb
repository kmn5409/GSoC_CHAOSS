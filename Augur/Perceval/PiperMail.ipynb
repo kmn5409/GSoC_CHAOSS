{
 "cells": [
  {
   "cell_type": "code",
   "execution_count": 3,
   "metadata": {
    "scrolled": false
   },
   "outputs": [
    {
     "name": "stderr",
     "output_type": "stream",
     "text": [
      "2018-06-05 09:24:59 keanu-Inspiron-5567 perceval.backends.core.pipermail[9941] INFO Looking for messages from 'https://lists.opendaylight.org/pipermail/archetypes-dev/' since 1970-01-01 00:00:00+00:00\n",
      "2018-06-05 09:24:59 keanu-Inspiron-5567 perceval.backends.core.pipermail[9941] INFO Downloading mboxes from 'https://lists.opendaylight.org/pipermail/archetypes-dev/' to since 1970-01-01 00:00:00+00:00\n"
     ]
    },
    {
     "name": "stdout",
     "output_type": "stream",
     "text": [
      "/home/keanu/temp/augur\n"
     ]
    },
    {
     "name": "stderr",
     "output_type": "stream",
     "text": [
      "2018-06-05 09:25:01 keanu-Inspiron-5567 perceval.backends.core.pipermail[9941] INFO 1/1 MBoxes downloaded\n",
      "2018-06-05 09:25:01 keanu-Inspiron-5567 perceval.backends.core.mbox[9941] INFO Done. 2/2 messages fetched; 0 ignored\n",
      "2018-06-05 09:25:01 keanu-Inspiron-5567 perceval.backends.core.pipermail[9941] INFO Fetch process completed\n"
     ]
    }
   ],
   "source": [
    "import augur\n",
    "\n",
    "# import everything from githubapi.py and ghtorrent.py so we can\n",
    "# just copy and paste our function later\n",
    "import json\n",
    "import re\n",
    "from dateutil.parser import parse\n",
    "import pandas as pd\n",
    "import github\n",
    "import numpy as np\n",
    "import sqlalchemy as s\n",
    "import datetime\n",
    "import requests\n",
    "import time\n",
    "from perceval.backends.core.pipermail import Pipermail\n",
    "import os, os.path\n",
    "\n",
    "%matplotlib inline\n",
    "# create an Augur application so we can test our function\n",
    "link = \"https://lists.opendaylight.org/pipermail/\"\n",
    "mail = [\"archetypes-dev\"]\n",
    "print(os.getcwd())\n",
    "file = \"opendaylight-\"\n",
    "if \"notebooks\" in os.getcwd():\n",
    "    os.chdir(\"..\")\n",
    "path = \"/augur/data/opendaylight-\" \n",
    "for x in range(len(mail)):\n",
    "    #print(link+mail[x])\n",
    "    #print(os.getcwd())\n",
    "    #print(os.path.join(os.getcwd() + path+'.json'))\n",
    "    repo = Pipermail(url = \"https://lists.opendaylight.org/pipermail/archetypes-dev/\",dirpath=\"tmp/archives\")\n",
    "    #print(repo)\n",
    "    outfile = open(os.path.join(os.getcwd() + path + mail[x] +'.json'),\"w+\")\n",
    "    for message in repo.fetch():\n",
    "        obj = json.dumps(message, indent=4, sort_keys=True)\n",
    "        outfile.write(obj)\n",
    "        outfile.write('\\n')\n",
    "    outfile.close()"
   ]
  },
  {
   "cell_type": "code",
   "execution_count": 4,
   "metadata": {
    "scrolled": false
   },
   "outputs": [
    {
     "name": "stdout",
     "output_type": "stream",
     "text": [
      "/home/keanu/temp/augur\n",
      "/home/keanu/temp/augur\n",
      "LEROYYYYYYYYY!!!!!!!!\n",
      "LEROYYYYYYYYY!!!!!!!!\n",
      "LEROYYYYYYYYY!!!!!!!!\n",
      "LEROYYYYYYYYY!!!!!!!!\n",
      "LEROYYYYYYYYY!!!!!!!!\n",
      "LEROYYYYYYYYY!!!!!!!!\n"
     ]
    },
    {
     "data": {
      "text/plain": [
       "<augur.Piper_reader.Piper_mail at 0x7f08c2acbda0>"
      ]
     },
     "execution_count": 4,
     "metadata": {},
     "output_type": "execute_result"
    }
   ],
   "source": [
    "augur.Piper_mail()"
   ]
  }
 ],
 "metadata": {
  "kernelspec": {
   "display_name": "Python (augur)",
   "language": "python",
   "name": "augur"
  },
  "language_info": {
   "codemirror_mode": {
    "name": "ipython",
    "version": 3
   },
   "file_extension": ".py",
   "mimetype": "text/x-python",
   "name": "python",
   "nbconvert_exporter": "python",
   "pygments_lexer": "ipython3",
   "version": "3.6.5"
  }
 },
 "nbformat": 4,
 "nbformat_minor": 2
}
