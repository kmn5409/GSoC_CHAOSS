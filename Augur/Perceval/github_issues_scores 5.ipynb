{
 "cells": [
  {
   "cell_type": "code",
   "execution_count": 1,
   "metadata": {},
   "outputs": [
    {
     "name": "stdout",
     "output_type": "stream",
     "text": [
      "Requirement already satisfied: nltk in /home/keanu/anaconda3/envs/augur/lib/python3.6/site-packages (3.3)\n",
      "Requirement already satisfied: six in /home/keanu/anaconda3/envs/augur/lib/python3.6/site-packages (from nltk) (1.11.0)\n",
      "\u001b[33mYou are using pip version 10.0.1, however version 18.0 is available.\n",
      "You should consider upgrading via the 'pip install --upgrade pip' command.\u001b[0m\n",
      "[nltk_data] Downloading package vader_lexicon to\n",
      "[nltk_data]     /home/keanu/nltk_data...\n",
      "[nltk_data]   Package vader_lexicon is already up-to-date!\n",
      "[nltk_data] Downloading package punkt to /home/keanu/nltk_data...\n",
      "[nltk_data]   Package punkt is already up-to-date!\n",
      "[nltk_data] Downloading package stopwords to /home/keanu/nltk_data...\n",
      "[nltk_data]   Package stopwords is already up-to-date!\n",
      "Requirement already satisfied: scipy in /home/keanu/anaconda3/envs/augur/lib/python3.6/site-packages (1.1.0)\n",
      "Requirement already satisfied: numpy>=1.8.2 in /home/keanu/anaconda3/envs/augur/lib/python3.6/site-packages (from scipy) (1.14.2)\n",
      "\u001b[33mYou are using pip version 10.0.1, however version 18.0 is available.\n",
      "You should consider upgrading via the 'pip install --upgrade pip' command.\u001b[0m\n"
     ]
    }
   ],
   "source": [
    "# Install a pip package in the current Jupyter kernel\n",
    "import sys\n",
    "!{sys.executable} -m pip install nltk\n",
    "import nltk\n",
    "nltk.download('vader_lexicon')\n",
    "nltk.download('punkt')\n",
    "nltk.download('stopwords')\n",
    "!{sys.executable} -m pip install scipy\n",
    "from scipy import stats"
   ]
  },
  {
   "cell_type": "code",
   "execution_count": 2,
   "metadata": {
    "collapsed": true
   },
   "outputs": [],
   "source": [
    "from perceval.backends.core.github import GitHub\n",
    "import os,json\n",
    "import nltk.data\n",
    "import numpy as np\n",
    "from nltk.sentiment.vader import SentimentIntensityAnalyzer\n",
    "import augur\n",
    "import sqlalchemy as s\n",
    "import matplotlib.pyplot as plot\n",
    "import matplotlib.dates as mdates\n",
    "import pandas as pd\n",
    "%matplotlib inline"
   ]
  },
  {
   "cell_type": "code",
   "execution_count": 3,
   "metadata": {},
   "outputs": [],
   "source": [
    "if(\"notebooks\" not in os.getcwd()):\n",
    "    os.chdir(\"notebooks\")\n",
    "augurApp = augur.Application('../augur.config.json')\n",
    "connect,list1,path = augurApp.github_issues()\n",
    "DB_STR = 'mysql+pymysql://{}:{}@{}:{}/{}?charset=utf8'.format(\n",
    "            list1[0], list1[1], list1[2],\\\n",
    "            list1[3], list1[4]\n",
    "        )\n",
    "db = s.create_engine(DB_STR)"
   ]
  },
  {
   "cell_type": "code",
   "execution_count": 4,
   "metadata": {},
   "outputs": [
    {
     "name": "stdout",
     "output_type": "stream",
     "text": [
      "['github_issues', 'issue_response_time', 'mail_lists', 'mail_lists_sentiment_scores', 'mailing_list_jobs']\n"
     ]
    }
   ],
   "source": [
    "table_names = s.inspect(db).get_table_names()\n",
    "print(table_names)"
   ]
  },
  {
   "cell_type": "code",
   "execution_count": 5,
   "metadata": {
    "collapsed": true
   },
   "outputs": [],
   "source": [
    "if(\"github_issues\" in table_names):\n",
    "    lists_createdSQL = s.sql.text(\"\"\"SELECT repo FROM github_issues\"\"\")\n",
    "    df1 = pd.read_sql(lists_createdSQL, db)\n",
    "    #print(df1)\n",
    "    val = True"
   ]
  },
  {
   "cell_type": "code",
   "execution_count": 6,
   "metadata": {
    "collapsed": true
   },
   "outputs": [],
   "source": [
    "tokenizer = nltk.data.load('tokenizers/punkt/english.pickle')\n",
    "sid = SentimentIntensityAnalyzer()\n",
    "col = 'score','sentiment'"
   ]
  },
  {
   "cell_type": "code",
   "execution_count": 7,
   "metadata": {
    "scrolled": false
   },
   "outputs": [
    {
     "name": "stdout",
     "output_type": "stream",
     "text": [
      "   augurmsgID backend_name                             repo_link   owner  \\\n",
      "0           1       GitHub  https://github.com/chaoss/governance  chaoss   \n",
      "1           2       GitHub  https://github.com/chaoss/governance  chaoss   \n",
      "2           3       GitHub  https://github.com/chaoss/governance  chaoss   \n",
      "3           4       GitHub  https://github.com/chaoss/governance  chaoss   \n",
      "4           5       GitHub  https://github.com/chaoss/governance  chaoss   \n",
      "\n",
      "         repo                                            subject  status  \\\n",
      "0  governance  Define 'Path to Maintainership' and 'List Main...    open   \n",
      "1  governance  Document prefixes for emails that we will use ...    open   \n",
      "2  governance  Document prefixes for emails that we will use ...    open   \n",
      "3  governance  Document prefixes for emails that we will use ...    open   \n",
      "4  governance                                   merge micro task  closed   \n",
      "\n",
      "  category  issue_number   timestamp   issue_id          user  \\\n",
      "0    issue             6  1532533660  296421441     GeorgLink   \n",
      "1    issue             8  1532533663  298764853     GeorgLink   \n",
      "2    issue             8  1532533663  298764853     GeorgLink   \n",
      "3    issue             8  1532533663  298764853    germonprez   \n",
      "4    issue            48  1532533676  308892040  theexplorist   \n",
      "\n",
      "                                                body  \n",
      "0  Per proposal in chaoss/governance#5 :\\r\\n\\r\\n>...  \n",
      "1  We talked about merging all mailing lists into...  \n",
      "2  Audiences (require exactly one):\\r\\n[all] - to...  \n",
      "3  This is a good list. \\r\\n\\r\\nWould it be as: [...  \n",
      "4  i have pull requested the proposed micro task ...  \n",
      "      augurmsgID backend_name                      repo_link   owner repo  \\\n",
      "6693        6694       GitHub  https://github.com/nodejs/TSC  nodejs  TSC   \n",
      "6694        6695       GitHub  https://github.com/nodejs/TSC  nodejs  TSC   \n",
      "6695        6696       GitHub  https://github.com/nodejs/TSC  nodejs  TSC   \n",
      "6696        6697       GitHub  https://github.com/nodejs/TSC  nodejs  TSC   \n",
      "6697        6698       GitHub  https://github.com/nodejs/TSC  nodejs  TSC   \n",
      "\n",
      "                                                subject status category  \\\n",
      "6693  Node.js Foundation Technical Steering Committe...   open    issue   \n",
      "6694  Node.js Foundation Technical Steering Committe...   open    issue   \n",
      "6695  Node.js Foundation Technical Steering Committe...   open    issue   \n",
      "6696  Node.js Foundation Technical Steering Committe...   open    issue   \n",
      "6697  Node.js Foundation Technical Steering Committe...   open    issue   \n",
      "\n",
      "      issue_number   timestamp   issue_id      user  \\\n",
      "6693           573  1532534553  343605023   fhinkel   \n",
      "6694           573  1532534553  343605023     rvagg   \n",
      "6695           573  1532534553  343605023  mhdawson   \n",
      "6696           573  1532534553  343605023    targos   \n",
      "6697           573  1532534553  343605023   ChALkeR   \n",
      "\n",
      "                                                   body  \n",
      "6693                        Also not going to make it.   \n",
      "6694  If we go ahead perhaps those of us at NodeSumm...  \n",
      "6695  I have talks to deliver and would have to be i...  \n",
      "6696  I can attend but would prefer not to (midnight...  \n",
      "6697  Same as @targos — 1 AM in my zone, I can atten...  \n"
     ]
    }
   ],
   "source": [
    "SQL = \"\"\"SELECT * FROM github_issues\"\"\"\n",
    "df_users =  pd.read_sql(SQL, db)\n",
    "print(df_users.head())\n",
    "print(df_users.tail())"
   ]
  },
  {
   "cell_type": "code",
   "execution_count": 8,
   "metadata": {
    "scrolled": false
   },
   "outputs": [
    {
     "name": "stdout",
     "output_type": "stream",
     "text": [
      "485\n"
     ]
    }
   ],
   "source": [
    "grouped = df_users.groupby('subject').groups\n",
    "num = 0\n",
    "col = 'score','sentiment'\n",
    "columns1 = 'augurmsgID',\"backend_name\",'repo_link',\"owner\",\"repo\",\"subject\",\\\n",
    "          \"status\",\"category\",\"issue_number\",\"timestamp\",\\\n",
    "          \"issue_id\",\"user\",\"body\"\n",
    "df3 = pd.DataFrame(columns=col)\n",
    "df_list = pd.DataFrame(columns = columns1)\n",
    "df_list = df_list.append(df_users)\n",
    "for group in grouped:\n",
    "    #print(group)\n",
    "    issue_num = (df_users.loc[df_users['subject'] == group]['issue_number']).values\n",
    "    messages = (df_users.loc[df_users['subject'] == group]['body']).tolist()\n",
    "    id1 = (df_users.loc[df_users['subject'] == group]['body']).tolist()\n",
    "    #print(\"Issue number: \",issue_num[0])\n",
    "    #break\n",
    "    for i in messages:\n",
    "        #print(i)\n",
    "        sentences = tokenizer.tokenize(i)\n",
    "        compound = 0\n",
    "        part = 0\n",
    "        sentiment = \"Positive\"\n",
    "        for sentence in sentences:\n",
    "            scores = sid.polarity_scores(sentence)\n",
    "            compound+=scores['compound']\n",
    "            part+=1\n",
    "            #print(sentence,scores)\n",
    "            #if(scores['compound'] < 0.1):\n",
    "            #    print(sentence,scores['compound'])\n",
    "        if(part == 0):\n",
    "            avg = 0\n",
    "        else:\n",
    "            avg = compound/part\n",
    "            avg = round(avg,3)\n",
    "        if(avg == 0):\n",
    "            sentiment = \"Neutral\"\n",
    "        elif(avg < 0):\n",
    "            sentiment = \"Negative\"\n",
    "        li = [ [avg,sentiment]]\n",
    "        df_temp = pd.DataFrame(li,columns=col)\n",
    "        df3 = df3.append(df_temp)\n",
    "        #if(avg < -0.5):\n",
    "            #print(i,avg)\n",
    "            #print(\"\\n\\n\\n\\n\\n\\n\")\n",
    "    #if(num == 40):\n",
    "    #    break\n",
    "    num+=1\n",
    "    #print(\"\\n\\n\\n\")\n",
    "print(num)"
   ]
  },
  {
   "cell_type": "code",
   "execution_count": 9,
   "metadata": {
    "collapsed": true
   },
   "outputs": [],
   "source": [
    "#print(df3)\n",
    "#print(df_list)\n",
    "df3 = df3.reset_index(drop=True)\n",
    "#print(df3.head())\n",
    "df_list = df_list.reset_index(drop=True)\n",
    "combine = (df_list.join(df3))"
   ]
  },
  {
   "cell_type": "code",
   "execution_count": 10,
   "metadata": {},
   "outputs": [
    {
     "name": "stdout",
     "output_type": "stream",
     "text": [
      "  augurmsgID backend_name                             repo_link   owner  \\\n",
      "0          1       GitHub  https://github.com/chaoss/governance  chaoss   \n",
      "1          2       GitHub  https://github.com/chaoss/governance  chaoss   \n",
      "2          3       GitHub  https://github.com/chaoss/governance  chaoss   \n",
      "3          4       GitHub  https://github.com/chaoss/governance  chaoss   \n",
      "4          5       GitHub  https://github.com/chaoss/governance  chaoss   \n",
      "\n",
      "         repo                                            subject  status  \\\n",
      "0  governance  Define 'Path to Maintainership' and 'List Main...    open   \n",
      "1  governance  Document prefixes for emails that we will use ...    open   \n",
      "2  governance  Document prefixes for emails that we will use ...    open   \n",
      "3  governance  Document prefixes for emails that we will use ...    open   \n",
      "4  governance                                   merge micro task  closed   \n",
      "\n",
      "  category issue_number   timestamp   issue_id          user  \\\n",
      "0    issue            6  1532533660  296421441     GeorgLink   \n",
      "1    issue            8  1532533663  298764853     GeorgLink   \n",
      "2    issue            8  1532533663  298764853     GeorgLink   \n",
      "3    issue            8  1532533663  298764853    germonprez   \n",
      "4    issue           48  1532533676  308892040  theexplorist   \n",
      "\n",
      "                                                body  score sentiment  \n",
      "0  Per proposal in chaoss/governance#5 :\\r\\n\\r\\n>... -0.008  Negative  \n",
      "1  We talked about merging all mailing lists into...  0.087  Positive  \n",
      "2  Audiences (require exactly one):\\r\\n[all] - to... -0.043  Negative  \n",
      "3  This is a good list. \\r\\n\\r\\nWould it be as: [...  0.034  Positive  \n",
      "4  i have pull requested the proposed micro task ...  0.140  Positive  \n"
     ]
    }
   ],
   "source": [
    "print(combine.head())"
   ]
  },
  {
   "cell_type": "code",
   "execution_count": 11,
   "metadata": {},
   "outputs": [],
   "source": [
    "combine.to_sql(name='github_issues_sentiment_scores',\\\n",
    "               con=db,if_exists='replace',index=False)"
   ]
  },
  {
   "cell_type": "code",
   "execution_count": 12,
   "metadata": {
    "scrolled": false
   },
   "outputs": [
    {
     "name": "stdout",
     "output_type": "stream",
     "text": [
      "(9,)\n",
      "(9,)\n"
     ]
    },
    {
     "data": {
      "image/png": "[encoded data removed]",
      "text/plain": [
       "<Figure size 432x288 with 1 Axes>"
      ]
     },
     "metadata": {},
     "output_type": "display_data"
    },
    {
     "name": "stdout",
     "output_type": "stream",
     "text": [
      "(126,)\n",
      "(126,)\n"
     ]
    },
    {
     "data": {
      "image/png": "[encoded data removed]",
      "text/plain": [
       "<Figure size 432x288 with 1 Axes>"
      ]
     },
     "metadata": {},
     "output_type": "display_data"
    },
    {
     "name": "stdout",
     "output_type": "stream",
     "text": [
      "(352,)\n",
      "(352,)\n"
     ]
    },
    {
     "data": {
      "image/png": "[encoded data removed]",
      "text/plain": [
       "<Figure size 432x288 with 1 Axes>"
      ]
     },
     "metadata": {},
     "output_type": "display_data"
    }
   ],
   "source": [
    "repos = combine.groupby('repo_link')\n",
    "for repo in repos:\n",
    "    fin_dates = []\n",
    "    fin_values = []\n",
    "    dates = []\n",
    "    values = []\n",
    "    mail_list = None\n",
    "    j = 0\n",
    "    #print(type(repo[1:]))\n",
    "    rep = (combine.loc[combine['repo_link'] == repo[0]])\n",
    "    #print(rep.head())\n",
    "    grouped = rep.groupby('subject').groups\n",
    "    for group in grouped:\n",
    "        #print(group)\n",
    "        dates = (combine.loc[combine['subject'] == group]['timestamp']).tolist()\n",
    "        values = (combine.loc[combine['subject'] == group]['score']).unique().tolist()\n",
    "        #print(\"Issue number: \",issue_num[0])\n",
    "        x = np.array(dates)\n",
    "        dates = np.unique(x)\n",
    "        #print(dates)\n",
    "        dates = [pd.to_datetime(x,unit='ms') for x in dates]\n",
    "        #print(dates)\n",
    "        dates1 = [x for x in dates]\n",
    "        #dates2 = mdates.date2num(dates1)\n",
    "        #print(dates1)\n",
    "        #print(values)\n",
    "        values = sum(values[0:len(values)])/len(values)\n",
    "        fin_dates.append(dates1[0])\n",
    "        fin_values.append(values)\n",
    "        # beautify the x-labels\n",
    "        #plot.savefig('mailing_list' + str(j) + '.png')\n",
    "            #if(avg < -0.5):\n",
    "                #print(i,avg)\n",
    "                #print(\"\\n\\n\\n\\n\\n\\n\")\n",
    "        #if(num == 40):\n",
    "        #    break\n",
    "        num+=1\n",
    "        #print(\"\\n\\n\\n\")\n",
    "        j+=1\n",
    "    fin_dates = mdates.date2num(fin_dates)\n",
    "    fin_values = np.asarray(fin_values)\n",
    "    print(fin_dates.shape)\n",
    "    print(fin_values.shape)\n",
    "    plot.plot_date(fin_dates, fin_values)\n",
    "    #plot.plot(fin_dates,fin_values)\n",
    "    plot.gcf().autofmt_xdate()\n",
    "    plot.title(\"Issues: \"+ str(repo[0]))\n",
    "    plot.ylabel('Score')\n",
    "    plot.xlabel('Date')\n",
    "    #print(fin_dates)\n",
    "    slope, intercept, r_value, p_value, std_err = stats.linregress(fin_dates,fin_values)\n",
    "    line = slope*fin_dates+intercept\n",
    "    plot.plot(fin_dates,fin_values,'o', fin_dates, line)\n",
    "    plot.show()"
   ]
  }
 ],
 "metadata": {
  "kernelspec": {
   "display_name": "Python (augur)",
   "language": "python",
   "name": "augur"
  },
  "language_info": {
   "codemirror_mode": {
    "name": "ipython",
    "version": 3
   },
   "file_extension": ".py",
   "mimetype": "text/x-python",
   "name": "python",
   "nbconvert_exporter": "python",
   "pygments_lexer": "ipython3",
   "version": "3.6.5"
  }
 },
 "nbformat": 4,
 "nbformat_minor": 2
}
