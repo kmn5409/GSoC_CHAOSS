{
 "cells": [
  {
   "cell_type": "code",
   "execution_count": 1,
   "metadata": {},
   "outputs": [
    {
     "name": "stdout",
     "output_type": "stream",
     "text": [
      "Requirement already satisfied: nltk in /home/keanu/anaconda3/envs/augur/lib/python3.6/site-packages (3.3)\n",
      "Requirement already satisfied: six in /home/keanu/anaconda3/envs/augur/lib/python3.6/site-packages (from nltk) (1.11.0)\n",
      "\u001b[33mYou are using pip version 10.0.1, however version 18.0 is available.\n",
      "You should consider upgrading via the 'pip install --upgrade pip' command.\u001b[0m\n",
      "[nltk_data] Downloading package vader_lexicon to\n",
      "[nltk_data]     /home/keanu/nltk_data...\n",
      "[nltk_data]   Package vader_lexicon is already up-to-date!\n",
      "[nltk_data] Downloading package punkt to /home/keanu/nltk_data...\n",
      "[nltk_data]   Package punkt is already up-to-date!\n",
      "[nltk_data] Downloading package stopwords to /home/keanu/nltk_data...\n",
      "[nltk_data]   Package stopwords is already up-to-date!\n",
      "Requirement already satisfied: scipy in /home/keanu/anaconda3/envs/augur/lib/python3.6/site-packages (1.1.0)\n",
      "Requirement already satisfied: numpy>=1.8.2 in /home/keanu/anaconda3/envs/augur/lib/python3.6/site-packages (from scipy) (1.14.2)\n",
      "\u001b[33mYou are using pip version 10.0.1, however version 18.0 is available.\n",
      "You should consider upgrading via the 'pip install --upgrade pip' command.\u001b[0m\n"
     ]
    }
   ],
   "source": [
    "# Install a pip package in the current Jupyter kernel\n",
    "import sys\n",
    "!{sys.executable} -m pip install nltk\n",
    "import nltk\n",
    "nltk.download('vader_lexicon')\n",
    "nltk.download('punkt')\n",
    "nltk.download('stopwords')\n",
    "!{sys.executable} -m pip install scipy\n",
    "from scipy import stats"
   ]
  },
  {
   "cell_type": "code",
   "execution_count": 2,
   "metadata": {
    "collapsed": true
   },
   "outputs": [],
   "source": [
    "from perceval.backends.core.github import GitHub\n",
    "import os,json\n",
    "import nltk.data\n",
    "import numpy as np\n",
    "from nltk.sentiment.vader import SentimentIntensityAnalyzer\n",
    "import augur\n",
    "import datetime as dt\n",
    "import sqlalchemy as s\n",
    "import matplotlib.pyplot as plot\n",
    "import matplotlib.dates as mdates\n",
    "import pandas as pd\n",
    "%matplotlib inline"
   ]
  },
  {
   "cell_type": "code",
   "execution_count": 3,
   "metadata": {
    "collapsed": true
   },
   "outputs": [],
   "source": [
    "if(\"notebooks\" not in os.getcwd()):\n",
    "    os.chdir(\"notebooks\")\n",
    "augurApp = augur.Application('../augur.config.json')\n",
    "connect,list1,path = augurApp.github_issues()\n",
    "DB_STR = 'mysql+pymysql://{}:{}@{}:{}/{}?charset=utf8'.format(\n",
    "            list1[0], list1[1], list1[2],\\\n",
    "            list1[3], list1[4]\n",
    "        )\n",
    "db = s.create_engine(DB_STR)"
   ]
  },
  {
   "cell_type": "code",
   "execution_count": 4,
   "metadata": {},
   "outputs": [
    {
     "name": "stdout",
     "output_type": "stream",
     "text": [
      "['github_issues', 'github_issues_2', 'github_issues_repo_jobs', 'github_issues_sentiment_scores', 'github_pull_requests', 'github_pull_requests_sentiment_scores', 'issue_response_time', 'mail_lists', 'mail_lists_sentiment_scores', 'mailing_list_jobs']\n"
     ]
    }
   ],
   "source": [
    "table_names = s.inspect(db).get_table_names()\n",
    "print(table_names)"
   ]
  },
  {
   "cell_type": "code",
   "execution_count": 5,
   "metadata": {
    "collapsed": true
   },
   "outputs": [],
   "source": [
    "if(\"github_issues_2\" in table_names):\n",
    "    lists_createdSQL = s.sql.text(\"\"\"SELECT repo FROM github_issues_2\"\"\")\n",
    "    df1 = pd.read_sql(lists_createdSQL, db)\n",
    "    #print(df1)\n",
    "    val = True"
   ]
  },
  {
   "cell_type": "code",
   "execution_count": 6,
   "metadata": {
    "collapsed": true
   },
   "outputs": [],
   "source": [
    "tokenizer = nltk.data.load('tokenizers/punkt/english.pickle')\n",
    "sid = SentimentIntensityAnalyzer()\n",
    "col = 'score','sentiment'"
   ]
  },
  {
   "cell_type": "code",
   "execution_count": 7,
   "metadata": {
    "scrolled": false
   },
   "outputs": [
    {
     "name": "stdout",
     "output_type": "stream",
     "text": [
      "   augurmsgID backend_name                      repo_link   owner repo  \\\n",
      "0           1       GitHub  https://github.com/nodejs/CTC  nodejs  CTC   \n",
      "1           2       GitHub  https://github.com/nodejs/CTC  nodejs  CTC   \n",
      "2           3       GitHub  https://github.com/nodejs/CTC  nodejs  CTC   \n",
      "3           4       GitHub  https://github.com/nodejs/CTC  nodejs  CTC   \n",
      "4           5       GitHub  https://github.com/nodejs/CTC  nodejs  CTC   \n",
      "\n",
      "                 subject  status category  issue_number            timestamp  \\\n",
      "0  Purpose of nodejs/CTC  closed    issue             1  2016-06-09 12:43:54   \n",
      "1  Purpose of nodejs/CTC  closed    issue             1  2016-06-09 12:53:53   \n",
      "2  Purpose of nodejs/CTC  closed    issue             1  2016-06-09 13:34:16   \n",
      "3  Purpose of nodejs/CTC  closed    issue             1  2016-06-09 13:57:58   \n",
      "4  Purpose of nodejs/CTC  closed    issue             1  2016-06-09 13:59:05   \n",
      "\n",
      "    issue_id         user                                               body  \n",
      "0  159398443        rvagg  @nodejs/collaborators I'm not sure if this is ...  \n",
      "1  159398443  vkurchatkin             > Core Technical Team (CTC)\\n\\nTypo?\\n  \n",
      "2  159398443        rvagg                       blerh, yes, fixing, thanks\\n  \n",
      "3  159398443   benjamingr  If I want to being an issue to the CTC's atten...  \n",
      "4  159398443   benjamingr  > Issues that Node.js needs to begin consideri...  \n",
      "      augurmsgID backend_name                      repo_link   owner repo  \\\n",
      "6706        6707       GitHub  https://github.com/nodejs/TSC  nodejs  TSC   \n",
      "6707        6708       GitHub  https://github.com/nodejs/TSC  nodejs  TSC   \n",
      "6708        6709       GitHub  https://github.com/nodejs/TSC  nodejs  TSC   \n",
      "6709        6710       GitHub  https://github.com/nodejs/TSC  nodejs  TSC   \n",
      "6710        6711       GitHub  https://github.com/nodejs/TSC  nodejs  TSC   \n",
      "\n",
      "                                                subject status category  \\\n",
      "6706  Proposal: add all new core modules under a sco...   open    issue   \n",
      "6707  Proposal: add all new core modules under a sco...   open    issue   \n",
      "6708  Proposal: add all new core modules under a sco...   open    issue   \n",
      "6709  Proposal: add all new core modules under a sco...   open    issue   \n",
      "6710  Proposal: add all new core modules under a sco...   open    issue   \n",
      "\n",
      "      issue_number            timestamp   issue_id        user  \\\n",
      "6706           389  2018-07-31 23:59:44  266702892       Trott   \n",
      "6707           389  2018-08-01 14:41:02  266702892    mhdawson   \n",
      "6708           389  2018-08-01 15:10:37  266702892      ljharb   \n",
      "6709           389  2018-08-02 14:44:17  266702892  benjamingr   \n",
      "6710           389  2018-08-02 17:20:02  266702892      ljharb   \n",
      "\n",
      "                                                   body  \n",
      "6706  Re-added the tsc-agenda label on behalf of @lj...  \n",
      "6707  In the last TSC meeting we discussed again, th...  \n",
      "6708  @mhdawson i think the list would either be “em...  \n",
      "6709  I'm +1 on moving existing modules with new API...  \n",
      "6710  I think creating new APIs while moving existin...  \n"
     ]
    }
   ],
   "source": [
    "SQL = \"\"\"SELECT * FROM github_issues_2\"\"\"\n",
    "df_users =  pd.read_sql(SQL, db)\n",
    "print(df_users.head())\n",
    "print(df_users.tail())"
   ]
  },
  {
   "cell_type": "code",
   "execution_count": 8,
   "metadata": {
    "scrolled": false
   },
   "outputs": [
    {
     "name": "stdout",
     "output_type": "stream",
     "text": [
      "481\n"
     ]
    }
   ],
   "source": [
    "grouped = df_users.groupby('subject').groups\n",
    "num = 0\n",
    "col = 'score','sentiment'\n",
    "columns1 = 'augurmsgID',\"backend_name\",'repo_link',\"owner\",\"repo\",\"subject\",\\\n",
    "          \"status\",\"category\",\"issue_number\",\"timestamp\",\\\n",
    "          \"issue_id\",\"user\",\"body\"\n",
    "df3 = pd.DataFrame(columns=col)\n",
    "df_list = pd.DataFrame(columns = columns1)\n",
    "df_list = df_list.append(df_users)\n",
    "for group in grouped:\n",
    "    #print(group)\n",
    "    issue_num = (df_users.loc[df_users['subject'] == group]['issue_number']).values\n",
    "    messages = (df_users.loc[df_users['subject'] == group]['body']).tolist()\n",
    "    id1 = (df_users.loc[df_users['subject'] == group]['body']).tolist()\n",
    "    #print(\"Issue number: \",issue_num[0])\n",
    "    #break\n",
    "    for i in messages:\n",
    "        #print(i)\n",
    "        sentences = tokenizer.tokenize(i)\n",
    "        compound = 0\n",
    "        part = 0\n",
    "        sentiment = \"Positive\"\n",
    "        for sentence in sentences:\n",
    "            scores = sid.polarity_scores(sentence)\n",
    "            compound+=scores['compound']\n",
    "            part+=1\n",
    "            #print(sentence,scores)\n",
    "            #if(scores['compound'] < 0.1):\n",
    "            #    print(sentence,scores['compound'])\n",
    "        if(part == 0):\n",
    "            avg = 0\n",
    "        else:\n",
    "            avg = compound/part\n",
    "            avg = round(avg,3)\n",
    "        if(avg == 0):\n",
    "            sentiment = \"Neutral\"\n",
    "        elif(avg < 0):\n",
    "            sentiment = \"Negative\"\n",
    "        li = [ [avg,sentiment]]\n",
    "        df_temp = pd.DataFrame(li,columns=col)\n",
    "        df3 = df3.append(df_temp)\n",
    "        #if(avg < -0.5):\n",
    "            #print(i,avg)\n",
    "            #print(\"\\n\\n\\n\\n\\n\\n\")\n",
    "    #if(num == 40):\n",
    "    #    break\n",
    "    num+=1\n",
    "    #print(\"\\n\\n\\n\")\n",
    "print(num)"
   ]
  },
  {
   "cell_type": "code",
   "execution_count": 9,
   "metadata": {
    "collapsed": true
   },
   "outputs": [],
   "source": [
    "#print(df3)\n",
    "#print(df_list)\n",
    "df3 = df3.reset_index(drop=True)\n",
    "#print(df3.head())\n",
    "df_list = df_list.reset_index(drop=True)\n",
    "combine = (df_list.join(df3))"
   ]
  },
  {
   "cell_type": "code",
   "execution_count": 10,
   "metadata": {},
   "outputs": [
    {
     "name": "stdout",
     "output_type": "stream",
     "text": [
      "  augurmsgID backend_name                      repo_link   owner repo  \\\n",
      "0          1       GitHub  https://github.com/nodejs/CTC  nodejs  CTC   \n",
      "1          2       GitHub  https://github.com/nodejs/CTC  nodejs  CTC   \n",
      "2          3       GitHub  https://github.com/nodejs/CTC  nodejs  CTC   \n",
      "3          4       GitHub  https://github.com/nodejs/CTC  nodejs  CTC   \n",
      "4          5       GitHub  https://github.com/nodejs/CTC  nodejs  CTC   \n",
      "\n",
      "                 subject  status category issue_number            timestamp  \\\n",
      "0  Purpose of nodejs/CTC  closed    issue            1  2016-06-09 12:43:54   \n",
      "1  Purpose of nodejs/CTC  closed    issue            1  2016-06-09 12:53:53   \n",
      "2  Purpose of nodejs/CTC  closed    issue            1  2016-06-09 13:34:16   \n",
      "3  Purpose of nodejs/CTC  closed    issue            1  2016-06-09 13:57:58   \n",
      "4  Purpose of nodejs/CTC  closed    issue            1  2016-06-09 13:59:05   \n",
      "\n",
      "    issue_id         user                                               body  \\\n",
      "0  159398443        rvagg  @nodejs/collaborators I'm not sure if this is ...   \n",
      "1  159398443  vkurchatkin             > Core Technical Team (CTC)\\n\\nTypo?\\n   \n",
      "2  159398443        rvagg                       blerh, yes, fixing, thanks\\n   \n",
      "3  159398443   benjamingr  If I want to being an issue to the CTC's atten...   \n",
      "4  159398443   benjamingr  > Issues that Node.js needs to begin consideri...   \n",
      "\n",
      "   score sentiment  \n",
      "0 -0.008  Negative  \n",
      "1  0.087  Positive  \n",
      "2 -0.043  Negative  \n",
      "3  0.034  Positive  \n",
      "4  0.140  Positive  \n"
     ]
    }
   ],
   "source": [
    "print(combine.head())"
   ]
  },
  {
   "cell_type": "code",
   "execution_count": 11,
   "metadata": {
    "collapsed": true
   },
   "outputs": [],
   "source": [
    "combine.to_sql(name='github_issues_sentiment_scores_2',\\\n",
    "               con=db,if_exists='replace',index=False)"
   ]
  },
  {
   "cell_type": "code",
   "execution_count": 12,
   "metadata": {
    "scrolled": false
   },
   "outputs": [
    {
     "name": "stdout",
     "output_type": "stream",
     "text": [
      "(126,)\n",
      "(126,)\n"
     ]
    },
    {
     "data": {
      "image/png": "[encoded data removed]",
      "text/plain": [
       "<Figure size 432x288 with 1 Axes>"
      ]
     },
     "metadata": {},
     "output_type": "display_data"
    },
    {
     "name": "stdout",
     "output_type": "stream",
     "text": [
      "(357,)\n",
      "(357,)\n"
     ]
    },
    {
     "data": {
      "image/png": "[encoded data removed]",
      "text/plain": [
       "<Figure size 432x288 with 1 Axes>"
      ]
     },
     "metadata": {},
     "output_type": "display_data"
    }
   ],
   "source": [
    "repos = combine.groupby('repo_link')\n",
    "x = 0\n",
    "for repo in repos:\n",
    "    fin_dates = []\n",
    "    fin_values = []\n",
    "    dates = []\n",
    "    values = []\n",
    "    mail_list = None\n",
    "    j = 0\n",
    "    rep = (combine.loc[combine['repo_link'] == repo[0]])\n",
    "    grouped = rep.groupby('subject').groups\n",
    "    for group in grouped:\n",
    "        #print(group)\n",
    "        dates = (combine.loc[combine['subject'] == group]['timestamp']).tolist()\n",
    "        values = (combine.loc[combine['subject'] == group]['score']).unique().tolist()\n",
    "        #print(\"Issue number: \",issue_num[0])\n",
    "        x = np.array(dates)\n",
    "        dates = np.unique(x)\n",
    "        dates = [dt.datetime.strptime(d[:10],'%Y-%m-%d').date() for d in x]\n",
    "        #print(dates)\n",
    "        dates1 = [x for x in dates]\n",
    "        values = sum(values[0:len(values)])/len(values)\n",
    "        fin_dates.append(dates1[0])\n",
    "        fin_values.append(values)\n",
    "        num+=1\n",
    "        j+=1\n",
    "    fin_dates = mdates.date2num(fin_dates)\n",
    "    fin_values = np.asarray(fin_values)\n",
    "    print(fin_dates.shape)\n",
    "    print(fin_values.shape)\n",
    "    plot.plot_date(fin_dates, fin_values)\n",
    "    #plot.plot(fin_dates,fin_values)\n",
    "    plot.gcf().autofmt_xdate()\n",
    "    plot.title(\"Issues: \"+ str(repo[0]))\n",
    "    plot.ylabel('Score')\n",
    "    plot.xlabel('Date')\n",
    "    #print(fin_dates)\n",
    "    slope, intercept, r_value, p_value, std_err = stats.linregress(fin_dates,fin_values)\n",
    "    line = slope*fin_dates+intercept\n",
    "    plot.plot(fin_dates,fin_values,'o', fin_dates, line)\n",
    "    #plot.savefig('foo' + str(x) + '.png')\n",
    "    #x+=1\n",
    "    plot.show()"
   ]
  }
 ],
 "metadata": {
  "kernelspec": {
   "display_name": "Python (augur)",
   "language": "python",
   "name": "augur"
  },
  "language_info": {
   "codemirror_mode": {
    "name": "ipython",
    "version": 3
   },
   "file_extension": ".py",
   "mimetype": "text/x-python",
   "name": "python",
   "nbconvert_exporter": "python",
   "pygments_lexer": "ipython3",
   "version": "3.6.5"
  }
 },
 "nbformat": 4,
 "nbformat_minor": 2
}
